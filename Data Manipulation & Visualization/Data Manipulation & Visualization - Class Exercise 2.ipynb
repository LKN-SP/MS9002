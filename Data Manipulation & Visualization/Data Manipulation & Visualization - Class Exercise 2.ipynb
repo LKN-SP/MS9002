{
 "cells": [
  {
   "cell_type": "markdown",
   "id": "a71dd1fe",
   "metadata": {},
   "source": [
    "# Import Necessary Libraries"
   ]
  },
  {
   "cell_type": "code",
   "execution_count": null,
   "id": "4bef109e",
   "metadata": {},
   "outputs": [],
   "source": [
    "import numpy as np\n",
    "import pandas as pd\n",
    "import matplotlib.pyplot as plt"
   ]
  },
  {
   "cell_type": "markdown",
   "id": "122e7210",
   "metadata": {},
   "source": [
    "# 1.0 Line Chart"
   ]
  },
  {
   "cell_type": "markdown",
   "id": "ba18fbe4",
   "metadata": {},
   "source": [
    "### Preparation - Load a DataFrame"
   ]
  },
  {
   "cell_type": "code",
   "execution_count": null,
   "id": "3eb62f28",
   "metadata": {},
   "outputs": [],
   "source": [
    "df = pd.read_csv('Car Sales.csv')\n",
    "df"
   ]
  },
  {
   "cell_type": "markdown",
   "id": "3ba3837f",
   "metadata": {},
   "source": [
    "## 1.1 Make a simple line chart by one array\n",
    "We can use matplotlib.pyplot.plot() function to make a line chart.<br>\n",
    "Note: Moving forward, we will refer \"matplotlib.pyplot\" as \"plt\".\n",
    "\n",
    "We can simply input an array (e.g. a list, a numpy.array, a pandas.Series, etc.) to create one.<br>\n",
    "This array will work as the y-axis and the x-axis will be automatically labelled from 0 onwards."
   ]
  },
  {
   "cell_type": "code",
   "execution_count": null,
   "id": "0a96c6ae",
   "metadata": {},
   "outputs": [],
   "source": [
    "y = df['Sales_in_thousands']\n",
    "\n",
    "plt.plot(y)\n",
    "plt.show()"
   ]
  },
  {
   "cell_type": "markdown",
   "id": "5a395782",
   "metadata": {},
   "source": [
    "## 1.2 Make a simple line chart by 2 arrays\n",
    "We can also input 2 arrays to plt.plot().<br>\n",
    "In this case, the 1st input will be used as the x-axis and the 2nd input will be used as the y-axis."
   ]
  },
  {
   "cell_type": "code",
   "execution_count": null,
   "id": "94144352",
   "metadata": {},
   "outputs": [],
   "source": [
    "x = df['Engine_size']\n",
    "y = df['Horsepower']\n",
    "\n",
    "plt.plot(x, y)\n",
    "plt.show()"
   ]
  },
  {
   "cell_type": "markdown",
   "id": "f31ec39f",
   "metadata": {},
   "source": [
    "We can observe a positive correlation between \"Engine_size\" and \"Horsepower\".<br>\n",
    "But the chart is pretty messy.\n",
    "\n",
    "We should sort the table using \"Engine_size\" (the x-axis) before we plot the line chart so the line does not jump around.<br>"
   ]
  },
  {
   "cell_type": "code",
   "execution_count": null,
   "id": "968901d8",
   "metadata": {},
   "outputs": [],
   "source": [
    "sub_df = df[['Engine_size', 'Horsepower']].sort_values(by='Engine_size')\n",
    "x = sub_df['Engine_size']\n",
    "y = sub_df['Horsepower']\n",
    "\n",
    "plt.plot(x, y)\n",
    "plt.show()"
   ]
  },
  {
   "cell_type": "markdown",
   "id": "40d49a07",
   "metadata": {},
   "source": [
    "Now it looks much better."
   ]
  },
  {
   "cell_type": "markdown",
   "id": "1e3d29a3",
   "metadata": {},
   "source": [
    "We can set the 3rd input as '--' so the line becomes a dash."
   ]
  },
  {
   "cell_type": "code",
   "execution_count": null,
   "id": "c7ba6e7e",
   "metadata": {},
   "outputs": [],
   "source": [
    "plt.plot(x, y, '--')\n",
    "plt.show()"
   ]
  },
  {
   "cell_type": "markdown",
   "id": "9d039697",
   "metadata": {},
   "source": [
    "We can set marker='x' so the line will mark the data points by \"x\"."
   ]
  },
  {
   "cell_type": "code",
   "execution_count": null,
   "id": "e9c4426a",
   "metadata": {},
   "outputs": [],
   "source": [
    "plt.plot(x, y, marker='x')\n",
    "plt.show()"
   ]
  },
  {
   "cell_type": "markdown",
   "id": "98ff2532",
   "metadata": {},
   "source": [
    "# 2.0 Scatter Plot\n",
    "We can use plt.scatter() function to create a scatter plot.\n",
    "We can just take it as a line chart without the line."
   ]
  },
  {
   "cell_type": "code",
   "execution_count": null,
   "id": "e0ededbc",
   "metadata": {},
   "outputs": [],
   "source": [
    "# Since there is no line, we do not need to sort the data\n",
    "x = df['Engine_size']\n",
    "y = df['Horsepower']\n",
    "\n",
    "plt.scatter(x, y)\n",
    "plt.show()"
   ]
  },
  {
   "cell_type": "markdown",
   "id": "8f481983",
   "metadata": {},
   "source": [
    "We can give an input to \"s\" argument to control the size of dots."
   ]
  },
  {
   "cell_type": "code",
   "execution_count": null,
   "id": "5b19c588",
   "metadata": {},
   "outputs": [],
   "source": [
    "plt.scatter(x, y, s=5)\n",
    "plt.show()"
   ]
  },
  {
   "cell_type": "markdown",
   "id": "806c7e0e",
   "metadata": {},
   "source": [
    "We can give an input to \"color\" argument to control the color of dots.<br>\n",
    "The color array should have the same length as the \"x\" array and the \"y\" array."
   ]
  },
  {
   "cell_type": "code",
   "execution_count": null,
   "id": "e950a728",
   "metadata": {},
   "outputs": [],
   "source": [
    "color = df['Vehicle_type'].map({'Passenger': 'blue', 'Car': 'red'})\n",
    "\n",
    "plt.scatter(x, y, s=5, color=color)\n",
    "plt.show()"
   ]
  },
  {
   "cell_type": "markdown",
   "id": "dd62e874",
   "metadata": {},
   "source": [
    "In this case, the color is assigned to each data point.\n",
    "\n",
    "There is an alternative way to create the same plot by splitting data into 2 groups and assign one single color to each group."
   ]
  },
  {
   "cell_type": "code",
   "execution_count": null,
   "id": "01f327fe",
   "metadata": {},
   "outputs": [],
   "source": [
    "sub_df1 = df[df['Vehicle_type'] == 'Passenger']\n",
    "x1 = sub_df1['Engine_size']\n",
    "y1 = sub_df1['Horsepower']\n",
    "\n",
    "sub_df2 = df[df['Vehicle_type'] == 'Car']\n",
    "x2 = sub_df2['Engine_size']\n",
    "y2 = sub_df2['Horsepower']\n",
    "\n",
    "plt.scatter(x1, y1, s=5, color='blue')\n",
    "plt.scatter(x2, y2, s=5, color='red')\n",
    "plt.show()"
   ]
  },
  {
   "cell_type": "markdown",
   "id": "764672ad",
   "metadata": {},
   "source": [
    "# 3.0 Pie Chart"
   ]
  },
  {
   "cell_type": "markdown",
   "id": "4cac308d",
   "metadata": {},
   "source": [
    "Before we make a pie chart, we can use Series.value_counts() method to determine the number of each unique value."
   ]
  },
  {
   "cell_type": "code",
   "execution_count": null,
   "id": "a6671f41",
   "metadata": {},
   "outputs": [],
   "source": [
    "series = df['Manufacturer'].value_counts()\n",
    "series"
   ]
  },
  {
   "cell_type": "markdown",
   "id": "ec8bf53b",
   "metadata": {},
   "source": [
    "Let's create a pie chart to see the porportion ot top 5 manufacturers.\n",
    "\n",
    "We can use plt.pie() function to do that.<br>\n",
    "It takes 2 inputs. The 1st one is the value of each pie, the 2nd one is the label."
   ]
  },
  {
   "cell_type": "code",
   "execution_count": null,
   "id": "e3b4fe65",
   "metadata": {},
   "outputs": [],
   "source": [
    "values = series.iloc[:5]\n",
    "labels = series.iloc[:5].index\n",
    "\n",
    "plt.pie(values, labels=labels)\n",
    "plt.show()"
   ]
  },
  {
   "cell_type": "markdown",
   "id": "ee04c4bc",
   "metadata": {},
   "source": [
    "# 4.0 Bar Chart"
   ]
  },
  {
   "cell_type": "markdown",
   "id": "e7460830",
   "metadata": {},
   "source": [
    "We can use plt.bar() function to create a bar chart.\n",
    "\n",
    "It works simiarly to a pie chart. But the 2 inputs are swapped.<br>\n",
    "The 1st one is label and the 2nd one is the value."
   ]
  },
  {
   "cell_type": "code",
   "execution_count": null,
   "id": "5d8acb19",
   "metadata": {},
   "outputs": [],
   "source": [
    "series = df['Manufacturer'].value_counts()\n",
    "values = series.iloc[:5]\n",
    "labels = series.iloc[:5].index\n",
    "\n",
    "plt.bar(labels, values)\n",
    "plt.show()"
   ]
  },
  {
   "cell_type": "markdown",
   "id": "50bc48b6",
   "metadata": {},
   "source": [
    "We can use plt.barh() function to create a horizontal bar chart. It works the same as plt.bar()"
   ]
  },
  {
   "cell_type": "code",
   "execution_count": null,
   "id": "2e356a70",
   "metadata": {},
   "outputs": [],
   "source": [
    "plt.barh(labels, values)\n",
    "plt.show()"
   ]
  },
  {
   "cell_type": "markdown",
   "id": "3d35f169",
   "metadata": {},
   "source": [
    "# 5.0 Histogram\n",
    "We can use plt.hist() function to create a histogram.<br>\n",
    "It takes 1 input of a numeric array. We can also set the number of bins."
   ]
  },
  {
   "cell_type": "code",
   "execution_count": null,
   "id": "4b7c64e3",
   "metadata": {},
   "outputs": [],
   "source": [
    "series = df['Sales_in_thousands']\n",
    "\n",
    "plt.hist(series, bins=20)"
   ]
  },
  {
   "cell_type": "markdown",
   "id": "1e04a33d",
   "metadata": {},
   "source": [
    "# 6.0 Box Plot\n",
    "We can use plt.boxplot() function to make a boxplot.<br>\n",
    "It takes an array as the input."
   ]
  },
  {
   "cell_type": "code",
   "execution_count": null,
   "id": "30b51458",
   "metadata": {},
   "outputs": [],
   "source": [
    "series = df['Sales_in_thousands']\n",
    "\n",
    "plt.boxplot(series)\n",
    "plt.show()"
   ]
  },
  {
   "cell_type": "markdown",
   "id": "fe4e41df",
   "metadata": {},
   "source": [
    "We can set vert=0 to make a horizontal boxplot."
   ]
  },
  {
   "cell_type": "code",
   "execution_count": null,
   "id": "a82bb524",
   "metadata": {},
   "outputs": [],
   "source": [
    "plt.boxplot(series, vert=0)\n",
    "plt.show()"
   ]
  },
  {
   "cell_type": "markdown",
   "id": "8370fa95",
   "metadata": {},
   "source": [
    "We can input a list of arrays.<br>\n",
    "It will create multiple boxplots in parallel."
   ]
  },
  {
   "cell_type": "code",
   "execution_count": null,
   "id": "574b27e6",
   "metadata": {},
   "outputs": [],
   "source": [
    "labels = ['Toyota', 'Ford', 'Dodge']\n",
    "data = [df['Sales_in_thousands'][df['Manufacturer'] == label] for label in labels]\n",
    "\n",
    "plt.boxplot(data, labels=labels)\n",
    "plt.show()"
   ]
  },
  {
   "cell_type": "markdown",
   "id": "234ca52d-dae9-49c5-b205-db062439c4a0",
   "metadata": {},
   "source": [
    "# 7.0 Subplots"
   ]
  },
  {
   "cell_type": "markdown",
   "id": "8149a819-e6ef-4ceb-bc2f-ea1e901cc533",
   "metadata": {},
   "source": [
    "We can use plt.subplots() function to create a matrix of visualization.<br>\n",
    "The matrix can be 1D or 2D.\n",
    "\n",
    "Let's try 1D first."
   ]
  },
  {
   "cell_type": "code",
   "execution_count": null,
   "id": "b0657977-1ec5-4994-8dc2-801ae21682f2",
   "metadata": {},
   "outputs": [],
   "source": [
    "fig, axs = plt.subplots(1, 3, figsize=(16, 4))\n",
    "\n",
    "axs[0].scatter(df['Engine_size'], df['Horsepower'])\n",
    "axs[1].hist(df['Sales_in_thousands'], bins=20)\n",
    "\n",
    "labels = ['Toyota', 'Ford', 'Dodge']\n",
    "data = [df['Sales_in_thousands'][df['Manufacturer'] == label] for label in labels]\n",
    "axs[2].boxplot(data, labels=labels)\n",
    "\n",
    "plt.show()"
   ]
  },
  {
   "cell_type": "markdown",
   "id": "227bc143-739c-46b2-8042-022cbc0da974",
   "metadata": {},
   "source": [
    "In plt.subplots() function, the first integer input is the number of rows and the second integer input is the number of columns.<br>\n",
    "You can imagine the subplots as a \"list\" of plots. It is subscriptable by the index.\n",
    "\n",
    "Now, we can try another way."
   ]
  },
  {
   "cell_type": "code",
   "execution_count": null,
   "id": "11767da2-52fa-420b-afed-bf42edc875a4",
   "metadata": {},
   "outputs": [],
   "source": [
    "fig, axs = plt.subplots(3, 1, figsize=(12, 9))\n",
    "\n",
    "axs[0].scatter(df['Engine_size'], df['Horsepower'])\n",
    "axs[1].hist(df['Sales_in_thousands'], bins=20)\n",
    "\n",
    "labels = ['Toyota', 'Ford', 'Dodge']\n",
    "data = [df['Sales_in_thousands'][df['Manufacturer'] == label] for label in labels]\n",
    "axs[2].boxplot(data, labels=labels)\n",
    "\n",
    "plt.show()"
   ]
  },
  {
   "cell_type": "markdown",
   "id": "85a4749f-a7bc-45ad-9e1f-36c322cca334",
   "metadata": {},
   "source": [
    "It works just the same, except it is transposed.\n",
    "\n",
    "Now, let's try 2D."
   ]
  },
  {
   "cell_type": "code",
   "execution_count": null,
   "id": "b8f163ab-a324-4ad9-8efa-ea2736fcdbc1",
   "metadata": {},
   "outputs": [],
   "source": [
    "fig, axs = plt.subplots(2, 2, figsize=(12, 9))\n",
    "\n",
    "axs[0][0].scatter(x = df['Engine_size'], y = df['Horsepower'])\n",
    "axs[0][1].hist(df['Sales_in_thousands'], bins=20)\n",
    "\n",
    "series = df['Manufacturer'].value_counts()\n",
    "values = series.iloc[:5]\n",
    "labels = series.iloc[:5].index\n",
    "axs[1][0].bar(labels, values)\n",
    "\n",
    "labels = ['Toyota', 'Ford', 'Dodge']\n",
    "data = [df['Sales_in_thousands'][df['Manufacturer'] == label] for label in labels]\n",
    "axs[1][1].boxplot(data, labels=labels)\n",
    "\n",
    "plt.show()"
   ]
  },
  {
   "cell_type": "markdown",
   "id": "65723fca-8bac-4cb0-9194-2a9a4acea2fa",
   "metadata": {},
   "source": [
    "When we have a 2D visualization matrix, we need to input 2 indexes to set a plot.<br>\n",
    "The first index is the row index and the second index is the column index."
   ]
  },
  {
   "cell_type": "code",
   "execution_count": null,
   "id": "3cb96cfe-8e41-468a-a748-1ee500cd2230",
   "metadata": {},
   "outputs": [],
   "source": []
  }
 ],
 "metadata": {
  "kernelspec": {
   "display_name": "Python 3 (ipykernel)",
   "language": "python",
   "name": "python3"
  },
  "language_info": {
   "codemirror_mode": {
    "name": "ipython",
    "version": 3
   },
   "file_extension": ".py",
   "mimetype": "text/x-python",
   "name": "python",
   "nbconvert_exporter": "python",
   "pygments_lexer": "ipython3",
   "version": "3.11.5"
  }
 },
 "nbformat": 4,
 "nbformat_minor": 5
}
