{
 "cells": [
  {
   "cell_type": "markdown",
   "id": "3537cb04",
   "metadata": {},
   "source": [
    "# Import Necessary Libraries"
   ]
  },
  {
   "cell_type": "code",
   "execution_count": null,
   "id": "834979f0",
   "metadata": {},
   "outputs": [],
   "source": [
    "import numpy as np\n",
    "import pandas as pd\n",
    "import matplotlib.pyplot as plt"
   ]
  },
  {
   "cell_type": "markdown",
   "id": "08039821",
   "metadata": {},
   "source": [
    "# A Versatile Method\n",
    "<b><font color=\"orange\" size=5>★</font> New Method:</b> pandas.Series.map()\n",
    "\n",
    "Before we begin, we are going to introduce a versatile method to transform the data.\n",
    "\n",
    "We can use Series.map() method.<br>\n",
    "It takes a function as the input.<br>\n",
    "It will apply the function to all values in the Series.\n",
    "\n",
    "Let's create a series for the demonstration."
   ]
  },
  {
   "cell_type": "code",
   "execution_count": null,
   "id": "cdd37ab7",
   "metadata": {},
   "outputs": [],
   "source": [
    "data = {'before': list(range(101, 111))}\n",
    "df = pd.DataFrame(data)\n",
    "df"
   ]
  },
  {
   "cell_type": "markdown",
   "id": "19767dee",
   "metadata": {},
   "source": [
    "### Demo 1\n",
    "Let's do this operation: Increase all odd values by 1 and all even values by 2.\n",
    "\n",
    "Firstly, we can write a function for this operation."
   ]
  },
  {
   "cell_type": "code",
   "execution_count": null,
   "id": "dab9139e",
   "metadata": {},
   "outputs": [],
   "source": [
    "def custom_function(x):\n",
    "    if x % 2 == 1:\n",
    "        x += 1\n",
    "    elif x % 2 == 0:\n",
    "        x += 2\n",
    "    return x"
   ]
  },
  {
   "cell_type": "markdown",
   "id": "5cb41bb9",
   "metadata": {},
   "source": [
    "Then we apply this function as the input to Series.map()."
   ]
  },
  {
   "cell_type": "code",
   "execution_count": null,
   "id": "0c99023c",
   "metadata": {},
   "outputs": [],
   "source": [
    "df['after'] = df['before'].map(custom_function)\n",
    "df"
   ]
  },
  {
   "cell_type": "markdown",
   "id": "49e97581",
   "metadata": {},
   "source": [
    "It works exactly like we want it to.\n",
    "\n",
    "If you are a proficient Python user, we can make your code more efficient like this:"
   ]
  },
  {
   "cell_type": "code",
   "execution_count": null,
   "id": "989b5c0d",
   "metadata": {},
   "outputs": [],
   "source": [
    "df['after'] = df['before'].map(lambda x: x + 1 if x % 2 == 1 else x + 2)\n",
    "df"
   ]
  },
  {
   "cell_type": "markdown",
   "id": "f1741777",
   "metadata": {},
   "source": [
    "### Demo 2\n",
    "Let's do this operation: Conver values below 106 to \"low\" and values equal to or above 106 to \"high\".\n",
    "\n",
    "A simple way:"
   ]
  },
  {
   "cell_type": "code",
   "execution_count": null,
   "id": "04fcbe6b",
   "metadata": {},
   "outputs": [],
   "source": [
    "def custom_function(x):\n",
    "    if x < 106:\n",
    "        return 'low'\n",
    "    elif x >= 106:\n",
    "        return 'high'\n",
    "\n",
    "df['after'] = df['before'].map(custom_function)\n",
    "df"
   ]
  },
  {
   "cell_type": "markdown",
   "id": "106bc410",
   "metadata": {},
   "source": [
    "An efficient way:"
   ]
  },
  {
   "cell_type": "code",
   "execution_count": null,
   "id": "b892a82c",
   "metadata": {},
   "outputs": [],
   "source": [
    "df['after'] = df['before'].map(lambda x: 'low' if x < 106 else 'high')\n",
    "df"
   ]
  },
  {
   "cell_type": "markdown",
   "id": "92d2bfb6",
   "metadata": {},
   "source": [
    "# 1.0 String Extraction"
   ]
  },
  {
   "cell_type": "code",
   "execution_count": null,
   "id": "57cbfdc9",
   "metadata": {},
   "outputs": [],
   "source": [
    "df = pd.read_csv('Groceries.csv')\n",
    "df"
   ]
  },
  {
   "cell_type": "markdown",
   "id": "47a4c03f",
   "metadata": {},
   "source": [
    "### <font color=darkred><b>Task</b><font>\n",
    "The first 2 digits in \"Member_number\" is the area code.<br>\n",
    "Extract them into a new column called  \"Area\"."
   ]
  },
  {
   "cell_type": "code",
   "execution_count": null,
   "id": "a9bd4d4d",
   "metadata": {},
   "outputs": [],
   "source": [
    "# Method 1\n",
    "# Although \"Member_number\" does not have a numeric meaning\n",
    "# but we can make use of the numeric property to extract the first 2 digit\n",
    "# How? Simply divide \"Member_number\" column by 100 and round down (floor division)\n",
    "\n",
    "# To use this method, we must ensure all \"Member_number\"s are 4-digit and there is no leading 0.\n",
    "# If not, we will have to use Method 2 below\n",
    "\n",
    "# Make a copy of df\n",
    "df_copy = df.copy()\n",
    "\n",
    "df_copy['Area'] = df['Member_number'] // 100\n",
    "df_copy"
   ]
  },
  {
   "cell_type": "code",
   "execution_count": null,
   "id": "b9a5c204",
   "metadata": {},
   "outputs": [],
   "source": [
    "# Method 2\n",
    "# Convert \"Member_number\" into string and extract the first 2 digits.\n",
    "\n",
    "# Make a copy of df\n",
    "df_copy = df.copy()\n",
    "\n",
    "df_copy['Member_number'] = df_copy['Member_number'].astype(str)\n",
    "df_copy['Area'] = df_copy['Member_number'].map(lambda x: x[:2])\n",
    "df_copy"
   ]
  },
  {
   "cell_type": "markdown",
   "id": "aa820d5c",
   "metadata": {},
   "source": [
    "# 2.0 Smoothing"
   ]
  },
  {
   "cell_type": "code",
   "execution_count": null,
   "id": "07e1a38e",
   "metadata": {},
   "outputs": [],
   "source": [
    "df = pd.read_csv('Car Sales.csv')\n",
    "df"
   ]
  },
  {
   "cell_type": "code",
   "execution_count": null,
   "id": "500c9b20",
   "metadata": {},
   "outputs": [],
   "source": [
    "plt.figure(figsize=(16, 4))\n",
    "plt.plot(df['Sales_in_thousands'])\n",
    "plt.show()"
   ]
  },
  {
   "cell_type": "markdown",
   "id": "e31668be",
   "metadata": {},
   "source": [
    "### <font color=darkred><b>Task</b><font>\n",
    "Compute the moving average of \"Sales_in_thousands\".<br>\n",
    "Use a rolling size of 5.\n",
    "\n",
    "<b><font color=\"orange\" size=5>★</font> New Method:</b> pandas.Series.rolling()<br>\n",
    "The pandas.Series object has a method, rolling(), to group the values in small rolling windows.<br>\n",
    "It takes an integer input as the rolling size.<br>\n",
    "rolling() is seldom used alone. An aggregation method should be used after rolling()."
   ]
  },
  {
   "cell_type": "code",
   "execution_count": null,
   "id": "f114c179",
   "metadata": {},
   "outputs": [],
   "source": [
    "ma_sales = df['Sales_in_thousands'].rolling(5).mean()\n",
    "ma_sales"
   ]
  },
  {
   "cell_type": "markdown",
   "id": "3f98d7c0",
   "metadata": {},
   "source": [
    "When we are using a rolling size of 10, the first 9 entries will not have enough data to compute the moving average.<br>\n",
    "Hence, there are missing values.\n",
    "\n",
    "By default, the rolling method uses a backward window.<br>\n",
    "That means, for each entry, it takes the last 10 values (including itself) to compute the moving average.\n",
    "\n",
    "We can use a centre window if we like."
   ]
  },
  {
   "cell_type": "code",
   "execution_count": null,
   "id": "144f43fa",
   "metadata": {},
   "outputs": [],
   "source": [
    "ma_sales_center = df['Sales_in_thousands'].rolling(5, center=True).mean()\n",
    "ma_sales_center"
   ]
  },
  {
   "cell_type": "code",
   "execution_count": null,
   "id": "258d7a9f",
   "metadata": {},
   "outputs": [],
   "source": [
    "plt.figure(figsize=(16, 4))\n",
    "plt.plot(df['Sales_in_thousands'], color='blue')\n",
    "plt.plot(ma_sales, linewidth=3, color='orange')\n",
    "plt.plot(ma_sales_center, linewidth=3, color='green')\n",
    "plt.show()"
   ]
  },
  {
   "cell_type": "markdown",
   "id": "c387613d",
   "metadata": {},
   "source": [
    "When we use a center window, the moving average line will be shifted to the left a little bit."
   ]
  },
  {
   "cell_type": "markdown",
   "id": "f130e3b2",
   "metadata": {},
   "source": [
    "# 3.0 Discretization"
   ]
  },
  {
   "cell_type": "code",
   "execution_count": null,
   "id": "83825aa0",
   "metadata": {},
   "outputs": [],
   "source": [
    "df = pd.read_csv('discretization.csv')\n",
    "df"
   ]
  },
  {
   "cell_type": "markdown",
   "id": "77c59928",
   "metadata": {},
   "source": [
    "### <font color=darkred><b>Task 1</b><font>\n",
    "Convert \"age\" according to the following rules:\n",
    "\n",
    "    -  0 <= age < 10   =>   \"0 to 9\"\n",
    "    - 10 <= age < 20   =>   \"10 to 19\"\n",
    "    - 20 <= age < 30   =>   \"20 to 29\"\n",
    "    - ...\n",
    "\n",
    "The rule is a little complex so we may not be able to write it out in one line as a lambda function.<br>\n",
    "Hence, we are going to write a custom function."
   ]
  },
  {
   "cell_type": "code",
   "execution_count": null,
   "id": "20a4ec13",
   "metadata": {},
   "outputs": [],
   "source": [
    "def convert_age(age):\n",
    "    if 0 <= age < 10:\n",
    "        text = '0 to 9'\n",
    "    elif 10 <= age < 20:\n",
    "        text = '10 to 19'\n",
    "    \n",
    "    '''\n",
    "    '''\n",
    "    return text"
   ]
  },
  {
   "cell_type": "markdown",
   "id": "84e92ac8",
   "metadata": {},
   "source": [
    "Hang on, this is not a very elegent way to write the code.<br>\n",
    "Let's try another one."
   ]
  },
  {
   "cell_type": "code",
   "execution_count": null,
   "id": "4b60c94f",
   "metadata": {},
   "outputs": [],
   "source": [
    "def convert_age(age):\n",
    "    # first, we get the \"floor\" of the age\n",
    "    # this will round down the age to the nearest multiple of 10\n",
    "    # That will be the lower bound\n",
    "    floor = age // 10 * 10\n",
    "    \n",
    "    # Then the upper bound is simply to add 9 from the floor\n",
    "    ceil = floor + 9\n",
    "    \n",
    "    # Now we format the text\n",
    "    text = '{} to {}'.format(floor, ceil)\n",
    "    return text"
   ]
  },
  {
   "cell_type": "markdown",
   "id": "37dc2dba",
   "metadata": {},
   "source": [
    "Now, let's apply it!"
   ]
  },
  {
   "cell_type": "code",
   "execution_count": null,
   "id": "bf13631a",
   "metadata": {},
   "outputs": [],
   "source": [
    "df_copy = df.copy()\n",
    "\n",
    "df_copy['age-category'] = df_copy['age'].map(convert_age)\n",
    "df_copy"
   ]
  },
  {
   "cell_type": "markdown",
   "id": "c5290fa1",
   "metadata": {},
   "source": [
    "We can still do it by a lambda function in one line."
   ]
  },
  {
   "cell_type": "markdown",
   "id": "943b0ace-76c7-4a5f-b631-75ce3589e54f",
   "metadata": {},
   "source": [
    "### <font color=darkred><b>Task 2</b><font>\n",
    "Re-perform the last cell with a lambda function."
   ]
  },
  {
   "cell_type": "code",
   "execution_count": null,
   "id": "09e4ea79-64b6-4b2f-ba97-81e74029ab9a",
   "metadata": {},
   "outputs": [],
   "source": [
    "# Re-initialize df just in case they are changed\n",
    "# Do NOT change this cell\n",
    "\n",
    "df = pd.read_csv('discretization.csv')\n",
    "df_copy = df.copy()"
   ]
  },
  {
   "cell_type": "code",
   "execution_count": null,
   "id": "9d8091b1",
   "metadata": {},
   "outputs": [],
   "source": [
    "lambda_function = lambda _\n",
    "df_copy['age-category'] = df_copy['age'].map(lambda_function)\n",
    "df_copy"
   ]
  },
  {
   "cell_type": "markdown",
   "id": "30437dea-f107-48f8-846f-86d2565e29ac",
   "metadata": {},
   "source": [
    "### <font color=darkred><b>Task 3</b><font>\n",
    "Convert \"hours-per-week\" to 'high' if the value is larger than 30, to 'low' otherwise."
   ]
  },
  {
   "cell_type": "code",
   "execution_count": null,
   "id": "02d8f7cf-36b0-4c4f-8d9b-2637845c4fb9",
   "metadata": {},
   "outputs": [],
   "source": [
    "# Re-initialize df just in case they are changed\n",
    "# Do NOT change this cell\n",
    "\n",
    "df = pd.read_csv('discretization.csv')\n",
    "df_copy = df.copy()"
   ]
  },
  {
   "cell_type": "code",
   "execution_count": null,
   "id": "78641a4c",
   "metadata": {},
   "outputs": [],
   "source": [
    "lambda_function = lambda _\n",
    "df_copy['hours-per-week-category'] = df_copy['hours-per-week'].map(lambda_function)\n",
    "df_copy"
   ]
  },
  {
   "cell_type": "markdown",
   "id": "0abcd7bd",
   "metadata": {},
   "source": [
    "# 4.0 Generalization"
   ]
  },
  {
   "cell_type": "code",
   "execution_count": null,
   "id": "57baaa4d",
   "metadata": {},
   "outputs": [],
   "source": [
    "df = pd.read_csv('Generalization.csv')\n",
    "df"
   ]
  },
  {
   "cell_type": "markdown",
   "id": "9b110cd1",
   "metadata": {},
   "source": [
    "### <font color=darkred><b>Task 1</b><font>\n",
    "Extract the unit number from \"Address\".<br>\n",
    "The unit number should have the format as \"#xx-xxxx\".\n",
    "\n",
    "Firstly, we need to identify the symbol to indicate the unit number.<br>\n",
    "It always starts with \"#\" sign.<br>\n",
    "Then, the \" \" (space) marks the end of the unit number.\n",
    "\n",
    "Let's create 2 custom functions."
   ]
  },
  {
   "cell_type": "code",
   "execution_count": null,
   "id": "61491238",
   "metadata": {},
   "outputs": [],
   "source": [
    "# Function 1: extract text from \"#\" sign onwards\n",
    "function1 = lambda x: x[x.index('#'):]\n",
    "\n",
    "# Function 2: extract text until \" \" sign\"\n",
    "function2 = lambda x: x[:x.index(' ')]"
   ]
  },
  {
   "cell_type": "markdown",
   "id": "d22ebc84",
   "metadata": {},
   "source": [
    "We can apply 2 functions consecutively."
   ]
  },
  {
   "cell_type": "code",
   "execution_count": null,
   "id": "82d7e6b4",
   "metadata": {},
   "outputs": [],
   "source": [
    "df_copy = df.copy()\n",
    "df_copy['unit_number'] = df_copy['Address'].map(function1).map(function2)\n",
    "df_copy"
   ]
  },
  {
   "cell_type": "markdown",
   "id": "c1e7cfad",
   "metadata": {},
   "source": [
    "### <font color=darkred><b>Task 2</b><font>\n",
    "Extract the postal code from \"Address\"\n",
    "\n",
    "This is relatively simple. The postal code is always written at the end of the address and the postal code in Singapore has 6 digits."
   ]
  },
  {
   "cell_type": "code",
   "execution_count": null,
   "id": "a348149b",
   "metadata": {},
   "outputs": [],
   "source": [
    "lambda_function = lambda _\n",
    "df_copy['postal_code'] = df_copy['Address'].map(lambda_function)\n",
    "df_copy"
   ]
  },
  {
   "cell_type": "markdown",
   "id": "879d3bbd",
   "metadata": {},
   "source": [
    "# 5.0 Attribute Construction"
   ]
  },
  {
   "cell_type": "code",
   "execution_count": null,
   "id": "0ec65e15",
   "metadata": {},
   "outputs": [],
   "source": [
    "df = pd.read_csv('Superstore.csv')\n",
    "df"
   ]
  },
  {
   "cell_type": "markdown",
   "id": "ed68be15",
   "metadata": {},
   "source": [
    "### <font color=darkred><b>Task 1</b><font>\n",
    "Create a variable, \"DateDiff\", by getting the difference in days between \"Ship Date\" and \"Order Date\".<br>\n",
    "\"Ship Date\" should be no earlier than \"Order Date\"."
   ]
  },
  {
   "cell_type": "markdown",
   "id": "187ab6d0",
   "metadata": {},
   "source": [
    "Firstly, let's check the date type of \"Ship Date\" (or \"Order Date\")."
   ]
  },
  {
   "cell_type": "code",
   "execution_count": null,
   "id": "7a4a9980",
   "metadata": {},
   "outputs": [],
   "source": [
    "df_copy = df.copy()\n",
    "df_copy['Ship Date']"
   ]
  },
  {
   "cell_type": "markdown",
   "id": "20a5955f",
   "metadata": {},
   "source": [
    "The data type is \"object\". We can't use it for mathematical operation.\n",
    "\n",
    "We need to convert it to a \"datetime\" object.<br>\n",
    "We can use pd.to_datetime() function to do that.<br>\n",
    "We need to configure the format according to our date format in the dataset."
   ]
  },
  {
   "cell_type": "code",
   "execution_count": null,
   "id": "2581431e",
   "metadata": {},
   "outputs": [],
   "source": [
    "df_copy['Ship Date'] = pd.to_datetime(df_copy['Ship Date'], format='%d/%m/%Y')\n",
    "df_copy['Ship Date']"
   ]
  },
  {
   "cell_type": "markdown",
   "id": "379e31bd",
   "metadata": {},
   "source": [
    "Then we do the same for \"Order Date\"."
   ]
  },
  {
   "cell_type": "code",
   "execution_count": null,
   "id": "2fdb9224",
   "metadata": {},
   "outputs": [],
   "source": [
    "df_copy['Order Date'] = pd.to_datetime(df_copy['Order Date'], format='%d/%m/%Y')\n",
    "df_copy['Order Date']"
   ]
  },
  {
   "cell_type": "markdown",
   "id": "238193d3",
   "metadata": {},
   "source": [
    "As our data are in the correct format now, we can apply mathematical operation to them now."
   ]
  },
  {
   "cell_type": "code",
   "execution_count": null,
   "id": "bd4803e3",
   "metadata": {},
   "outputs": [],
   "source": [
    "df_copy['Ship Date'] - df_copy['Order Date']"
   ]
  },
  {
   "cell_type": "markdown",
   "id": "70631b4b",
   "metadata": {},
   "source": [
    "If we do a substraction on \"datetime\" objects, we will get \"timedelta\" objects.\n",
    "\n",
    "We can see that, there is \"days\" in the value.\n",
    "If we only want to keep the numeric part, we can call .dt.days attribute after "
   ]
  },
  {
   "cell_type": "code",
   "execution_count": null,
   "id": "e5dab3ba",
   "metadata": {},
   "outputs": [],
   "source": [
    "(df_copy['Ship Date'] - df_copy['Order Date']).dt.days"
   ]
  },
  {
   "cell_type": "markdown",
   "id": "bc9d711e",
   "metadata": {},
   "source": [
    "Now, we can save it as a new column."
   ]
  },
  {
   "cell_type": "code",
   "execution_count": null,
   "id": "ddf2447c",
   "metadata": {},
   "outputs": [],
   "source": [
    "# Scroll to the right side to see the new column.\n",
    "df_copy['DateDiff'] = (df_copy['Ship Date'] - df_copy['Order Date']).dt.days\n",
    "df_copy"
   ]
  },
  {
   "cell_type": "markdown",
   "id": "d427c21d",
   "metadata": {},
   "source": [
    "### <font color=darkred><b>Task 2</b><font>\n",
    "Create a column, \"Total_Sales\", by this formula:\n",
    "\n",
    "    Total_Sales = (Sales * Quantity) * (1 - Discount)\n",
    "    \n",
    "These variables are all in numeric format.<br>\n",
    "We can apply mathematical operation on them directly."
   ]
  },
  {
   "cell_type": "code",
   "execution_count": null,
   "id": "81f561db",
   "metadata": {},
   "outputs": [],
   "source": [
    "# Scroll to the right side to see the new column.\n",
    "df_copy['Total_Sales'] = _\n",
    "df_copy"
   ]
  },
  {
   "cell_type": "markdown",
   "id": "fdb7ce05",
   "metadata": {},
   "source": [
    "### <font color=darkred><b>Task 3</b><font>\n",
    "Create a column, \"Average_State_Temperature\", by mapping the follow values to \"State\".\n",
    "\n",
    "    - Delaware: 12.9\n",
    "    - Louisiana: 19.1\n",
    "    - South Carolina: 16.9\n",
    "    - Ohio: 10.4\n",
    "    - Oregon: 9.1\n",
    "    - Arizona: 15.7\n",
    "\n",
    "For the states not listed above, set the value to <b>None</b>.\n",
    "\n",
    "Let's take a look at \"State\" first."
   ]
  },
  {
   "cell_type": "code",
   "execution_count": null,
   "id": "7d567f28",
   "metadata": {},
   "outputs": [],
   "source": [
    "df_copy['State']"
   ]
  },
  {
   "cell_type": "code",
   "execution_count": null,
   "id": "470345bd",
   "metadata": {},
   "outputs": [],
   "source": [
    "mapping_dictionary = {'Delaware': 12.9,\n",
    "                      'Lousiana': 19.1,\n",
    "                      'South Carolina': 16.9,\n",
    "                      'Ohio': 10.4,\n",
    "                      'Oregon': 9.1,\n",
    "                      'Arizona': 15.7}\n",
    "df_copy['Average_State_Temperature'] = df_copy['State'].map(mapping_dictionary)\n",
    "df_copy['Average_State_Temperature']"
   ]
  },
  {
   "cell_type": "markdown",
   "id": "082b0ef1",
   "metadata": {},
   "source": [
    "We can't see the change as there is no state in the list in the top and the bottom 5 rows.<br>\n",
    "We need to apply a filter to see it."
   ]
  },
  {
   "cell_type": "code",
   "execution_count": null,
   "id": "9addaae9",
   "metadata": {},
   "outputs": [],
   "source": [
    "mask = df_copy['State'].isin(mapping_dictionary.keys())\n",
    "df_copy[mask][['State', 'Average_State_Temperature']]"
   ]
  },
  {
   "cell_type": "markdown",
   "id": "8c464cbc",
   "metadata": {},
   "source": [
    "# 6.0 Scaling"
   ]
  },
  {
   "cell_type": "code",
   "execution_count": null,
   "id": "aff67666",
   "metadata": {},
   "outputs": [],
   "source": [
    "df = pd.read_csv('Abalone.csv', header=None)\n",
    "df.columns = ['Sex', 'Length', 'Diameter', 'Height', 'Whole Weight',\n",
    "              'Shucked Weight', 'Viscera Weight', 'Shell Weight', 'Rings']\n",
    "df"
   ]
  },
  {
   "cell_type": "code",
   "execution_count": null,
   "id": "b1c00f5d",
   "metadata": {},
   "outputs": [],
   "source": [
    "print(df['Rings'].describe())\n",
    "\n",
    "plt.figure(figsize=(16,4))\n",
    "df['Rings'].hist(bins=20)\n",
    "plt.show()"
   ]
  },
  {
   "cell_type": "markdown",
   "id": "b31ec91b",
   "metadata": {},
   "source": [
    "We can see that, \"Rings\" are distributed around 10, ranging from 3 to 23 approximately."
   ]
  },
  {
   "cell_type": "markdown",
   "id": "3db861a1",
   "metadata": {},
   "source": [
    "### <font color=darkred><b>Task 1</b><font>\n",
    "Scale it down by min-max normalization by\n",
    "    \n",
    "    x_new = (x_old - minimum) / (maximum - minimum)\n",
    "    \n",
    "Scaled data will fall between 0 to 1, where 0 and 1 corresponds to the minimum and the maximum respectively."
   ]
  },
  {
   "cell_type": "code",
   "execution_count": null,
   "id": "50e29801",
   "metadata": {},
   "outputs": [],
   "source": [
    "df_copy = df.copy()\n",
    "df_copy['Rings_scaled'] = _"
   ]
  },
  {
   "cell_type": "code",
   "execution_count": null,
   "id": "745a5071",
   "metadata": {},
   "outputs": [],
   "source": [
    "print(df_copy['Rings_scaled'].describe())\n",
    "\n",
    "plt.figure(figsize=(16,4))\n",
    "df_copy['Rings_scaled'].hist(bins=20)\n",
    "plt.show()"
   ]
  },
  {
   "cell_type": "markdown",
   "id": "cc90b4df",
   "metadata": {},
   "source": [
    "We can see that, now \"Rings_scaled\" are distributed around 0.3, ranging from 0 to 1."
   ]
  },
  {
   "cell_type": "markdown",
   "id": "768295cd",
   "metadata": {},
   "source": [
    "### <font color=darkred><b>Task 2</b><font>\n",
    "Scale it down by z-score standardization by\n",
    "    \n",
    "    x_new = (x_old - mean) / standard_deviation\n",
    "    \n",
    "Scaled data will fall around 0."
   ]
  },
  {
   "cell_type": "code",
   "execution_count": null,
   "id": "a170dfb5",
   "metadata": {},
   "outputs": [],
   "source": [
    "df_copy = df.copy()\n",
    "df_copy['Rings_scaled'] = _"
   ]
  },
  {
   "cell_type": "code",
   "execution_count": null,
   "id": "b8688290",
   "metadata": {},
   "outputs": [],
   "source": [
    "print(df_copy['Rings_scaled'].describe())\n",
    "\n",
    "plt.figure(figsize=(16,4))\n",
    "df_copy['Rings_scaled'].hist(bins=20)\n",
    "plt.show()"
   ]
  },
  {
   "cell_type": "markdown",
   "id": "6e8d0a9d",
   "metadata": {},
   "source": [
    "We can see that, now \"Rings_scaled\" are distributed around 0."
   ]
  },
  {
   "cell_type": "code",
   "execution_count": null,
   "id": "5192937a",
   "metadata": {},
   "outputs": [],
   "source": []
  },
  {
   "cell_type": "code",
   "execution_count": null,
   "id": "67222a0d-29d3-4338-83ca-dbc625abe2f4",
   "metadata": {},
   "outputs": [],
   "source": []
  }
 ],
 "metadata": {
  "kernelspec": {
   "display_name": "Python 3 (ipykernel)",
   "language": "python",
   "name": "python3"
  },
  "language_info": {
   "codemirror_mode": {
    "name": "ipython",
    "version": 3
   },
   "file_extension": ".py",
   "mimetype": "text/x-python",
   "name": "python",
   "nbconvert_exporter": "python",
   "pygments_lexer": "ipython3",
   "version": "3.11.5"
  }
 },
 "nbformat": 4,
 "nbformat_minor": 5
}
