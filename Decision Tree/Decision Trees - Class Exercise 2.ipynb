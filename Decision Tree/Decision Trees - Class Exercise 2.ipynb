{
 "cells": [
  {
   "cell_type": "markdown",
   "id": "69d7444d",
   "metadata": {},
   "source": [
    "# Decision Trees - Class Exercise 2"
   ]
  },
  {
   "cell_type": "markdown",
   "id": "c3ecd1fb",
   "metadata": {},
   "source": [
    "## Introduction\n",
    "\n",
    "Customer churn is a major problem and one of the most important concerns for large companies. Due to the direct impact on the revenues generated, especially in the telecommunications field, companies are seeking to develop means to predict potential customers that will churn. Therefore, finding factors that correlate with customer churn is important for companies to take necessary actions to reduce this churn.\n",
    "\n",
    "The data set includes information about:\n",
    "* Customers who left within the last month – this column is called Churn\n",
    "* Services that each customer signed up for – phone, multiple lines, internet, online security, online backup, device protection, tech support, and streaming TV and movies\n",
    "* Customer account information – how long they have been a customer, contract, payment method, paperless billing, monthly charges, and total charges\n",
    "* Demographic information about customers – gender, age range, and if they have partners and dependents\n",
    "\n",
    "Our goal is to build a decision tree a model to predict customer churn behaviour to retain customers."
   ]
  },
  {
   "cell_type": "markdown",
   "id": "ca375494",
   "metadata": {},
   "source": [
    "## Metadata\n",
    "\n",
    "| Variables          | Description                                                     |\n",
    "|--------------------|-----------------------------------------------------------------|\n",
    "| customerID         | Customer ID                                                     |\n",
    "| gender             | Whether the customer is a male or a female                      |\n",
    "| SeniorCitizen      | Whether the customer is a senior citizen or not (1 = yes, 0 = no) |\n",
    "| Partner            | Whether the customer has a partner or not (Yes, No)             |\n",
    "| Dependents         | Whether the customer has dependents or not (Yes, No)            |\n",
    "| tenure             | Number of months the customer has stayed with the company       |\n",
    "| PhoneService       | Whether the customer has a phone service or not (Yes, No)       |\n",
    "| MultipleLines      | Whether the customer has multiple lines or not (Yes, No, No phone service) |\n",
    "| InternetService    | Customer’s internet service provider (DSL, Fiber optic, No)     |\n",
    "| OnlineSecurity     | Whether the customer has online security or not (Yes, No, No internet service) |\n",
    "| OnlineBackup       | Whether the customer has online backup or not (Yes, No, No internet service) |\n",
    "| DeviceProtection   | Whether the customer has device protection or not (Yes, No, No internet service) |\n",
    "| TechSupport        | Whether the customer has tech support or not (Yes, No, No internet service) |\n",
    "| StreamingTV        | Whether the customer has streaming TV or not (Yes, No, No internet service) |\n",
    "| StreamingMovies    | Whether the customer has streaming movies or not (Yes, No, No internet service) |\n",
    "| Contract           | The contract term of the customer (Month-to-month, One year, Two year) |\n",
    "| PaperlessBilling   | Whether the customer has paperless billing or not (Yes, No)     |\n",
    "| PaymentMethod      | The customer’s payment method (Electronic check, Mailed check, Bank transfer (automatic), Credit card (automatic)) |\n",
    "| MonthlyCharges     | The amount charged to the customer monthly                      |\n",
    "| TotalCharges       | The total amount charged to the customer                        |\n",
    "| Churn              | Whether the customer churned or not (Yes or No)                 |\n"
   ]
  },
  {
   "cell_type": "markdown",
   "id": "a2317145",
   "metadata": {},
   "source": [
    "## Import Necessary Libraries"
   ]
  },
  {
   "cell_type": "code",
   "execution_count": null,
   "id": "9659fe47",
   "metadata": {},
   "outputs": [],
   "source": [
    "import pandas as pd\n",
    "import numpy as np\n",
    "import matplotlib.pyplot as plt\n",
    "from sklearn.preprocessing import OneHotEncoder\n",
    "from sklearn.model_selection import train_test_split, GridSearchCV, KFold\n",
    "from sklearn.tree import DecisionTreeClassifier, plot_tree\n",
    "from sklearn.metrics import accuracy_score, confusion_matrix, ConfusionMatrixDisplay"
   ]
  },
  {
   "cell_type": "markdown",
   "id": "fc1a739e",
   "metadata": {},
   "source": [
    "## Import Data"
   ]
  },
  {
   "cell_type": "code",
   "execution_count": null,
   "id": "09b0159c",
   "metadata": {},
   "outputs": [],
   "source": [
    "df = pd.read_csv(_)\n",
    "df"
   ]
  },
  {
   "cell_type": "markdown",
   "id": "6d97c319",
   "metadata": {},
   "source": [
    "## Handling Missing Values\n",
    "\n",
    "There are some missing values in this dataset that are dubbed by a whitespace character. We will begin by replacing these whitespace characters with a ```NaN``` value, then imputing all the ```NaN``` values afterwards."
   ]
  },
  {
   "cell_type": "code",
   "execution_count": null,
   "id": "10485186",
   "metadata": {},
   "outputs": [],
   "source": [
    "# Replace whitespace characters with missing values\n",
    "df.replace(r'^\\s*$', np.nan, regex=True, inplace=True)"
   ]
  },
  {
   "cell_type": "code",
   "execution_count": null,
   "id": "db2d3713",
   "metadata": {},
   "outputs": [],
   "source": [
    "# Summarize counts of missing values\n",
    "missing_values = df._\n",
    "missing_values"
   ]
  },
  {
   "cell_type": "markdown",
   "id": "09afdc88",
   "metadata": {},
   "source": [
    "We shall impute these missing values with the:\n",
    "* **mean** for **floating-point** type variables\n",
    "* **rounded mean** for **integer** type variables\n",
    "* **mode** for **string** type variables"
   ]
  },
  {
   "cell_type": "code",
   "execution_count": null,
   "id": "168062bc",
   "metadata": {},
   "outputs": [],
   "source": [
    "# Ensure that each variable is set to the correct data type\n",
    "for col in df.columns:\n",
    "    if df[col].dtype == 'object':\n",
    "        try:\n",
    "            df[col] = pd.to_numeric(df[col], errors='raise')\n",
    "        except ValueError:\n",
    "            pass"
   ]
  },
  {
   "cell_type": "code",
   "execution_count": null,
   "id": "95084b0c",
   "metadata": {},
   "outputs": [],
   "source": [
    "df.dtypes"
   ]
  },
  {
   "cell_type": "code",
   "execution_count": null,
   "id": "1a44da58",
   "metadata": {},
   "outputs": [],
   "source": [
    "# Impute missing values\n",
    "for col in df.columns:\n",
    "    if df[col].isnull().any():\n",
    "        if df[col].dtype == 'float64':\n",
    "            df[col].fillna(df[col].mean(), inplace=True)\n",
    "        elif df[col].dtype == 'int64':\n",
    "            df[col].fillna(round(df[col].mean()), inplace=True)\n",
    "            df[col] = df[col].astype('int64')\n",
    "        elif df[col].dtype == 'object':\n",
    "            df[col].fillna(df[col].mode()[0], inplace=True)"
   ]
  },
  {
   "cell_type": "code",
   "execution_count": null,
   "id": "1e6cd612",
   "metadata": {},
   "outputs": [],
   "source": [
    "# Verify that there are no missing values after imputation\n",
    "missing_values = df._\n",
    "missing_values"
   ]
  },
  {
   "cell_type": "markdown",
   "id": "1eedae28",
   "metadata": {},
   "source": [
    "We observe that there are no more missing values in the dataset."
   ]
  },
  {
   "cell_type": "markdown",
   "id": "047a912b",
   "metadata": {},
   "source": [
    "## Dropping Irrelevant Features"
   ]
  },
  {
   "cell_type": "code",
   "execution_count": null,
   "id": "29b4d0cc",
   "metadata": {},
   "outputs": [],
   "source": [
    "# Drop customerID as it is an irrelevant feature\n",
    "df.drop('customerID', axis=1, inplace=True)\n",
    "df.shape"
   ]
  },
  {
   "cell_type": "markdown",
   "id": "201c8e29",
   "metadata": {},
   "source": [
    "## One-hot Encoding for String-type Variables\n",
    "\n",
    "The decision tree model in ```scikit-learn``` can only work with numerically encoded variables, so we first need to encode all string-type variables into an equivalent numeric form before training the model. The process of converting string-type variables with ```K``` classes into separate ```K-1``` binary vectors is called **one-hot encoding**."
   ]
  },
  {
   "cell_type": "code",
   "execution_count": null,
   "id": "648afaa9",
   "metadata": {
    "scrolled": true
   },
   "outputs": [],
   "source": [
    "# Initialize encoder\n",
    "encoder = OneHotEncoder(drop='first', sparse_output=False)\n",
    "\n",
    "# Encode string-type variables\n",
    "for column in df.select_dtypes(include=['object']).columns:\n",
    "    encoded_result = encoder.fit_transform(df[[column]])\n",
    "    encoded_df = pd.DataFrame(encoded_result, columns=encoder.get_feature_names_out([column]))\n",
    "    # Drop original column and concatenate the new one-hot encoded DataFrame\n",
    "    df.drop(column, axis=1, inplace=True)\n",
    "    df = pd.concat([df, encoded_df], axis=1)\n",
    "\n",
    "df.head()"
   ]
  },
  {
   "cell_type": "markdown",
   "id": "88ee7302",
   "metadata": {},
   "source": [
    "## Train-Test Split"
   ]
  },
  {
   "cell_type": "code",
   "execution_count": null,
   "id": "e40a0a76-7847-4514-91f8-6e780f9acda4",
   "metadata": {},
   "outputs": [],
   "source": [
    "label = _\n",
    "excluded_columns = [label]\n",
    "features = [feature for feature in list(df) if feature not in excluded_columns]"
   ]
  },
  {
   "cell_type": "code",
   "execution_count": null,
   "id": "11d8ea64",
   "metadata": {},
   "outputs": [],
   "source": [
    "X = df[features]\n",
    "y = df[label]"
   ]
  },
  {
   "cell_type": "code",
   "execution_count": null,
   "id": "e7556bb5",
   "metadata": {},
   "outputs": [],
   "source": [
    "# Specify split parameters\n",
    "random_seed = 9002\n",
    "test_size = 0.2\n",
    "\n",
    "# Perform train-test split\n",
    "X_train, X_test, y_train, y_test = train_test_split(X, y, test_size=test_size, random_state=random_seed)"
   ]
  },
  {
   "cell_type": "code",
   "execution_count": null,
   "id": "313b1fb6",
   "metadata": {},
   "outputs": [],
   "source": [
    "print('Size of train set: ', len(X_train))\n",
    "print('Size of test set: ', len(X_test))"
   ]
  },
  {
   "cell_type": "markdown",
   "id": "785c1a2e",
   "metadata": {},
   "source": [
    "## Train Model"
   ]
  },
  {
   "cell_type": "code",
   "execution_count": null,
   "id": "87ac02b0",
   "metadata": {
    "scrolled": true
   },
   "outputs": [],
   "source": [
    "# Specify model parameters\n",
    "criterion = 'gini'\n",
    "min_samples_leaf = 1000\n",
    "\n",
    "# Build model\n",
    "model = DecisionTreeClassifier(_)\n",
    "\n",
    "# Fit model on training data\n",
    "model.fit(_, _)\n",
    "\n",
    "# Visualize the decision tree\n",
    "feature_names = X_train.columns.tolist()\n",
    "plt.figure(figsize=(10, 4))\n",
    "plot_tree(model, filled=True, feature_names=feature_names)\n",
    "plt.show()"
   ]
  },
  {
   "cell_type": "markdown",
   "id": "47063681",
   "metadata": {},
   "source": [
    "## Evaluate Model"
   ]
  },
  {
   "cell_type": "code",
   "execution_count": null,
   "id": "852049c3",
   "metadata": {},
   "outputs": [],
   "source": [
    "# Predict test data\n",
    "y_pred = model.predict(_)"
   ]
  },
  {
   "cell_type": "code",
   "execution_count": null,
   "id": "7164ac7d",
   "metadata": {},
   "outputs": [],
   "source": [
    "# Generate confusion matrix\n",
    "cm = confusion_matrix(_, _)\n",
    "disp = ConfusionMatrixDisplay(confusion_matrix=cm)\n",
    "disp.plot(cmap=plt.cm.Blues)\n",
    "plt.show()"
   ]
  },
  {
   "cell_type": "code",
   "execution_count": null,
   "id": "5e61f488",
   "metadata": {},
   "outputs": [],
   "source": [
    "# Check test accuracy\n",
    "accuracy_test = accuracy_score(_, _)\n",
    "print(f\"Test accuracy: {accuracy_test:.2f}\")"
   ]
  },
  {
   "cell_type": "markdown",
   "id": "9c4310e4",
   "metadata": {},
   "source": [
    "## Model Improvement\n",
    "\n",
    "To improve the model, we will experiment with two hyperparameters:\n",
    "* ```criterion```\n",
    "* ```min_samples_leaf```"
   ]
  },
  {
   "cell_type": "markdown",
   "id": "af157cae",
   "metadata": {},
   "source": [
    "We will first define the hyperparameter grid for ```criterion``` and ```min_samples_leaf```, which contains values for these two hyperparameters that we will be experimenting with. Then, we will use ```GridSearchCV``` to perform a grid search to obtain the optimal values of the two hyperparameters."
   ]
  },
  {
   "cell_type": "code",
   "execution_count": null,
   "id": "01ebf4f8",
   "metadata": {},
   "outputs": [],
   "source": [
    "# Define hyperparameter grid\n",
    "param_grid = {\n",
    "    'criterion': ['gini', 'entropy'],\n",
    "    'min_samples_leaf': [100, 200, 300, 400, 500, 600, 700, 800, 900, 1000, 1100, 1200, 1300, 1400, 1500]\n",
    "}"
   ]
  },
  {
   "cell_type": "code",
   "execution_count": null,
   "id": "1e620226",
   "metadata": {},
   "outputs": [],
   "source": [
    "# Perform grid search with 10-fold cross-validation\n",
    "model = DecisionTreeClassifier()\n",
    "cv = KFold(n_splits=10, shuffle=True, random_state=9002)\n",
    "grid_search = GridSearchCV(_)\n",
    "grid_search.fit(X_train, y_train)"
   ]
  },
  {
   "cell_type": "code",
   "execution_count": null,
   "id": "040030e7",
   "metadata": {},
   "outputs": [],
   "source": [
    "# Display best params and best validation score\n",
    "print(\"Best parameters:\", grid_search.best_params_)\n",
    "print(f\"Best average cross-validation score: {grid_search.best_score_:.2f}\")"
   ]
  },
  {
   "cell_type": "code",
   "execution_count": null,
   "id": "29eddf74",
   "metadata": {},
   "outputs": [],
   "source": [
    "# Fit optimal model using best params found above\n",
    "optimal_model = grid_search.best_estimator_\n",
    "\n",
    "# Visualize the optimal decision tree\n",
    "plt.figure(figsize=(20, 8))\n",
    "plot_tree(optimal_model, filled=True, feature_names=feature_names)\n",
    "plt.show()"
   ]
  },
  {
   "cell_type": "code",
   "execution_count": null,
   "id": "b05dba4e",
   "metadata": {},
   "outputs": [],
   "source": [
    "# Apply the optimal model on the test data\n",
    "y_test_pred = optimal_model.predict(_)\n",
    "test_accuracy = accuracy_score(_, _)\n",
    "print(f\"Test accuracy: {test_accuracy:.2f}\")"
   ]
  },
  {
   "cell_type": "code",
   "execution_count": null,
   "id": "20da1f6a",
   "metadata": {},
   "outputs": [],
   "source": [
    "# Generate confusion matrix for optimal model\n",
    "cm = confusion_matrix(_, _)\n",
    "disp = ConfusionMatrixDisplay(confusion_matrix=cm)\n",
    "disp.plot(cmap=plt.cm.Blues)\n",
    "plt.show()"
   ]
  },
  {
   "cell_type": "code",
   "execution_count": null,
   "id": "b117fb48",
   "metadata": {},
   "outputs": [],
   "source": []
  }
 ],
 "metadata": {
  "kernelspec": {
   "display_name": "Python 3 (ipykernel)",
   "language": "python",
   "name": "python3"
  },
  "language_info": {
   "codemirror_mode": {
    "name": "ipython",
    "version": 3
   },
   "file_extension": ".py",
   "mimetype": "text/x-python",
   "name": "python",
   "nbconvert_exporter": "python",
   "pygments_lexer": "ipython3",
   "version": "3.11.5"
  }
 },
 "nbformat": 4,
 "nbformat_minor": 5
}
