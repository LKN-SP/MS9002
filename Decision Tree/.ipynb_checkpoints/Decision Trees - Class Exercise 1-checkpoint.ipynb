{
 "cells": [
  {
   "cell_type": "markdown",
   "id": "69d7444d",
   "metadata": {},
   "source": [
    "# Decision Trees - Class Exercise 1"
   ]
  },
  {
   "cell_type": "markdown",
   "id": "c3ecd1fb",
   "metadata": {},
   "source": [
    "## Introduction\n",
    "\n",
    "Cardiovascular diseases (CVDs) are the number one cause of death globally, taking an estimated 17.9 million lives each year, which accounts for 31% of all deaths worldwide.\n",
    "\n",
    "We will use the Heart Failure dataset for this exercise, as heart failure is a common event caused by CVDs. This dataset contains 12 features that can be used to predict mortality by heart failure.\n",
    "\n",
    "Most cardiovascular diseases can be prevented by addressing behavioural risk factors such as tobacco use, unhealthy diet and obesity, physical inactivity and harmful use of alcohol using population-wide strategies.\n",
    "\n",
    "People with cardiovascular disease or who are at high cardiovascular risk (due to the presence of one or more risk factors such as hypertension, diabetes, hyperlipidaemia or already established disease) need early detection and management wherein a machine learning model can be of great help.\n",
    "\n",
    "Our goal is to build a decision tree a model to predict mortality caused by Heart Failure."
   ]
  },
  {
   "cell_type": "markdown",
   "id": "ca375494",
   "metadata": {},
   "source": [
    "## Metadata (Data Dictionary)\n",
    "\n",
    "| Variables               | Description                                                |\n",
    "|-------------------------|------------------------------------------------------------|\n",
    "| age                     | Age of patient (years)                                     |\n",
    "| anaemia                 | Low count of red blood cells or haemoglobin (1 = yes, 0 = no) |\n",
    "| creatinine_phosphokinase| Level of the CPK enzyme in the blood (mcg/L)               |\n",
    "| diabetes                | Whether the patient has diabetes (1 = yes, 0 = no)         |\n",
    "| ejection_fraction       | Percent of blood leaving the heart at each contraction (%) |\n",
    "| high_blood_pressure     | Whether the patient has hypertension (1 = yes, 0 = no)     |\n",
    "| platelets               | Platelets in the blood (kiloplatelets/mL)                  |\n",
    "| serum_creatinine        | Level of serum creatinine in the blood (mg/dL)             |\n",
    "| serum_sodium            | Level of serum sodium in the blood (mEq/L)                 |\n",
    "| sex                     | Gender of patient (1 = male, 0 = female)                   |\n",
    "| smoking                 | Whether the patient smokes or not (1 = yes, 0 = no)        |\n",
    "| DEATH_EVENT             | Whether the patient died during the follow-up period (1 = dead, 0 = alive) |\n"
   ]
  },
  {
   "cell_type": "markdown",
   "id": "a2317145",
   "metadata": {},
   "source": [
    "## Import necessary libraries"
   ]
  },
  {
   "cell_type": "code",
   "execution_count": null,
   "id": "9659fe47",
   "metadata": {},
   "outputs": [],
   "source": [
    "import pandas as pd\n",
    "import matplotlib.pyplot as plt\n",
    "from sklearn.model_selection import train_test_split, GridSearchCV, KFold\n",
    "from sklearn.tree import DecisionTreeClassifier, plot_tree\n",
    "from sklearn.metrics import accuracy_score, confusion_matrix, ConfusionMatrixDisplay"
   ]
  },
  {
   "cell_type": "markdown",
   "id": "fc1a739e",
   "metadata": {},
   "source": [
    "## Import data"
   ]
  },
  {
   "cell_type": "code",
   "execution_count": null,
   "id": "09b0159c",
   "metadata": {
    "scrolled": true
   },
   "outputs": [],
   "source": [
    "df = pd.read_csv(_)\n",
    "df"
   ]
  },
  {
   "cell_type": "markdown",
   "id": "f5ae8d77",
   "metadata": {},
   "source": [
    "## Check for missing values"
   ]
  },
  {
   "cell_type": "code",
   "execution_count": null,
   "id": "39592be2",
   "metadata": {},
   "outputs": [],
   "source": [
    "missing_values = df._\n",
    "missing_values"
   ]
  },
  {
   "cell_type": "markdown",
   "id": "3c5d3ae0",
   "metadata": {},
   "source": [
    "We observe that there are no missing values in the dataset."
   ]
  },
  {
   "cell_type": "markdown",
   "id": "88ee7302",
   "metadata": {},
   "source": [
    "## Train-test split"
   ]
  },
  {
   "cell_type": "code",
   "execution_count": null,
   "id": "ac022a80-54f4-4adb-804e-86ee00d14f5d",
   "metadata": {},
   "outputs": [],
   "source": [
    "label = _\n",
    "excluded_columns = [label]\n",
    "features = [feature for feature in list(df) if feature not in excluded_columns]"
   ]
  },
  {
   "cell_type": "code",
   "execution_count": null,
   "id": "11d8ea64",
   "metadata": {},
   "outputs": [],
   "source": [
    "X = df[features]\n",
    "y = df[label]"
   ]
  },
  {
   "cell_type": "code",
   "execution_count": null,
   "id": "e7556bb5",
   "metadata": {},
   "outputs": [],
   "source": [
    "# Specify split parameters\n",
    "random_seed = 9002\n",
    "test_size = 0.2\n",
    "\n",
    "# Perform train-test split\n",
    "X_train, X_test, y_train, y_test = train_test_split(X, y, test_size=test_size, random_state=random_seed)"
   ]
  },
  {
   "cell_type": "code",
   "execution_count": null,
   "id": "313b1fb6",
   "metadata": {},
   "outputs": [],
   "source": [
    "print('Size of train set: ', len(X_train))\n",
    "print('Size of test set: ', len(X_test))"
   ]
  },
  {
   "cell_type": "markdown",
   "id": "785c1a2e",
   "metadata": {},
   "source": [
    "## Train model"
   ]
  },
  {
   "cell_type": "code",
   "execution_count": null,
   "id": "87ac02b0",
   "metadata": {
    "scrolled": true
   },
   "outputs": [],
   "source": [
    "# Specify model parameters\n",
    "criterion = 'gini'\n",
    "min_samples_leaf = 40\n",
    "\n",
    "# Build model\n",
    "model = DecisionTreeClassifier(criterion=criterion, min_samples_leaf=min_samples_leaf)\n",
    "\n",
    "# Fit model on training data\n",
    "model.fit(_, _)\n",
    "\n",
    "# Visualize the decision tree\n",
    "feature_names = X_train.columns.tolist()\n",
    "plt.figure(figsize=(8, 8))\n",
    "plot_tree(model, filled=True, feature_names=feature_names)\n",
    "plt.show()"
   ]
  },
  {
   "cell_type": "markdown",
   "id": "47063681",
   "metadata": {},
   "source": [
    "## Evaluate Model"
   ]
  },
  {
   "cell_type": "code",
   "execution_count": null,
   "id": "852049c3",
   "metadata": {},
   "outputs": [],
   "source": [
    "# Predict test data\n",
    "y_pred = model.predict(_)"
   ]
  },
  {
   "cell_type": "code",
   "execution_count": null,
   "id": "7164ac7d",
   "metadata": {},
   "outputs": [],
   "source": [
    "# Generate confusion matrix\n",
    "cm = confusion_matrix(_, _)\n",
    "disp = ConfusionMatrixDisplay(confusion_matrix=cm)\n",
    "disp.plot(cmap=plt.cm.Blues)\n",
    "plt.show()"
   ]
  },
  {
   "cell_type": "code",
   "execution_count": null,
   "id": "5e61f488",
   "metadata": {},
   "outputs": [],
   "source": [
    "# Check test accuracy\n",
    "accuracy_test = accuracy_score(_, _)\n",
    "print(f\"Test accuracy: {accuracy_test:.2f}\")"
   ]
  },
  {
   "cell_type": "markdown",
   "id": "9c4310e4",
   "metadata": {},
   "source": [
    "## Model Improvement\n",
    "\n",
    "To improve the model, we will experiment with two hyperparameters:\n",
    "* ```criterion```\n",
    "* ```min_samples_leaf```"
   ]
  },
  {
   "cell_type": "markdown",
   "id": "af157cae",
   "metadata": {},
   "source": [
    "We will first define the hyperparameter grid for ```criterion``` and ```min_samples_leaf```, which contains values for these two hyperparameters that we will be experimenting with. Then, we will use ```GridSearchCV``` to perform a grid search to obtain the optimal values of the two hyperparameters."
   ]
  },
  {
   "cell_type": "code",
   "execution_count": null,
   "id": "01ebf4f8",
   "metadata": {},
   "outputs": [],
   "source": [
    "# Define hyperparameter grid\n",
    "param_grid = {\n",
    "    'criterion': ['gini', 'entropy'],\n",
    "    'min_samples_leaf': [10, 20, 30, 40, 50, 60, 70, 80]\n",
    "}"
   ]
  },
  {
   "cell_type": "code",
   "execution_count": null,
   "id": "1e620226",
   "metadata": {},
   "outputs": [],
   "source": [
    "# Perform grid search with 10-fold cross-validation\n",
    "model = DecisionTreeClassifier()\n",
    "cv = KFold(n_splits=10, shuffle=True, random_state=9002)\n",
    "grid_search = GridSearchCV(estimator=model, param_grid=param_grid, cv=cv, scoring='accuracy')\n",
    "grid_search.fit(X_train, y_train);"
   ]
  },
  {
   "cell_type": "code",
   "execution_count": null,
   "id": "040030e7",
   "metadata": {},
   "outputs": [],
   "source": [
    "# Display best params and best validation score\n",
    "print(\"Best parameters:\", grid_search.best_params_)\n",
    "print(f\"Best average cross-validation score: {grid_search.best_score_:.2f}\")"
   ]
  },
  {
   "cell_type": "code",
   "execution_count": null,
   "id": "29eddf74",
   "metadata": {},
   "outputs": [],
   "source": [
    "# Fit optimal model using best params found above\n",
    "optimal_model = grid_search.best_estimator_\n",
    "\n",
    "# Visualize the optimal decision tree\n",
    "plt.figure(figsize=(20, 10))\n",
    "plot_tree(optimal_model, filled=True, feature_names=feature_names)\n",
    "plt.show()"
   ]
  },
  {
   "cell_type": "code",
   "execution_count": null,
   "id": "b05dba4e",
   "metadata": {},
   "outputs": [],
   "source": [
    "# Apply the optimal model on the test data\n",
    "y_test_pred = optimal_model.predict(_)\n",
    "test_accuracy = accuracy_score(_, _)\n",
    "print(f\"Test accuracy: {test_accuracy:.2f}\")"
   ]
  },
  {
   "cell_type": "code",
   "execution_count": null,
   "id": "20da1f6a",
   "metadata": {},
   "outputs": [],
   "source": [
    "# Generate confusion matrix for optimal model\n",
    "cm = confusion_matrix(_, _)\n",
    "disp = ConfusionMatrixDisplay(confusion_matrix=cm)\n",
    "disp.plot(cmap=plt.cm.Blues)\n",
    "plt.show()"
   ]
  },
  {
   "cell_type": "code",
   "execution_count": null,
   "id": "b117fb48",
   "metadata": {},
   "outputs": [],
   "source": []
  }
 ],
 "metadata": {
  "kernelspec": {
   "display_name": "Python 3 (ipykernel)",
   "language": "python",
   "name": "python3"
  },
  "language_info": {
   "codemirror_mode": {
    "name": "ipython",
    "version": 3
   },
   "file_extension": ".py",
   "mimetype": "text/x-python",
   "name": "python",
   "nbconvert_exporter": "python",
   "pygments_lexer": "ipython3",
   "version": "3.11.5"
  }
 },
 "nbformat": 4,
 "nbformat_minor": 5
}
