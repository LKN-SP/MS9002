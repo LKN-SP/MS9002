{
 "cells": [
  {
   "cell_type": "markdown",
   "id": "5115e270",
   "metadata": {},
   "source": [
    "# Logistic Regression - Class Exercise 1"
   ]
  },
  {
   "cell_type": "markdown",
   "id": "58ee88e3",
   "metadata": {},
   "source": [
    "## Introduction\n",
    "\n",
    "During the university admission season, the admission team needs to review thousands of applications and only a small portion will stand out eventually to receive the offers. It is a very tedious and label-intensive process. The admission team would like to make use of the historical data to develop a model to perform a preliminary screening of the applications.\n",
    "\n",
    "We will use the \"admission\" dataset for this exercise. This dataset contains 8 features. Our goal is to build a linear regression model to predict whether the candidate will be admitted."
   ]
  },
  {
   "cell_type": "markdown",
   "id": "22f95e53",
   "metadata": {},
   "source": [
    "## Metadata (Data Dictionary)\n",
    "\n",
    "| Variable | Data Type | Description |\n",
    "|----------|-----------|-------------|\n",
    "| Serial No. | int | Unique Identifier |\n",
    "| GRE Score | int | GRE Score (0 to 340) |\n",
    "| TOEFL Score | int | TOEFL Score (0 to 120) |\n",
    "| University Rating | int | University Rating (1 to 5) |\n",
    "| SOP | float | Statement of Purpose (1 to 5) |\n",
    "| LOR | float | Letter of Recommendation (1 to 5) |\n",
    "| CGPA | float | Undergraduate Cumulative GPA (0 to 10) |\n",
    "| Research | int | Whether the candidate has research experience (0: No, 1: Yes) |\n",
    "| Chance of Admit | float | Chance of Admit (0 to 1) |\n"
   ]
  },
  {
   "cell_type": "markdown",
   "id": "1f6f24e1",
   "metadata": {},
   "source": [
    "# Import necessary libraries"
   ]
  },
  {
   "cell_type": "code",
   "execution_count": 1,
   "id": "33a2ac9f",
   "metadata": {},
   "outputs": [],
   "source": [
    "import numpy as np\n",
    "import pandas as pd\n",
    "import matplotlib.pyplot as plt\n",
    "\n",
    "from sklearn.linear_model import LinearRegression\n",
    "from sklearn.model_selection import train_test_split\n",
    "from sklearn import metrics"
   ]
  },
  {
   "cell_type": "markdown",
   "id": "17757941",
   "metadata": {},
   "source": [
    "# Import Data"
   ]
  },
  {
   "cell_type": "markdown",
   "id": "3ecf5e61",
   "metadata": {},
   "source": [
    "<font color=red><b>Action</b>: Load the data file and check against the metadata."
   ]
  },
  {
   "cell_type": "code",
   "execution_count": 2,
   "id": "ecc4d59c",
   "metadata": {},
   "outputs": [
    {
     "data": {
      "text/html": [
       "<div>\n",
       "<style scoped>\n",
       "    .dataframe tbody tr th:only-of-type {\n",
       "        vertical-align: middle;\n",
       "    }\n",
       "\n",
       "    .dataframe tbody tr th {\n",
       "        vertical-align: top;\n",
       "    }\n",
       "\n",
       "    .dataframe thead th {\n",
       "        text-align: right;\n",
       "    }\n",
       "</style>\n",
       "<table border=\"1\" class=\"dataframe\">\n",
       "  <thead>\n",
       "    <tr style=\"text-align: right;\">\n",
       "      <th></th>\n",
       "      <th>Serial No.</th>\n",
       "      <th>GRE Score</th>\n",
       "      <th>TOEFL Score</th>\n",
       "      <th>University Rating</th>\n",
       "      <th>SOP</th>\n",
       "      <th>LOR</th>\n",
       "      <th>CGPA</th>\n",
       "      <th>Research</th>\n",
       "      <th>Chance of Admit</th>\n",
       "    </tr>\n",
       "  </thead>\n",
       "  <tbody>\n",
       "    <tr>\n",
       "      <th>0</th>\n",
       "      <td>1</td>\n",
       "      <td>337</td>\n",
       "      <td>118</td>\n",
       "      <td>4</td>\n",
       "      <td>4.5</td>\n",
       "      <td>4.5</td>\n",
       "      <td>9.65</td>\n",
       "      <td>1</td>\n",
       "      <td>0.92</td>\n",
       "    </tr>\n",
       "    <tr>\n",
       "      <th>1</th>\n",
       "      <td>2</td>\n",
       "      <td>324</td>\n",
       "      <td>107</td>\n",
       "      <td>4</td>\n",
       "      <td>4.0</td>\n",
       "      <td>4.5</td>\n",
       "      <td>8.87</td>\n",
       "      <td>1</td>\n",
       "      <td>0.76</td>\n",
       "    </tr>\n",
       "    <tr>\n",
       "      <th>2</th>\n",
       "      <td>3</td>\n",
       "      <td>316</td>\n",
       "      <td>104</td>\n",
       "      <td>3</td>\n",
       "      <td>3.0</td>\n",
       "      <td>3.5</td>\n",
       "      <td>8.00</td>\n",
       "      <td>1</td>\n",
       "      <td>0.72</td>\n",
       "    </tr>\n",
       "    <tr>\n",
       "      <th>3</th>\n",
       "      <td>4</td>\n",
       "      <td>322</td>\n",
       "      <td>110</td>\n",
       "      <td>3</td>\n",
       "      <td>3.5</td>\n",
       "      <td>2.5</td>\n",
       "      <td>8.67</td>\n",
       "      <td>1</td>\n",
       "      <td>0.80</td>\n",
       "    </tr>\n",
       "    <tr>\n",
       "      <th>4</th>\n",
       "      <td>5</td>\n",
       "      <td>314</td>\n",
       "      <td>103</td>\n",
       "      <td>2</td>\n",
       "      <td>2.0</td>\n",
       "      <td>3.0</td>\n",
       "      <td>8.21</td>\n",
       "      <td>0</td>\n",
       "      <td>0.65</td>\n",
       "    </tr>\n",
       "    <tr>\n",
       "      <th>...</th>\n",
       "      <td>...</td>\n",
       "      <td>...</td>\n",
       "      <td>...</td>\n",
       "      <td>...</td>\n",
       "      <td>...</td>\n",
       "      <td>...</td>\n",
       "      <td>...</td>\n",
       "      <td>...</td>\n",
       "      <td>...</td>\n",
       "    </tr>\n",
       "    <tr>\n",
       "      <th>495</th>\n",
       "      <td>496</td>\n",
       "      <td>332</td>\n",
       "      <td>108</td>\n",
       "      <td>5</td>\n",
       "      <td>4.5</td>\n",
       "      <td>4.0</td>\n",
       "      <td>9.02</td>\n",
       "      <td>1</td>\n",
       "      <td>0.87</td>\n",
       "    </tr>\n",
       "    <tr>\n",
       "      <th>496</th>\n",
       "      <td>497</td>\n",
       "      <td>337</td>\n",
       "      <td>117</td>\n",
       "      <td>5</td>\n",
       "      <td>5.0</td>\n",
       "      <td>5.0</td>\n",
       "      <td>9.87</td>\n",
       "      <td>1</td>\n",
       "      <td>0.96</td>\n",
       "    </tr>\n",
       "    <tr>\n",
       "      <th>497</th>\n",
       "      <td>498</td>\n",
       "      <td>330</td>\n",
       "      <td>120</td>\n",
       "      <td>5</td>\n",
       "      <td>4.5</td>\n",
       "      <td>5.0</td>\n",
       "      <td>9.56</td>\n",
       "      <td>1</td>\n",
       "      <td>0.93</td>\n",
       "    </tr>\n",
       "    <tr>\n",
       "      <th>498</th>\n",
       "      <td>499</td>\n",
       "      <td>312</td>\n",
       "      <td>103</td>\n",
       "      <td>4</td>\n",
       "      <td>4.0</td>\n",
       "      <td>5.0</td>\n",
       "      <td>8.43</td>\n",
       "      <td>0</td>\n",
       "      <td>0.73</td>\n",
       "    </tr>\n",
       "    <tr>\n",
       "      <th>499</th>\n",
       "      <td>500</td>\n",
       "      <td>327</td>\n",
       "      <td>113</td>\n",
       "      <td>4</td>\n",
       "      <td>4.5</td>\n",
       "      <td>4.5</td>\n",
       "      <td>9.04</td>\n",
       "      <td>0</td>\n",
       "      <td>0.84</td>\n",
       "    </tr>\n",
       "  </tbody>\n",
       "</table>\n",
       "<p>500 rows × 9 columns</p>\n",
       "</div>"
      ],
      "text/plain": [
       "     Serial No.  GRE Score  TOEFL Score  University Rating  SOP  LOR  CGPA  \\\n",
       "0             1        337          118                  4  4.5  4.5  9.65   \n",
       "1             2        324          107                  4  4.0  4.5  8.87   \n",
       "2             3        316          104                  3  3.0  3.5  8.00   \n",
       "3             4        322          110                  3  3.5  2.5  8.67   \n",
       "4             5        314          103                  2  2.0  3.0  8.21   \n",
       "..          ...        ...          ...                ...  ...  ...   ...   \n",
       "495         496        332          108                  5  4.5  4.0  9.02   \n",
       "496         497        337          117                  5  5.0  5.0  9.87   \n",
       "497         498        330          120                  5  4.5  5.0  9.56   \n",
       "498         499        312          103                  4  4.0  5.0  8.43   \n",
       "499         500        327          113                  4  4.5  4.5  9.04   \n",
       "\n",
       "     Research  Chance of Admit  \n",
       "0           1             0.92  \n",
       "1           1             0.76  \n",
       "2           1             0.72  \n",
       "3           1             0.80  \n",
       "4           0             0.65  \n",
       "..        ...              ...  \n",
       "495         1             0.87  \n",
       "496         1             0.96  \n",
       "497         1             0.93  \n",
       "498         0             0.73  \n",
       "499         0             0.84  \n",
       "\n",
       "[500 rows x 9 columns]"
      ]
     },
     "execution_count": 2,
     "metadata": {},
     "output_type": "execute_result"
    }
   ],
   "source": [
    "df = pd.read_csv('Admission.csv')\n",
    "df"
   ]
  },
  {
   "cell_type": "markdown",
   "id": "2584daa1",
   "metadata": {},
   "source": [
    "# Exploratory Analysis"
   ]
  },
  {
   "cell_type": "markdown",
   "id": "1d0cda7d",
   "metadata": {},
   "source": [
    "<font color=red><b>Action</b>: Display the basic numeric summary for \"Chance of Admit\"."
   ]
  },
  {
   "cell_type": "code",
   "execution_count": 3,
   "id": "ff110749",
   "metadata": {},
   "outputs": [
    {
     "data": {
      "text/plain": [
       "count    500.00000\n",
       "mean       0.72174\n",
       "std        0.14114\n",
       "min        0.34000\n",
       "25%        0.63000\n",
       "50%        0.72000\n",
       "75%        0.82000\n",
       "max        0.97000\n",
       "Name: Chance of Admit, dtype: float64"
      ]
     },
     "execution_count": 3,
     "metadata": {},
     "output_type": "execute_result"
    }
   ],
   "source": [
    "df['Chance of Admit'].describe()"
   ]
  },
  {
   "cell_type": "markdown",
   "id": "5f79017c",
   "metadata": {},
   "source": [
    "There are about 25% of the samples above 0.82.<br>\n",
    "Let's assume that samples with \"Chance of Admit\" > 0.8 will be admitted."
   ]
  },
  {
   "cell_type": "markdown",
   "id": "6d4c643b",
   "metadata": {},
   "source": [
    "### Create a categorical label from the existing numeric label\n",
    "0: Not admitted, 1: Admitted"
   ]
  },
  {
   "cell_type": "code",
   "execution_count": 4,
   "id": "202ad1a0",
   "metadata": {},
   "outputs": [],
   "source": [
    "cutoff = 0.8"
   ]
  },
  {
   "cell_type": "markdown",
   "id": "486308ce",
   "metadata": {},
   "source": [
    "We can check the proportion of each class."
   ]
  },
  {
   "cell_type": "markdown",
   "id": "90044b43",
   "metadata": {},
   "source": [
    "<font color=red><b>Action</b>: Create a column called \"Admit\", it takes 1, if \"Chance of Admit\" is greater than the cutoff, or 0 otherwise"
   ]
  },
  {
   "cell_type": "code",
   "execution_count": 5,
   "id": "f0e4b9d4",
   "metadata": {},
   "outputs": [
    {
     "data": {
      "text/plain": [
       "Admit\n",
       "0    358\n",
       "1    142\n",
       "Name: count, dtype: int64"
      ]
     },
     "execution_count": 5,
     "metadata": {},
     "output_type": "execute_result"
    }
   ],
   "source": [
    "df['Admit'] = (df['Chance of Admit'] > cutoff).astype('int')\n",
    "df['Admit'].value_counts()"
   ]
  },
  {
   "cell_type": "markdown",
   "id": "5b2b53dd",
   "metadata": {},
   "source": [
    "### Visualize the distribution of each class per 2 features\n",
    "we can change the feature on the x-axis and on the y-axis to make up any combination."
   ]
  },
  {
   "cell_type": "markdown",
   "id": "3012eda8",
   "metadata": {},
   "source": [
    "<font color=red><b>Action 1</b>: Create a scatter plot between any 2 features<br>\n",
    "<b>Action 2</b>: Plot the positive samples in green and the negative samples in red"
   ]
  },
  {
   "cell_type": "code",
   "execution_count": 6,
   "id": "8558d115",
   "metadata": {},
   "outputs": [
    {
     "data": {
      "text/plain": [
       "<matplotlib.collections.PathCollection at 0x20071732550>"
      ]
     },
     "execution_count": 6,
     "metadata": {},
     "output_type": "execute_result"
    },
    {
     "data": {
      "image/png": "[encoded data removed]",
      "text/plain": [
       "<Figure size 640x480 with 1 Axes>"
      ]
     },
     "metadata": {},
     "output_type": "display_data"
    }
   ],
   "source": [
    "x = df['GRE Score']\n",
    "y = df['TOEFL Score']\n",
    "color = df['Admit'].map({0: 'red', 1: 'green'})\n",
    "\n",
    "plt.scatter(x, y, color=color)"
   ]
  },
  {
   "cell_type": "markdown",
   "id": "381ba416",
   "metadata": {},
   "source": [
    "### Extract the features and the label\n",
    "We are using \"Admit\" as the categorical label for classification.\n",
    "Take note that, \"Chance of Admit\" should be excluded as it is the equivalent numeric label."
   ]
  },
  {
   "cell_type": "markdown",
   "id": "111bb020",
   "metadata": {},
   "source": [
    "<font color=red><b>Action 1</b>: Create a string variable to be the column name of the label<br>\n",
    "<b>Action 2</b>: Create a list that contains the names of columns to be used as input features"
   ]
  },
  {
   "cell_type": "code",
   "execution_count": 7,
   "id": "3643d8c2",
   "metadata": {},
   "outputs": [
    {
     "name": "stdout",
     "output_type": "stream",
     "text": [
      "['GRE Score', 'TOEFL Score', 'University Rating', 'SOP', 'LOR', 'CGPA', 'Research']\n"
     ]
    }
   ],
   "source": [
    "label = 'Admit'\n",
    "excluded_features = [label, 'Serial No.', 'Chance of Admit']\n",
    "features = [feature for feature in list(df) if feature not in excluded_features]\n",
    "print(features)"
   ]
  },
  {
   "cell_type": "markdown",
   "id": "f6907565",
   "metadata": {},
   "source": [
    "<font color=red><b>Action</b>: Split the full DataFrame into the training set and the test set.</font>"
   ]
  },
  {
   "cell_type": "code",
   "execution_count": 8,
   "id": "bbe26578",
   "metadata": {},
   "outputs": [
    {
     "data": {
      "text/html": [
       "<div>\n",
       "<style scoped>\n",
       "    .dataframe tbody tr th:only-of-type {\n",
       "        vertical-align: middle;\n",
       "    }\n",
       "\n",
       "    .dataframe tbody tr th {\n",
       "        vertical-align: top;\n",
       "    }\n",
       "\n",
       "    .dataframe thead th {\n",
       "        text-align: right;\n",
       "    }\n",
       "</style>\n",
       "<table border=\"1\" class=\"dataframe\">\n",
       "  <thead>\n",
       "    <tr style=\"text-align: right;\">\n",
       "      <th></th>\n",
       "      <th>Serial No.</th>\n",
       "      <th>GRE Score</th>\n",
       "      <th>TOEFL Score</th>\n",
       "      <th>University Rating</th>\n",
       "      <th>SOP</th>\n",
       "      <th>LOR</th>\n",
       "      <th>CGPA</th>\n",
       "      <th>Research</th>\n",
       "      <th>Chance of Admit</th>\n",
       "      <th>Admit</th>\n",
       "    </tr>\n",
       "  </thead>\n",
       "  <tbody>\n",
       "    <tr>\n",
       "      <th>107</th>\n",
       "      <td>108</td>\n",
       "      <td>338</td>\n",
       "      <td>117</td>\n",
       "      <td>4</td>\n",
       "      <td>3.5</td>\n",
       "      <td>4.5</td>\n",
       "      <td>9.46</td>\n",
       "      <td>1</td>\n",
       "      <td>0.91</td>\n",
       "      <td>1</td>\n",
       "    </tr>\n",
       "    <tr>\n",
       "      <th>336</th>\n",
       "      <td>337</td>\n",
       "      <td>319</td>\n",
       "      <td>110</td>\n",
       "      <td>3</td>\n",
       "      <td>3.0</td>\n",
       "      <td>2.5</td>\n",
       "      <td>8.79</td>\n",
       "      <td>0</td>\n",
       "      <td>0.72</td>\n",
       "      <td>0</td>\n",
       "    </tr>\n",
       "    <tr>\n",
       "      <th>71</th>\n",
       "      <td>72</td>\n",
       "      <td>336</td>\n",
       "      <td>112</td>\n",
       "      <td>5</td>\n",
       "      <td>5.0</td>\n",
       "      <td>5.0</td>\n",
       "      <td>9.76</td>\n",
       "      <td>1</td>\n",
       "      <td>0.96</td>\n",
       "      <td>1</td>\n",
       "    </tr>\n",
       "    <tr>\n",
       "      <th>474</th>\n",
       "      <td>475</td>\n",
       "      <td>308</td>\n",
       "      <td>105</td>\n",
       "      <td>4</td>\n",
       "      <td>3.0</td>\n",
       "      <td>2.5</td>\n",
       "      <td>7.95</td>\n",
       "      <td>1</td>\n",
       "      <td>0.67</td>\n",
       "      <td>0</td>\n",
       "    </tr>\n",
       "    <tr>\n",
       "      <th>6</th>\n",
       "      <td>7</td>\n",
       "      <td>321</td>\n",
       "      <td>109</td>\n",
       "      <td>3</td>\n",
       "      <td>3.0</td>\n",
       "      <td>4.0</td>\n",
       "      <td>8.20</td>\n",
       "      <td>1</td>\n",
       "      <td>0.75</td>\n",
       "      <td>0</td>\n",
       "    </tr>\n",
       "  </tbody>\n",
       "</table>\n",
       "</div>"
      ],
      "text/plain": [
       "     Serial No.  GRE Score  TOEFL Score  University Rating  SOP  LOR  CGPA  \\\n",
       "107         108        338          117                  4  3.5  4.5  9.46   \n",
       "336         337        319          110                  3  3.0  2.5  8.79   \n",
       "71           72        336          112                  5  5.0  5.0  9.76   \n",
       "474         475        308          105                  4  3.0  2.5  7.95   \n",
       "6             7        321          109                  3  3.0  4.0  8.20   \n",
       "\n",
       "     Research  Chance of Admit  Admit  \n",
       "107         1             0.91      1  \n",
       "336         0             0.72      0  \n",
       "71          1             0.96      1  \n",
       "474         1             0.67      0  \n",
       "6           1             0.75      0  "
      ]
     },
     "metadata": {},
     "output_type": "display_data"
    },
    {
     "data": {
      "text/html": [
       "<div>\n",
       "<style scoped>\n",
       "    .dataframe tbody tr th:only-of-type {\n",
       "        vertical-align: middle;\n",
       "    }\n",
       "\n",
       "    .dataframe tbody tr th {\n",
       "        vertical-align: top;\n",
       "    }\n",
       "\n",
       "    .dataframe thead th {\n",
       "        text-align: right;\n",
       "    }\n",
       "</style>\n",
       "<table border=\"1\" class=\"dataframe\">\n",
       "  <thead>\n",
       "    <tr style=\"text-align: right;\">\n",
       "      <th></th>\n",
       "      <th>Serial No.</th>\n",
       "      <th>GRE Score</th>\n",
       "      <th>TOEFL Score</th>\n",
       "      <th>University Rating</th>\n",
       "      <th>SOP</th>\n",
       "      <th>LOR</th>\n",
       "      <th>CGPA</th>\n",
       "      <th>Research</th>\n",
       "      <th>Chance of Admit</th>\n",
       "      <th>Admit</th>\n",
       "    </tr>\n",
       "  </thead>\n",
       "  <tbody>\n",
       "    <tr>\n",
       "      <th>90</th>\n",
       "      <td>91</td>\n",
       "      <td>318</td>\n",
       "      <td>106</td>\n",
       "      <td>2</td>\n",
       "      <td>4.0</td>\n",
       "      <td>4.0</td>\n",
       "      <td>7.92</td>\n",
       "      <td>1</td>\n",
       "      <td>0.64</td>\n",
       "      <td>0</td>\n",
       "    </tr>\n",
       "    <tr>\n",
       "      <th>254</th>\n",
       "      <td>255</td>\n",
       "      <td>321</td>\n",
       "      <td>114</td>\n",
       "      <td>4</td>\n",
       "      <td>4.0</td>\n",
       "      <td>5.0</td>\n",
       "      <td>9.12</td>\n",
       "      <td>0</td>\n",
       "      <td>0.85</td>\n",
       "      <td>1</td>\n",
       "    </tr>\n",
       "    <tr>\n",
       "      <th>283</th>\n",
       "      <td>284</td>\n",
       "      <td>321</td>\n",
       "      <td>111</td>\n",
       "      <td>3</td>\n",
       "      <td>2.5</td>\n",
       "      <td>3.0</td>\n",
       "      <td>8.90</td>\n",
       "      <td>1</td>\n",
       "      <td>0.80</td>\n",
       "      <td>0</td>\n",
       "    </tr>\n",
       "    <tr>\n",
       "      <th>445</th>\n",
       "      <td>446</td>\n",
       "      <td>328</td>\n",
       "      <td>116</td>\n",
       "      <td>5</td>\n",
       "      <td>4.5</td>\n",
       "      <td>5.0</td>\n",
       "      <td>9.08</td>\n",
       "      <td>1</td>\n",
       "      <td>0.91</td>\n",
       "      <td>1</td>\n",
       "    </tr>\n",
       "    <tr>\n",
       "      <th>461</th>\n",
       "      <td>462</td>\n",
       "      <td>301</td>\n",
       "      <td>102</td>\n",
       "      <td>3</td>\n",
       "      <td>2.5</td>\n",
       "      <td>2.0</td>\n",
       "      <td>8.13</td>\n",
       "      <td>1</td>\n",
       "      <td>0.68</td>\n",
       "      <td>0</td>\n",
       "    </tr>\n",
       "  </tbody>\n",
       "</table>\n",
       "</div>"
      ],
      "text/plain": [
       "     Serial No.  GRE Score  TOEFL Score  University Rating  SOP  LOR  CGPA  \\\n",
       "90           91        318          106                  2  4.0  4.0  7.92   \n",
       "254         255        321          114                  4  4.0  5.0  9.12   \n",
       "283         284        321          111                  3  2.5  3.0  8.90   \n",
       "445         446        328          116                  5  4.5  5.0  9.08   \n",
       "461         462        301          102                  3  2.5  2.0  8.13   \n",
       "\n",
       "     Research  Chance of Admit  Admit  \n",
       "90          1             0.64      0  \n",
       "254         0             0.85      1  \n",
       "283         1             0.80      0  \n",
       "445         1             0.91      1  \n",
       "461         1             0.68      0  "
      ]
     },
     "metadata": {},
     "output_type": "display_data"
    }
   ],
   "source": [
    "train_df, test_df = train_test_split(df, test_size=0.2, random_state=0)\n",
    "display(train_df.head())\n",
    "display(test_df.head())"
   ]
  },
  {
   "cell_type": "markdown",
   "id": "a97f35c9",
   "metadata": {},
   "source": [
    "<font color=red><b>Action</b>: Extract the features and the label for the training set and the test set, respectively."
   ]
  },
  {
   "cell_type": "code",
   "execution_count": 9,
   "id": "d6cb8528",
   "metadata": {},
   "outputs": [],
   "source": [
    "train_x = train_df[features]\n",
    "train_y = train_df[label]\n",
    "\n",
    "test_x = test_df[features]\n",
    "test_y = test_df[label]"
   ]
  },
  {
   "cell_type": "markdown",
   "id": "e0110d6d",
   "metadata": {},
   "source": [
    "<font color=red><b>Action</b>: Display the proportion of each class in the training/test set"
   ]
  },
  {
   "cell_type": "code",
   "execution_count": 10,
   "id": "c6560e0a",
   "metadata": {},
   "outputs": [
    {
     "data": {
      "text/plain": [
       "Admit\n",
       "0    280\n",
       "1    120\n",
       "Name: count, dtype: int64"
      ]
     },
     "metadata": {},
     "output_type": "display_data"
    },
    {
     "data": {
      "text/plain": [
       "Admit\n",
       "0    78\n",
       "1    22\n",
       "Name: count, dtype: int64"
      ]
     },
     "metadata": {},
     "output_type": "display_data"
    }
   ],
   "source": [
    "display(train_y.value_counts())\n",
    "display(test_y.value_counts())"
   ]
  },
  {
   "cell_type": "markdown",
   "id": "561327b0",
   "metadata": {},
   "source": [
    "<font color=red><b>Action</b>: Display the proportion (in %) of each class in the training/test set"
   ]
  },
  {
   "cell_type": "code",
   "execution_count": 11,
   "id": "053e0cf4",
   "metadata": {},
   "outputs": [
    {
     "data": {
      "text/plain": [
       "Admit\n",
       "0    0.7\n",
       "1    0.3\n",
       "Name: count, dtype: float64"
      ]
     },
     "metadata": {},
     "output_type": "display_data"
    },
    {
     "data": {
      "text/plain": [
       "Admit\n",
       "0    0.78\n",
       "1    0.22\n",
       "Name: count, dtype: float64"
      ]
     },
     "metadata": {},
     "output_type": "display_data"
    }
   ],
   "source": [
    "display(train_y.value_counts() / train_y.shape[0])\n",
    "display(test_y.value_counts() / test_y.shape[0])"
   ]
  },
  {
   "cell_type": "markdown",
   "id": "80c442f4",
   "metadata": {},
   "source": [
    "### Build a logistic regression model"
   ]
  },
  {
   "cell_type": "code",
   "execution_count": 12,
   "id": "eadd550d",
   "metadata": {},
   "outputs": [],
   "source": [
    "from sklearn.linear_model import LogisticRegression"
   ]
  },
  {
   "cell_type": "markdown",
   "id": "a1f1af2b",
   "metadata": {},
   "source": [
    "<font color=red><b>Action 1</b>: Initialize a logistic regression model<br>\n",
    "<b>Action 2</b>: Train the model by the training features and the train label<br>\n",
    "<b>Action 3</b>: Predict the training label and the test label.<br>"
   ]
  },
  {
   "cell_type": "code",
   "execution_count": 13,
   "id": "37b60286",
   "metadata": {},
   "outputs": [],
   "source": [
    "model = LogisticRegression(max_iter=1000)\n",
    "model.fit(train_x, train_y)\n",
    "\n",
    "train_yhat = model.predict(train_x)\n",
    "test_yhat = model.predict(test_x)"
   ]
  },
  {
   "cell_type": "markdown",
   "id": "fa9dfe27",
   "metadata": {},
   "source": [
    "### Generate a confusion matrix"
   ]
  },
  {
   "cell_type": "markdown",
   "id": "57e71dff",
   "metadata": {},
   "source": [
    "<font color=red><b>Action</b>: Construct a confusion matrix for the training prediction"
   ]
  },
  {
   "cell_type": "code",
   "execution_count": null,
   "id": "71e2ee06",
   "metadata": {},
   "outputs": [],
   "source": [
    "metrics.confusion_matrix(train_y, train_yhat)"
   ]
  },
  {
   "cell_type": "markdown",
   "id": "a8428e71",
   "metadata": {},
   "source": [
    "<font color=red><b>Action</b>: Construct a confusion matrix for the test prediction"
   ]
  },
  {
   "cell_type": "code",
   "execution_count": 14,
   "id": "8026e446",
   "metadata": {},
   "outputs": [
    {
     "data": {
      "text/plain": [
       "array([[76,  2],\n",
       "       [ 1, 21]], dtype=int64)"
      ]
     },
     "execution_count": 14,
     "metadata": {},
     "output_type": "execute_result"
    }
   ],
   "source": [
    "metrics.confusion_matrix(test_y, test_yhat)"
   ]
  },
  {
   "cell_type": "markdown",
   "id": "f6c43a5e",
   "metadata": {},
   "source": [
    "The confusion matrix looks great as we have much more true positive and true negative than false positive and false negative."
   ]
  },
  {
   "cell_type": "markdown",
   "id": "d52f0db2",
   "metadata": {},
   "source": [
    "### Practice: Let's write a custom function to determine the classification metrics"
   ]
  },
  {
   "cell_type": "markdown",
   "id": "31c3d21f",
   "metadata": {},
   "source": [
    "<font color=red><b>Action</b>: Complete the following cell"
   ]
  },
  {
   "cell_type": "code",
   "execution_count": 15,
   "id": "69cf98e0",
   "metadata": {},
   "outputs": [],
   "source": [
    "def get_classification_metrics(y, yhat):\n",
    "    # Record the total number of samples\n",
    "    n = len(y)\n",
    "    \n",
    "    # Count the number of correct samples and calculate the accuracy\n",
    "    n_correct = (y == yhat).sum()\n",
    "    accuracy = n_correct / n\n",
    "    \n",
    "    # One way to calculate the error rate\n",
    "    error_rate = 1 - accuracy\n",
    "    \n",
    "    # The other way to calculate the error rate\n",
    "    n_incorrect = (y != yhat).sum()\n",
    "    error_rate = n_incorrect / n\n",
    "    \n",
    "    # Count the number of true positive\n",
    "    TP = ((y == 1) & (yhat == 1)).sum()\n",
    "    \n",
    "    # Count the number of false positive\n",
    "    FP = ((y == 0) & (yhat == 1)).sum()\n",
    "    \n",
    "    # Count the number of true negative\n",
    "    TN = ((y == 0) & (yhat == 0)).sum()\n",
    "    \n",
    "    # Count the number of false negative\n",
    "    FN = ((y == 1) & (yhat == 0)).sum()\n",
    "    \n",
    "    # Calculate sensitivity / specificity / precision / recall\n",
    "    sensitivity = recall = TP / (TP + FN)\n",
    "    specificity = TN / (FP + TN)\n",
    "    precision = TP / (TP + FP)\n",
    "    \n",
    "    item = ['Accuracy', 'Error Rate', 'Sensitivity', 'Specificity', 'Precision', 'Recall']\n",
    "    value = accuracy, error_rate, sensitivity, specificity, precision, recall\n",
    "    \n",
    "    df_out = {'Item': item, 'Value': value}\n",
    "    df_out = pd.DataFrame(df_out)\n",
    "    return df_out"
   ]
  },
  {
   "cell_type": "markdown",
   "id": "ccd5938b",
   "metadata": {},
   "source": [
    "<font color=red><b>Action</b>: Run the function above"
   ]
  },
  {
   "cell_type": "code",
   "execution_count": 16,
   "id": "7e6bd98d",
   "metadata": {},
   "outputs": [
    {
     "data": {
      "text/html": [
       "<div>\n",
       "<style scoped>\n",
       "    .dataframe tbody tr th:only-of-type {\n",
       "        vertical-align: middle;\n",
       "    }\n",
       "\n",
       "    .dataframe tbody tr th {\n",
       "        vertical-align: top;\n",
       "    }\n",
       "\n",
       "    .dataframe thead th {\n",
       "        text-align: right;\n",
       "    }\n",
       "</style>\n",
       "<table border=\"1\" class=\"dataframe\">\n",
       "  <thead>\n",
       "    <tr style=\"text-align: right;\">\n",
       "      <th></th>\n",
       "      <th>Item</th>\n",
       "      <th>Value</th>\n",
       "    </tr>\n",
       "  </thead>\n",
       "  <tbody>\n",
       "    <tr>\n",
       "      <th>0</th>\n",
       "      <td>Accuracy</td>\n",
       "      <td>0.970000</td>\n",
       "    </tr>\n",
       "    <tr>\n",
       "      <th>1</th>\n",
       "      <td>Error Rate</td>\n",
       "      <td>0.030000</td>\n",
       "    </tr>\n",
       "    <tr>\n",
       "      <th>2</th>\n",
       "      <td>Sensitivity</td>\n",
       "      <td>0.954545</td>\n",
       "    </tr>\n",
       "    <tr>\n",
       "      <th>3</th>\n",
       "      <td>Specificity</td>\n",
       "      <td>0.974359</td>\n",
       "    </tr>\n",
       "    <tr>\n",
       "      <th>4</th>\n",
       "      <td>Precision</td>\n",
       "      <td>0.913043</td>\n",
       "    </tr>\n",
       "    <tr>\n",
       "      <th>5</th>\n",
       "      <td>Recall</td>\n",
       "      <td>0.954545</td>\n",
       "    </tr>\n",
       "  </tbody>\n",
       "</table>\n",
       "</div>"
      ],
      "text/plain": [
       "          Item     Value\n",
       "0     Accuracy  0.970000\n",
       "1   Error Rate  0.030000\n",
       "2  Sensitivity  0.954545\n",
       "3  Specificity  0.974359\n",
       "4    Precision  0.913043\n",
       "5       Recall  0.954545"
      ]
     },
     "execution_count": 16,
     "metadata": {},
     "output_type": "execute_result"
    }
   ],
   "source": [
    "get_classification_metrics(test_y, test_yhat)"
   ]
  },
  {
   "cell_type": "markdown",
   "id": "f633bb1f",
   "metadata": {},
   "source": [
    "# Solve it as a regression problem\n",
    "In this dataset, there are numeric labels (Chance of Admit) and categorical labels (Admit).<br>\n",
    "Hence, it can be solved as a regression problem, too.\n",
    "\n",
    "In classification, we are predicting the categorical labels directly.<br>\n",
    "If we are taking it as a regression problem, we will first predict the numeric labels, then convert it to the equivalent categorical labels."
   ]
  },
  {
   "cell_type": "markdown",
   "id": "49604e25",
   "metadata": {},
   "source": [
    "### Get the features and the label again\n",
    "This time, we are taking the numeric labels to train the model, so we have to exclude the categorical labels."
   ]
  },
  {
   "cell_type": "markdown",
   "id": "9e476d08",
   "metadata": {},
   "source": [
    "<font color=red><b>Action 1</b>: Create a string variable to be the column name of the label<br>\n",
    "<b>Action 2</b>: Create a list that contains the names of columns to be used as input features"
   ]
  },
  {
   "cell_type": "code",
   "execution_count": 17,
   "id": "2f2f1595",
   "metadata": {},
   "outputs": [],
   "source": [
    "label = 'Chance of Admit'\n",
    "excluded_features = [label, 'Serial No.', 'Admit']\n",
    "features = [feature for feature in list(df) if feature not in excluded_features]"
   ]
  },
  {
   "cell_type": "markdown",
   "id": "c70daed8",
   "metadata": {},
   "source": [
    "<font color=red><b>Action</b>: Split the full DataFrame into the training set and the test set.</font>"
   ]
  },
  {
   "cell_type": "code",
   "execution_count": 18,
   "id": "77908462",
   "metadata": {},
   "outputs": [
    {
     "data": {
      "text/html": [
       "<div>\n",
       "<style scoped>\n",
       "    .dataframe tbody tr th:only-of-type {\n",
       "        vertical-align: middle;\n",
       "    }\n",
       "\n",
       "    .dataframe tbody tr th {\n",
       "        vertical-align: top;\n",
       "    }\n",
       "\n",
       "    .dataframe thead th {\n",
       "        text-align: right;\n",
       "    }\n",
       "</style>\n",
       "<table border=\"1\" class=\"dataframe\">\n",
       "  <thead>\n",
       "    <tr style=\"text-align: right;\">\n",
       "      <th></th>\n",
       "      <th>Serial No.</th>\n",
       "      <th>GRE Score</th>\n",
       "      <th>TOEFL Score</th>\n",
       "      <th>University Rating</th>\n",
       "      <th>SOP</th>\n",
       "      <th>LOR</th>\n",
       "      <th>CGPA</th>\n",
       "      <th>Research</th>\n",
       "      <th>Chance of Admit</th>\n",
       "      <th>Admit</th>\n",
       "    </tr>\n",
       "  </thead>\n",
       "  <tbody>\n",
       "    <tr>\n",
       "      <th>107</th>\n",
       "      <td>108</td>\n",
       "      <td>338</td>\n",
       "      <td>117</td>\n",
       "      <td>4</td>\n",
       "      <td>3.5</td>\n",
       "      <td>4.5</td>\n",
       "      <td>9.46</td>\n",
       "      <td>1</td>\n",
       "      <td>0.91</td>\n",
       "      <td>1</td>\n",
       "    </tr>\n",
       "    <tr>\n",
       "      <th>336</th>\n",
       "      <td>337</td>\n",
       "      <td>319</td>\n",
       "      <td>110</td>\n",
       "      <td>3</td>\n",
       "      <td>3.0</td>\n",
       "      <td>2.5</td>\n",
       "      <td>8.79</td>\n",
       "      <td>0</td>\n",
       "      <td>0.72</td>\n",
       "      <td>0</td>\n",
       "    </tr>\n",
       "    <tr>\n",
       "      <th>71</th>\n",
       "      <td>72</td>\n",
       "      <td>336</td>\n",
       "      <td>112</td>\n",
       "      <td>5</td>\n",
       "      <td>5.0</td>\n",
       "      <td>5.0</td>\n",
       "      <td>9.76</td>\n",
       "      <td>1</td>\n",
       "      <td>0.96</td>\n",
       "      <td>1</td>\n",
       "    </tr>\n",
       "    <tr>\n",
       "      <th>474</th>\n",
       "      <td>475</td>\n",
       "      <td>308</td>\n",
       "      <td>105</td>\n",
       "      <td>4</td>\n",
       "      <td>3.0</td>\n",
       "      <td>2.5</td>\n",
       "      <td>7.95</td>\n",
       "      <td>1</td>\n",
       "      <td>0.67</td>\n",
       "      <td>0</td>\n",
       "    </tr>\n",
       "    <tr>\n",
       "      <th>6</th>\n",
       "      <td>7</td>\n",
       "      <td>321</td>\n",
       "      <td>109</td>\n",
       "      <td>3</td>\n",
       "      <td>3.0</td>\n",
       "      <td>4.0</td>\n",
       "      <td>8.20</td>\n",
       "      <td>1</td>\n",
       "      <td>0.75</td>\n",
       "      <td>0</td>\n",
       "    </tr>\n",
       "  </tbody>\n",
       "</table>\n",
       "</div>"
      ],
      "text/plain": [
       "     Serial No.  GRE Score  TOEFL Score  University Rating  SOP  LOR  CGPA  \\\n",
       "107         108        338          117                  4  3.5  4.5  9.46   \n",
       "336         337        319          110                  3  3.0  2.5  8.79   \n",
       "71           72        336          112                  5  5.0  5.0  9.76   \n",
       "474         475        308          105                  4  3.0  2.5  7.95   \n",
       "6             7        321          109                  3  3.0  4.0  8.20   \n",
       "\n",
       "     Research  Chance of Admit  Admit  \n",
       "107         1             0.91      1  \n",
       "336         0             0.72      0  \n",
       "71          1             0.96      1  \n",
       "474         1             0.67      0  \n",
       "6           1             0.75      0  "
      ]
     },
     "metadata": {},
     "output_type": "display_data"
    },
    {
     "data": {
      "text/html": [
       "<div>\n",
       "<style scoped>\n",
       "    .dataframe tbody tr th:only-of-type {\n",
       "        vertical-align: middle;\n",
       "    }\n",
       "\n",
       "    .dataframe tbody tr th {\n",
       "        vertical-align: top;\n",
       "    }\n",
       "\n",
       "    .dataframe thead th {\n",
       "        text-align: right;\n",
       "    }\n",
       "</style>\n",
       "<table border=\"1\" class=\"dataframe\">\n",
       "  <thead>\n",
       "    <tr style=\"text-align: right;\">\n",
       "      <th></th>\n",
       "      <th>Serial No.</th>\n",
       "      <th>GRE Score</th>\n",
       "      <th>TOEFL Score</th>\n",
       "      <th>University Rating</th>\n",
       "      <th>SOP</th>\n",
       "      <th>LOR</th>\n",
       "      <th>CGPA</th>\n",
       "      <th>Research</th>\n",
       "      <th>Chance of Admit</th>\n",
       "      <th>Admit</th>\n",
       "    </tr>\n",
       "  </thead>\n",
       "  <tbody>\n",
       "    <tr>\n",
       "      <th>90</th>\n",
       "      <td>91</td>\n",
       "      <td>318</td>\n",
       "      <td>106</td>\n",
       "      <td>2</td>\n",
       "      <td>4.0</td>\n",
       "      <td>4.0</td>\n",
       "      <td>7.92</td>\n",
       "      <td>1</td>\n",
       "      <td>0.64</td>\n",
       "      <td>0</td>\n",
       "    </tr>\n",
       "    <tr>\n",
       "      <th>254</th>\n",
       "      <td>255</td>\n",
       "      <td>321</td>\n",
       "      <td>114</td>\n",
       "      <td>4</td>\n",
       "      <td>4.0</td>\n",
       "      <td>5.0</td>\n",
       "      <td>9.12</td>\n",
       "      <td>0</td>\n",
       "      <td>0.85</td>\n",
       "      <td>1</td>\n",
       "    </tr>\n",
       "    <tr>\n",
       "      <th>283</th>\n",
       "      <td>284</td>\n",
       "      <td>321</td>\n",
       "      <td>111</td>\n",
       "      <td>3</td>\n",
       "      <td>2.5</td>\n",
       "      <td>3.0</td>\n",
       "      <td>8.90</td>\n",
       "      <td>1</td>\n",
       "      <td>0.80</td>\n",
       "      <td>0</td>\n",
       "    </tr>\n",
       "    <tr>\n",
       "      <th>445</th>\n",
       "      <td>446</td>\n",
       "      <td>328</td>\n",
       "      <td>116</td>\n",
       "      <td>5</td>\n",
       "      <td>4.5</td>\n",
       "      <td>5.0</td>\n",
       "      <td>9.08</td>\n",
       "      <td>1</td>\n",
       "      <td>0.91</td>\n",
       "      <td>1</td>\n",
       "    </tr>\n",
       "    <tr>\n",
       "      <th>461</th>\n",
       "      <td>462</td>\n",
       "      <td>301</td>\n",
       "      <td>102</td>\n",
       "      <td>3</td>\n",
       "      <td>2.5</td>\n",
       "      <td>2.0</td>\n",
       "      <td>8.13</td>\n",
       "      <td>1</td>\n",
       "      <td>0.68</td>\n",
       "      <td>0</td>\n",
       "    </tr>\n",
       "  </tbody>\n",
       "</table>\n",
       "</div>"
      ],
      "text/plain": [
       "     Serial No.  GRE Score  TOEFL Score  University Rating  SOP  LOR  CGPA  \\\n",
       "90           91        318          106                  2  4.0  4.0  7.92   \n",
       "254         255        321          114                  4  4.0  5.0  9.12   \n",
       "283         284        321          111                  3  2.5  3.0  8.90   \n",
       "445         446        328          116                  5  4.5  5.0  9.08   \n",
       "461         462        301          102                  3  2.5  2.0  8.13   \n",
       "\n",
       "     Research  Chance of Admit  Admit  \n",
       "90          1             0.64      0  \n",
       "254         0             0.85      1  \n",
       "283         1             0.80      0  \n",
       "445         1             0.91      1  \n",
       "461         1             0.68      0  "
      ]
     },
     "metadata": {},
     "output_type": "display_data"
    }
   ],
   "source": [
    "train_df, test_df = train_test_split(df, test_size=0.2, random_state=0)\n",
    "display(train_df.head())\n",
    "display(test_df.head())"
   ]
  },
  {
   "cell_type": "markdown",
   "id": "84266638",
   "metadata": {},
   "source": [
    "<font color=red><b>Action</b>: Extract the features and the label for the training set and the test set, respectively."
   ]
  },
  {
   "cell_type": "code",
   "execution_count": 19,
   "id": "c0e1e319",
   "metadata": {},
   "outputs": [],
   "source": [
    "train_x = train_df[features]\n",
    "train_y = train_df[label]\n",
    "\n",
    "test_x = test_df[features]\n",
    "test_y = test_df[label]"
   ]
  },
  {
   "cell_type": "markdown",
   "id": "fa8536b9",
   "metadata": {},
   "source": [
    "### Build the regression model"
   ]
  },
  {
   "cell_type": "markdown",
   "id": "c9d14f69",
   "metadata": {},
   "source": [
    "<font color=red><b>Action 1</b>: Initialize a linear regression model<br>\n",
    "<b>Action 2</b>: Train the model by the training features and the train label<br>\n",
    "<b>Action 3</b>: Predict the training label and the test label<br>"
   ]
  },
  {
   "cell_type": "code",
   "execution_count": 20,
   "id": "75a9d567",
   "metadata": {},
   "outputs": [],
   "source": [
    "model = LinearRegression()\n",
    "model.fit(train_x, train_y)\n",
    "\n",
    "train_yhat = model.predict(train_x)\n",
    "test_yhat = model.predict(test_x)"
   ]
  },
  {
   "cell_type": "markdown",
   "id": "6da24047",
   "metadata": {},
   "source": [
    "### Convert the prediction to categories"
   ]
  },
  {
   "cell_type": "markdown",
   "id": "30bb0dc0",
   "metadata": {},
   "source": [
    "<font color=red><b>Action</b>: Extract the actual categorical label"
   ]
  },
  {
   "cell_type": "code",
   "execution_count": 21,
   "id": "7fcd6ee7",
   "metadata": {},
   "outputs": [],
   "source": [
    "test_y_cat = test_df['Admit']"
   ]
  },
  {
   "cell_type": "markdown",
   "id": "87298084",
   "metadata": {},
   "source": [
    "<font color=red><b>Action</b>: Convert the predicted numeric label to the predicted categorical label"
   ]
  },
  {
   "cell_type": "code",
   "execution_count": 22,
   "id": "e11006bc",
   "metadata": {},
   "outputs": [],
   "source": [
    "test_yhat_cat = (test_yhat > 0.8).astype('int')"
   ]
  },
  {
   "cell_type": "markdown",
   "id": "50cd68b7",
   "metadata": {},
   "source": [
    "### Construct the confusion matrix"
   ]
  },
  {
   "cell_type": "markdown",
   "id": "f56f8f01",
   "metadata": {},
   "source": [
    "<font color=red><b>Action</b>: Construct a confusion matrix for the test prediction"
   ]
  },
  {
   "cell_type": "code",
   "execution_count": 23,
   "id": "e6eece7e",
   "metadata": {},
   "outputs": [
    {
     "data": {
      "text/plain": [
       "array([[74,  4],\n",
       "       [ 1, 21]], dtype=int64)"
      ]
     },
     "execution_count": 23,
     "metadata": {},
     "output_type": "execute_result"
    }
   ],
   "source": [
    "metrics.confusion_matrix(test_y_cat, test_yhat_cat)"
   ]
  },
  {
   "cell_type": "markdown",
   "id": "78fc3d44",
   "metadata": {},
   "source": [
    "### Get the classification metrics"
   ]
  },
  {
   "cell_type": "markdown",
   "id": "ed7e07ee",
   "metadata": {},
   "source": [
    "<font color=red><b>Action</b>: Determine the classification metrics"
   ]
  },
  {
   "cell_type": "code",
   "execution_count": 24,
   "id": "fecd56b9",
   "metadata": {},
   "outputs": [
    {
     "data": {
      "text/html": [
       "<div>\n",
       "<style scoped>\n",
       "    .dataframe tbody tr th:only-of-type {\n",
       "        vertical-align: middle;\n",
       "    }\n",
       "\n",
       "    .dataframe tbody tr th {\n",
       "        vertical-align: top;\n",
       "    }\n",
       "\n",
       "    .dataframe thead th {\n",
       "        text-align: right;\n",
       "    }\n",
       "</style>\n",
       "<table border=\"1\" class=\"dataframe\">\n",
       "  <thead>\n",
       "    <tr style=\"text-align: right;\">\n",
       "      <th></th>\n",
       "      <th>Item</th>\n",
       "      <th>Value</th>\n",
       "    </tr>\n",
       "  </thead>\n",
       "  <tbody>\n",
       "    <tr>\n",
       "      <th>0</th>\n",
       "      <td>Accuracy</td>\n",
       "      <td>0.950000</td>\n",
       "    </tr>\n",
       "    <tr>\n",
       "      <th>1</th>\n",
       "      <td>Error Rate</td>\n",
       "      <td>0.050000</td>\n",
       "    </tr>\n",
       "    <tr>\n",
       "      <th>2</th>\n",
       "      <td>Sensitivity</td>\n",
       "      <td>0.954545</td>\n",
       "    </tr>\n",
       "    <tr>\n",
       "      <th>3</th>\n",
       "      <td>Specificity</td>\n",
       "      <td>0.948718</td>\n",
       "    </tr>\n",
       "    <tr>\n",
       "      <th>4</th>\n",
       "      <td>Precision</td>\n",
       "      <td>0.840000</td>\n",
       "    </tr>\n",
       "    <tr>\n",
       "      <th>5</th>\n",
       "      <td>Recall</td>\n",
       "      <td>0.954545</td>\n",
       "    </tr>\n",
       "  </tbody>\n",
       "</table>\n",
       "</div>"
      ],
      "text/plain": [
       "          Item     Value\n",
       "0     Accuracy  0.950000\n",
       "1   Error Rate  0.050000\n",
       "2  Sensitivity  0.954545\n",
       "3  Specificity  0.948718\n",
       "4    Precision  0.840000\n",
       "5       Recall  0.954545"
      ]
     },
     "execution_count": 24,
     "metadata": {},
     "output_type": "execute_result"
    }
   ],
   "source": [
    "get_classification_metrics(test_y_cat, test_yhat_cat)"
   ]
  },
  {
   "cell_type": "markdown",
   "id": "7d1cfef9",
   "metadata": {},
   "source": [
    "We can see that, the linear regression model and the logistic regression model perform almost the same."
   ]
  },
  {
   "cell_type": "code",
   "execution_count": null,
   "id": "bae3e973",
   "metadata": {},
   "outputs": [],
   "source": []
  }
 ],
 "metadata": {
  "kernelspec": {
   "display_name": "Python 3 (ipykernel)",
   "language": "python",
   "name": "python3"
  },
  "language_info": {
   "codemirror_mode": {
    "name": "ipython",
    "version": 3
   },
   "file_extension": ".py",
   "mimetype": "text/x-python",
   "name": "python",
   "nbconvert_exporter": "python",
   "pygments_lexer": "ipython3",
   "version": "3.11.5"
  }
 },
 "nbformat": 4,
 "nbformat_minor": 5
}
