{
 "cells": [
  {
   "cell_type": "markdown",
   "id": "bc27641d",
   "metadata": {},
   "source": [
    "# Logistic Regression - Class Exercise 2"
   ]
  },
  {
   "cell_type": "markdown",
   "id": "1da89e7e",
   "metadata": {},
   "source": [
    "## Introduction\n",
    "\n",
    "Breast cancer is a disease in which abnormal breast cells grow out of control and form tumours. If left unchecked, the tumours can spread throughout the body and become fatal. There are a few types of breast cancer such as triple-negative breast cancer, inflammatory breast cancer, etc.\n",
    "\n",
    "We will use the \"breast-cancer-wisconsin\" dataset for this exercise. This dataset contains 10 features. Our goal is to build a logistic regression model to predict the class of breast cancer."
   ]
  },
  {
   "cell_type": "markdown",
   "id": "3e227565",
   "metadata": {},
   "source": [
    "## Metadata (Data Dictionary)\n",
    "\n",
    "| Variable | Data Type | Description |\n",
    "|----------|-----------|-------------|\n",
    "| ID | int | ID of the patient |\n",
    "| Clump Thickness | int | Clump Thickness |\n",
    "| Uniformity of Cell Size | int | Uniformity of Cell Size |\n",
    "| Uniformity of Cell Shape | int | Uniformity of Cell Shape |\n",
    "| Marginal Adhesion | int | Marginal Adhesion |\n",
    "| Single Epithelial Cell Size | int | Single Epithelial Cell Size |\n",
    "| Bare Nuclei | float | Bare Nuclei |\n",
    "| Bland Chromatin | int | Bland Chromatin |\n",
    "| Normal Nucleili | int | Normal Nucleili |\n",
    "| Mitoses | int | Mitoses |\n",
    "| Class | int | Class of the breast cancer |\n"
   ]
  },
  {
   "cell_type": "markdown",
   "id": "1f6f24e1",
   "metadata": {},
   "source": [
    "## Import necessary libraries"
   ]
  },
  {
   "cell_type": "code",
   "execution_count": 1,
   "id": "33a2ac9f",
   "metadata": {},
   "outputs": [],
   "source": [
    "import numpy as np\n",
    "import pandas as pd\n",
    "import matplotlib.pyplot as plt\n",
    "\n",
    "from sklearn.linear_model import LinearRegression\n",
    "from sklearn.model_selection import train_test_split\n",
    "from sklearn import metrics"
   ]
  },
  {
   "cell_type": "markdown",
   "id": "17757941",
   "metadata": {},
   "source": [
    "## Import Data"
   ]
  },
  {
   "cell_type": "markdown",
   "id": "945425e0",
   "metadata": {},
   "source": [
    "<font color=red><b>Action</b>: Load the data file and check against the metadata."
   ]
  },
  {
   "cell_type": "code",
   "execution_count": 2,
   "id": "ecc4d59c",
   "metadata": {},
   "outputs": [
    {
     "data": {
      "text/html": [
       "<div>\n",
       "<style scoped>\n",
       "    .dataframe tbody tr th:only-of-type {\n",
       "        vertical-align: middle;\n",
       "    }\n",
       "\n",
       "    .dataframe tbody tr th {\n",
       "        vertical-align: top;\n",
       "    }\n",
       "\n",
       "    .dataframe thead th {\n",
       "        text-align: right;\n",
       "    }\n",
       "</style>\n",
       "<table border=\"1\" class=\"dataframe\">\n",
       "  <thead>\n",
       "    <tr style=\"text-align: right;\">\n",
       "      <th></th>\n",
       "      <th>ID</th>\n",
       "      <th>Clump Thickness</th>\n",
       "      <th>Uniformity of Cell Size</th>\n",
       "      <th>Uniformity of Cell Shape</th>\n",
       "      <th>Marginal Adhesion</th>\n",
       "      <th>Single Epithelial Cell Size</th>\n",
       "      <th>Bare Nuclei</th>\n",
       "      <th>Bland Chromatin</th>\n",
       "      <th>Normal Nucleili</th>\n",
       "      <th>Mitoses</th>\n",
       "      <th>Class</th>\n",
       "    </tr>\n",
       "  </thead>\n",
       "  <tbody>\n",
       "    <tr>\n",
       "      <th>0</th>\n",
       "      <td>1000025</td>\n",
       "      <td>5</td>\n",
       "      <td>1</td>\n",
       "      <td>1</td>\n",
       "      <td>1</td>\n",
       "      <td>2</td>\n",
       "      <td>1.0</td>\n",
       "      <td>3</td>\n",
       "      <td>1</td>\n",
       "      <td>1</td>\n",
       "      <td>2</td>\n",
       "    </tr>\n",
       "    <tr>\n",
       "      <th>1</th>\n",
       "      <td>1002945</td>\n",
       "      <td>5</td>\n",
       "      <td>4</td>\n",
       "      <td>4</td>\n",
       "      <td>5</td>\n",
       "      <td>7</td>\n",
       "      <td>10.0</td>\n",
       "      <td>3</td>\n",
       "      <td>2</td>\n",
       "      <td>1</td>\n",
       "      <td>2</td>\n",
       "    </tr>\n",
       "    <tr>\n",
       "      <th>2</th>\n",
       "      <td>1015425</td>\n",
       "      <td>3</td>\n",
       "      <td>1</td>\n",
       "      <td>1</td>\n",
       "      <td>1</td>\n",
       "      <td>2</td>\n",
       "      <td>2.0</td>\n",
       "      <td>3</td>\n",
       "      <td>1</td>\n",
       "      <td>1</td>\n",
       "      <td>2</td>\n",
       "    </tr>\n",
       "    <tr>\n",
       "      <th>3</th>\n",
       "      <td>1016277</td>\n",
       "      <td>6</td>\n",
       "      <td>8</td>\n",
       "      <td>8</td>\n",
       "      <td>1</td>\n",
       "      <td>3</td>\n",
       "      <td>4.0</td>\n",
       "      <td>3</td>\n",
       "      <td>7</td>\n",
       "      <td>1</td>\n",
       "      <td>2</td>\n",
       "    </tr>\n",
       "    <tr>\n",
       "      <th>4</th>\n",
       "      <td>1017023</td>\n",
       "      <td>4</td>\n",
       "      <td>1</td>\n",
       "      <td>1</td>\n",
       "      <td>3</td>\n",
       "      <td>2</td>\n",
       "      <td>1.0</td>\n",
       "      <td>3</td>\n",
       "      <td>1</td>\n",
       "      <td>1</td>\n",
       "      <td>2</td>\n",
       "    </tr>\n",
       "    <tr>\n",
       "      <th>...</th>\n",
       "      <td>...</td>\n",
       "      <td>...</td>\n",
       "      <td>...</td>\n",
       "      <td>...</td>\n",
       "      <td>...</td>\n",
       "      <td>...</td>\n",
       "      <td>...</td>\n",
       "      <td>...</td>\n",
       "      <td>...</td>\n",
       "      <td>...</td>\n",
       "      <td>...</td>\n",
       "    </tr>\n",
       "    <tr>\n",
       "      <th>694</th>\n",
       "      <td>776715</td>\n",
       "      <td>3</td>\n",
       "      <td>1</td>\n",
       "      <td>1</td>\n",
       "      <td>1</td>\n",
       "      <td>3</td>\n",
       "      <td>2.0</td>\n",
       "      <td>1</td>\n",
       "      <td>1</td>\n",
       "      <td>1</td>\n",
       "      <td>2</td>\n",
       "    </tr>\n",
       "    <tr>\n",
       "      <th>695</th>\n",
       "      <td>841769</td>\n",
       "      <td>2</td>\n",
       "      <td>1</td>\n",
       "      <td>1</td>\n",
       "      <td>1</td>\n",
       "      <td>2</td>\n",
       "      <td>1.0</td>\n",
       "      <td>1</td>\n",
       "      <td>1</td>\n",
       "      <td>1</td>\n",
       "      <td>2</td>\n",
       "    </tr>\n",
       "    <tr>\n",
       "      <th>696</th>\n",
       "      <td>888820</td>\n",
       "      <td>5</td>\n",
       "      <td>10</td>\n",
       "      <td>10</td>\n",
       "      <td>3</td>\n",
       "      <td>7</td>\n",
       "      <td>3.0</td>\n",
       "      <td>8</td>\n",
       "      <td>10</td>\n",
       "      <td>2</td>\n",
       "      <td>4</td>\n",
       "    </tr>\n",
       "    <tr>\n",
       "      <th>697</th>\n",
       "      <td>897471</td>\n",
       "      <td>4</td>\n",
       "      <td>8</td>\n",
       "      <td>6</td>\n",
       "      <td>4</td>\n",
       "      <td>3</td>\n",
       "      <td>4.0</td>\n",
       "      <td>10</td>\n",
       "      <td>6</td>\n",
       "      <td>1</td>\n",
       "      <td>4</td>\n",
       "    </tr>\n",
       "    <tr>\n",
       "      <th>698</th>\n",
       "      <td>897471</td>\n",
       "      <td>4</td>\n",
       "      <td>8</td>\n",
       "      <td>8</td>\n",
       "      <td>5</td>\n",
       "      <td>4</td>\n",
       "      <td>5.0</td>\n",
       "      <td>10</td>\n",
       "      <td>4</td>\n",
       "      <td>1</td>\n",
       "      <td>4</td>\n",
       "    </tr>\n",
       "  </tbody>\n",
       "</table>\n",
       "<p>699 rows × 11 columns</p>\n",
       "</div>"
      ],
      "text/plain": [
       "          ID  Clump Thickness  Uniformity of Cell Size  \\\n",
       "0    1000025                5                        1   \n",
       "1    1002945                5                        4   \n",
       "2    1015425                3                        1   \n",
       "3    1016277                6                        8   \n",
       "4    1017023                4                        1   \n",
       "..       ...              ...                      ...   \n",
       "694   776715                3                        1   \n",
       "695   841769                2                        1   \n",
       "696   888820                5                       10   \n",
       "697   897471                4                        8   \n",
       "698   897471                4                        8   \n",
       "\n",
       "     Uniformity of Cell Shape  Marginal Adhesion  Single Epithelial Cell Size  \\\n",
       "0                           1                  1                            2   \n",
       "1                           4                  5                            7   \n",
       "2                           1                  1                            2   \n",
       "3                           8                  1                            3   \n",
       "4                           1                  3                            2   \n",
       "..                        ...                ...                          ...   \n",
       "694                         1                  1                            3   \n",
       "695                         1                  1                            2   \n",
       "696                        10                  3                            7   \n",
       "697                         6                  4                            3   \n",
       "698                         8                  5                            4   \n",
       "\n",
       "     Bare Nuclei  Bland Chromatin  Normal Nucleili  Mitoses  Class  \n",
       "0            1.0                3                1        1      2  \n",
       "1           10.0                3                2        1      2  \n",
       "2            2.0                3                1        1      2  \n",
       "3            4.0                3                7        1      2  \n",
       "4            1.0                3                1        1      2  \n",
       "..           ...              ...              ...      ...    ...  \n",
       "694          2.0                1                1        1      2  \n",
       "695          1.0                1                1        1      2  \n",
       "696          3.0                8               10        2      4  \n",
       "697          4.0               10                6        1      4  \n",
       "698          5.0               10                4        1      4  \n",
       "\n",
       "[699 rows x 11 columns]"
      ]
     },
     "execution_count": 2,
     "metadata": {},
     "output_type": "execute_result"
    }
   ],
   "source": [
    "df = pd.read_csv('breast-cancer-wisconsin.csv')\n",
    "df"
   ]
  },
  {
   "cell_type": "markdown",
   "id": "d19a8d4a",
   "metadata": {},
   "source": [
    "In our dataset, we have 2 classes, Class 2 and Class4.<br>\n",
    "It is not a common convention to denote the classes.<br>\n",
    "We can convert them to Class 0 and Class 1."
   ]
  },
  {
   "cell_type": "markdown",
   "id": "a632560a",
   "metadata": {},
   "source": [
    "<font color=red><b>Action</b>: For \"Class\" column, convert 2 to 0 and 4 to 1"
   ]
  },
  {
   "cell_type": "code",
   "execution_count": 3,
   "id": "3f02d175",
   "metadata": {},
   "outputs": [
    {
     "data": {
      "text/html": [
       "<div>\n",
       "<style scoped>\n",
       "    .dataframe tbody tr th:only-of-type {\n",
       "        vertical-align: middle;\n",
       "    }\n",
       "\n",
       "    .dataframe tbody tr th {\n",
       "        vertical-align: top;\n",
       "    }\n",
       "\n",
       "    .dataframe thead th {\n",
       "        text-align: right;\n",
       "    }\n",
       "</style>\n",
       "<table border=\"1\" class=\"dataframe\">\n",
       "  <thead>\n",
       "    <tr style=\"text-align: right;\">\n",
       "      <th></th>\n",
       "      <th>ID</th>\n",
       "      <th>Clump Thickness</th>\n",
       "      <th>Uniformity of Cell Size</th>\n",
       "      <th>Uniformity of Cell Shape</th>\n",
       "      <th>Marginal Adhesion</th>\n",
       "      <th>Single Epithelial Cell Size</th>\n",
       "      <th>Bare Nuclei</th>\n",
       "      <th>Bland Chromatin</th>\n",
       "      <th>Normal Nucleili</th>\n",
       "      <th>Mitoses</th>\n",
       "      <th>Class</th>\n",
       "    </tr>\n",
       "  </thead>\n",
       "  <tbody>\n",
       "    <tr>\n",
       "      <th>0</th>\n",
       "      <td>1000025</td>\n",
       "      <td>5</td>\n",
       "      <td>1</td>\n",
       "      <td>1</td>\n",
       "      <td>1</td>\n",
       "      <td>2</td>\n",
       "      <td>1.0</td>\n",
       "      <td>3</td>\n",
       "      <td>1</td>\n",
       "      <td>1</td>\n",
       "      <td>0</td>\n",
       "    </tr>\n",
       "    <tr>\n",
       "      <th>1</th>\n",
       "      <td>1002945</td>\n",
       "      <td>5</td>\n",
       "      <td>4</td>\n",
       "      <td>4</td>\n",
       "      <td>5</td>\n",
       "      <td>7</td>\n",
       "      <td>10.0</td>\n",
       "      <td>3</td>\n",
       "      <td>2</td>\n",
       "      <td>1</td>\n",
       "      <td>0</td>\n",
       "    </tr>\n",
       "    <tr>\n",
       "      <th>2</th>\n",
       "      <td>1015425</td>\n",
       "      <td>3</td>\n",
       "      <td>1</td>\n",
       "      <td>1</td>\n",
       "      <td>1</td>\n",
       "      <td>2</td>\n",
       "      <td>2.0</td>\n",
       "      <td>3</td>\n",
       "      <td>1</td>\n",
       "      <td>1</td>\n",
       "      <td>0</td>\n",
       "    </tr>\n",
       "    <tr>\n",
       "      <th>3</th>\n",
       "      <td>1016277</td>\n",
       "      <td>6</td>\n",
       "      <td>8</td>\n",
       "      <td>8</td>\n",
       "      <td>1</td>\n",
       "      <td>3</td>\n",
       "      <td>4.0</td>\n",
       "      <td>3</td>\n",
       "      <td>7</td>\n",
       "      <td>1</td>\n",
       "      <td>0</td>\n",
       "    </tr>\n",
       "    <tr>\n",
       "      <th>4</th>\n",
       "      <td>1017023</td>\n",
       "      <td>4</td>\n",
       "      <td>1</td>\n",
       "      <td>1</td>\n",
       "      <td>3</td>\n",
       "      <td>2</td>\n",
       "      <td>1.0</td>\n",
       "      <td>3</td>\n",
       "      <td>1</td>\n",
       "      <td>1</td>\n",
       "      <td>0</td>\n",
       "    </tr>\n",
       "    <tr>\n",
       "      <th>...</th>\n",
       "      <td>...</td>\n",
       "      <td>...</td>\n",
       "      <td>...</td>\n",
       "      <td>...</td>\n",
       "      <td>...</td>\n",
       "      <td>...</td>\n",
       "      <td>...</td>\n",
       "      <td>...</td>\n",
       "      <td>...</td>\n",
       "      <td>...</td>\n",
       "      <td>...</td>\n",
       "    </tr>\n",
       "    <tr>\n",
       "      <th>694</th>\n",
       "      <td>776715</td>\n",
       "      <td>3</td>\n",
       "      <td>1</td>\n",
       "      <td>1</td>\n",
       "      <td>1</td>\n",
       "      <td>3</td>\n",
       "      <td>2.0</td>\n",
       "      <td>1</td>\n",
       "      <td>1</td>\n",
       "      <td>1</td>\n",
       "      <td>0</td>\n",
       "    </tr>\n",
       "    <tr>\n",
       "      <th>695</th>\n",
       "      <td>841769</td>\n",
       "      <td>2</td>\n",
       "      <td>1</td>\n",
       "      <td>1</td>\n",
       "      <td>1</td>\n",
       "      <td>2</td>\n",
       "      <td>1.0</td>\n",
       "      <td>1</td>\n",
       "      <td>1</td>\n",
       "      <td>1</td>\n",
       "      <td>0</td>\n",
       "    </tr>\n",
       "    <tr>\n",
       "      <th>696</th>\n",
       "      <td>888820</td>\n",
       "      <td>5</td>\n",
       "      <td>10</td>\n",
       "      <td>10</td>\n",
       "      <td>3</td>\n",
       "      <td>7</td>\n",
       "      <td>3.0</td>\n",
       "      <td>8</td>\n",
       "      <td>10</td>\n",
       "      <td>2</td>\n",
       "      <td>1</td>\n",
       "    </tr>\n",
       "    <tr>\n",
       "      <th>697</th>\n",
       "      <td>897471</td>\n",
       "      <td>4</td>\n",
       "      <td>8</td>\n",
       "      <td>6</td>\n",
       "      <td>4</td>\n",
       "      <td>3</td>\n",
       "      <td>4.0</td>\n",
       "      <td>10</td>\n",
       "      <td>6</td>\n",
       "      <td>1</td>\n",
       "      <td>1</td>\n",
       "    </tr>\n",
       "    <tr>\n",
       "      <th>698</th>\n",
       "      <td>897471</td>\n",
       "      <td>4</td>\n",
       "      <td>8</td>\n",
       "      <td>8</td>\n",
       "      <td>5</td>\n",
       "      <td>4</td>\n",
       "      <td>5.0</td>\n",
       "      <td>10</td>\n",
       "      <td>4</td>\n",
       "      <td>1</td>\n",
       "      <td>1</td>\n",
       "    </tr>\n",
       "  </tbody>\n",
       "</table>\n",
       "<p>699 rows × 11 columns</p>\n",
       "</div>"
      ],
      "text/plain": [
       "          ID  Clump Thickness  Uniformity of Cell Size  \\\n",
       "0    1000025                5                        1   \n",
       "1    1002945                5                        4   \n",
       "2    1015425                3                        1   \n",
       "3    1016277                6                        8   \n",
       "4    1017023                4                        1   \n",
       "..       ...              ...                      ...   \n",
       "694   776715                3                        1   \n",
       "695   841769                2                        1   \n",
       "696   888820                5                       10   \n",
       "697   897471                4                        8   \n",
       "698   897471                4                        8   \n",
       "\n",
       "     Uniformity of Cell Shape  Marginal Adhesion  Single Epithelial Cell Size  \\\n",
       "0                           1                  1                            2   \n",
       "1                           4                  5                            7   \n",
       "2                           1                  1                            2   \n",
       "3                           8                  1                            3   \n",
       "4                           1                  3                            2   \n",
       "..                        ...                ...                          ...   \n",
       "694                         1                  1                            3   \n",
       "695                         1                  1                            2   \n",
       "696                        10                  3                            7   \n",
       "697                         6                  4                            3   \n",
       "698                         8                  5                            4   \n",
       "\n",
       "     Bare Nuclei  Bland Chromatin  Normal Nucleili  Mitoses  Class  \n",
       "0            1.0                3                1        1      0  \n",
       "1           10.0                3                2        1      0  \n",
       "2            2.0                3                1        1      0  \n",
       "3            4.0                3                7        1      0  \n",
       "4            1.0                3                1        1      0  \n",
       "..           ...              ...              ...      ...    ...  \n",
       "694          2.0                1                1        1      0  \n",
       "695          1.0                1                1        1      0  \n",
       "696          3.0                8               10        2      1  \n",
       "697          4.0               10                6        1      1  \n",
       "698          5.0               10                4        1      1  \n",
       "\n",
       "[699 rows x 11 columns]"
      ]
     },
     "execution_count": 3,
     "metadata": {},
     "output_type": "execute_result"
    }
   ],
   "source": [
    "df['Class'] = df['Class'].map({2: 0, 4: 1})\n",
    "df"
   ]
  },
  {
   "cell_type": "markdown",
   "id": "9ac98add",
   "metadata": {},
   "source": [
    "Now, let's start with EDA!"
   ]
  },
  {
   "cell_type": "markdown",
   "id": "2584daa1",
   "metadata": {},
   "source": [
    "## Exploratory Data Analysis"
   ]
  },
  {
   "cell_type": "markdown",
   "id": "bc6e9f23",
   "metadata": {},
   "source": [
    "### Check the proportion of each class"
   ]
  },
  {
   "cell_type": "markdown",
   "id": "8f262194",
   "metadata": {},
   "source": [
    "<font color=red><b>Action</b>: For \"Class\" column, check the count and the proportion of each class"
   ]
  },
  {
   "cell_type": "code",
   "execution_count": 4,
   "id": "ff110749",
   "metadata": {},
   "outputs": [
    {
     "data": {
      "text/plain": [
       "Class\n",
       "0    458\n",
       "1    241\n",
       "Name: count, dtype: int64"
      ]
     },
     "execution_count": 4,
     "metadata": {},
     "output_type": "execute_result"
    }
   ],
   "source": [
    "df['Class'].value_counts()"
   ]
  },
  {
   "cell_type": "code",
   "execution_count": 5,
   "id": "78fa0122",
   "metadata": {},
   "outputs": [
    {
     "data": {
      "text/plain": [
       "Class\n",
       "0    0.655222\n",
       "1    0.344778\n",
       "Name: count, dtype: float64"
      ]
     },
     "execution_count": 5,
     "metadata": {},
     "output_type": "execute_result"
    }
   ],
   "source": [
    "df['Class'].value_counts() / df.shape[0]"
   ]
  },
  {
   "cell_type": "markdown",
   "id": "5f79017c",
   "metadata": {},
   "source": [
    "There are about 65.5% of Class 0 and 34.5% of Class 1.<br>"
   ]
  },
  {
   "cell_type": "markdown",
   "id": "8c0b968e",
   "metadata": {},
   "source": [
    "### Check for missing values"
   ]
  },
  {
   "cell_type": "markdown",
   "id": "ac56942a",
   "metadata": {},
   "source": [
    "<font color=red><b>Action</b>: Check the proportion of missing values for each column"
   ]
  },
  {
   "cell_type": "code",
   "execution_count": 6,
   "id": "410e3cea",
   "metadata": {},
   "outputs": [
    {
     "data": {
      "text/plain": [
       "ID                             0.00000\n",
       "Clump Thickness                0.00000\n",
       "Uniformity of Cell Size        0.00000\n",
       "Uniformity of Cell Shape       0.00000\n",
       "Marginal Adhesion              0.00000\n",
       "Single Epithelial Cell Size    0.00000\n",
       "Bare Nuclei                    0.02289\n",
       "Bland Chromatin                0.00000\n",
       "Normal Nucleili                0.00000\n",
       "Mitoses                        0.00000\n",
       "Class                          0.00000\n",
       "dtype: float64"
      ]
     },
     "execution_count": 6,
     "metadata": {},
     "output_type": "execute_result"
    }
   ],
   "source": [
    "df.isnull().mean()"
   ]
  },
  {
   "cell_type": "markdown",
   "id": "05a3bd4f",
   "metadata": {},
   "source": [
    "Bare Nuclei has 2.3% of missing values. We need to deal with it before we can proceed to the modelling.\n",
    "\n",
    "We can fill the missing values by the mode."
   ]
  },
  {
   "cell_type": "markdown",
   "id": "e42fa583",
   "metadata": {},
   "source": [
    "<font color=red><b>Action</b>: Fill the missing values in \"Bare Nuclei\" column by the mode"
   ]
  },
  {
   "cell_type": "code",
   "execution_count": 7,
   "id": "93157f0e",
   "metadata": {},
   "outputs": [
    {
     "data": {
      "text/plain": [
       "ID                             0.0\n",
       "Clump Thickness                0.0\n",
       "Uniformity of Cell Size        0.0\n",
       "Uniformity of Cell Shape       0.0\n",
       "Marginal Adhesion              0.0\n",
       "Single Epithelial Cell Size    0.0\n",
       "Bare Nuclei                    0.0\n",
       "Bland Chromatin                0.0\n",
       "Normal Nucleili                0.0\n",
       "Mitoses                        0.0\n",
       "Class                          0.0\n",
       "dtype: float64"
      ]
     },
     "execution_count": 7,
     "metadata": {},
     "output_type": "execute_result"
    }
   ],
   "source": [
    "mode = df['Bare Nuclei'].mode()[0]\n",
    "df['Bare Nuclei'] = df['Bare Nuclei'].fillna(mode)\n",
    "\n",
    "df.isnull().mean()"
   ]
  },
  {
   "cell_type": "markdown",
   "id": "2bbc7d8f",
   "metadata": {},
   "source": [
    "Now, there is no more missing value."
   ]
  },
  {
   "cell_type": "markdown",
   "id": "381ba416",
   "metadata": {},
   "source": [
    "### Extract the features and the label\n",
    "We are using \"Admit\" as the categorical label for classification.\n",
    "Take note that, \"Chance of Admit\" should be excluded as it is the equivalent numeric label."
   ]
  },
  {
   "cell_type": "markdown",
   "id": "38b8e990",
   "metadata": {},
   "source": [
    "<font color=red><b>Action 1</b>: Create a string variable to be the column name of the label<br>\n",
    "<b>Action 2</b>: Create a list that contains the names of columns to be used as input features"
   ]
  },
  {
   "cell_type": "code",
   "execution_count": 8,
   "id": "3643d8c2",
   "metadata": {},
   "outputs": [
    {
     "data": {
      "text/plain": [
       "['Clump Thickness',\n",
       " 'Uniformity of Cell Size',\n",
       " 'Uniformity of Cell Shape',\n",
       " 'Marginal Adhesion',\n",
       " 'Single Epithelial Cell Size',\n",
       " 'Bare Nuclei',\n",
       " 'Bland Chromatin',\n",
       " 'Normal Nucleili',\n",
       " 'Mitoses']"
      ]
     },
     "execution_count": 8,
     "metadata": {},
     "output_type": "execute_result"
    }
   ],
   "source": [
    "label = 'Class'\n",
    "excluded_features = [label, 'ID']\n",
    "features = [feature for feature in list(df) if feature not in excluded_features]\n",
    "features"
   ]
  },
  {
   "cell_type": "markdown",
   "id": "22a48a08",
   "metadata": {},
   "source": [
    "<font color=red><b>Action</b>: Split the full DataFrame into the training set and the test set.</font>"
   ]
  },
  {
   "cell_type": "code",
   "execution_count": 9,
   "id": "268f5e0a",
   "metadata": {},
   "outputs": [
    {
     "data": {
      "text/html": [
       "<div>\n",
       "<style scoped>\n",
       "    .dataframe tbody tr th:only-of-type {\n",
       "        vertical-align: middle;\n",
       "    }\n",
       "\n",
       "    .dataframe tbody tr th {\n",
       "        vertical-align: top;\n",
       "    }\n",
       "\n",
       "    .dataframe thead th {\n",
       "        text-align: right;\n",
       "    }\n",
       "</style>\n",
       "<table border=\"1\" class=\"dataframe\">\n",
       "  <thead>\n",
       "    <tr style=\"text-align: right;\">\n",
       "      <th></th>\n",
       "      <th>ID</th>\n",
       "      <th>Clump Thickness</th>\n",
       "      <th>Uniformity of Cell Size</th>\n",
       "      <th>Uniformity of Cell Shape</th>\n",
       "      <th>Marginal Adhesion</th>\n",
       "      <th>Single Epithelial Cell Size</th>\n",
       "      <th>Bare Nuclei</th>\n",
       "      <th>Bland Chromatin</th>\n",
       "      <th>Normal Nucleili</th>\n",
       "      <th>Mitoses</th>\n",
       "      <th>Class</th>\n",
       "    </tr>\n",
       "  </thead>\n",
       "  <tbody>\n",
       "    <tr>\n",
       "      <th>293</th>\n",
       "      <td>601265</td>\n",
       "      <td>10</td>\n",
       "      <td>4</td>\n",
       "      <td>4</td>\n",
       "      <td>6</td>\n",
       "      <td>2</td>\n",
       "      <td>10.0</td>\n",
       "      <td>2</td>\n",
       "      <td>3</td>\n",
       "      <td>1</td>\n",
       "      <td>1</td>\n",
       "    </tr>\n",
       "    <tr>\n",
       "      <th>62</th>\n",
       "      <td>1116116</td>\n",
       "      <td>9</td>\n",
       "      <td>10</td>\n",
       "      <td>10</td>\n",
       "      <td>1</td>\n",
       "      <td>10</td>\n",
       "      <td>8.0</td>\n",
       "      <td>3</td>\n",
       "      <td>3</td>\n",
       "      <td>1</td>\n",
       "      <td>1</td>\n",
       "    </tr>\n",
       "    <tr>\n",
       "      <th>485</th>\n",
       "      <td>1002025</td>\n",
       "      <td>1</td>\n",
       "      <td>1</td>\n",
       "      <td>1</td>\n",
       "      <td>3</td>\n",
       "      <td>1</td>\n",
       "      <td>3.0</td>\n",
       "      <td>1</td>\n",
       "      <td>1</td>\n",
       "      <td>1</td>\n",
       "      <td>0</td>\n",
       "    </tr>\n",
       "    <tr>\n",
       "      <th>422</th>\n",
       "      <td>1257648</td>\n",
       "      <td>4</td>\n",
       "      <td>3</td>\n",
       "      <td>3</td>\n",
       "      <td>1</td>\n",
       "      <td>2</td>\n",
       "      <td>1.0</td>\n",
       "      <td>3</td>\n",
       "      <td>3</td>\n",
       "      <td>1</td>\n",
       "      <td>0</td>\n",
       "    </tr>\n",
       "    <tr>\n",
       "      <th>332</th>\n",
       "      <td>770066</td>\n",
       "      <td>5</td>\n",
       "      <td>2</td>\n",
       "      <td>2</td>\n",
       "      <td>2</td>\n",
       "      <td>2</td>\n",
       "      <td>1.0</td>\n",
       "      <td>2</td>\n",
       "      <td>2</td>\n",
       "      <td>1</td>\n",
       "      <td>0</td>\n",
       "    </tr>\n",
       "  </tbody>\n",
       "</table>\n",
       "</div>"
      ],
      "text/plain": [
       "          ID  Clump Thickness  Uniformity of Cell Size  \\\n",
       "293   601265               10                        4   \n",
       "62   1116116                9                       10   \n",
       "485  1002025                1                        1   \n",
       "422  1257648                4                        3   \n",
       "332   770066                5                        2   \n",
       "\n",
       "     Uniformity of Cell Shape  Marginal Adhesion  Single Epithelial Cell Size  \\\n",
       "293                         4                  6                            2   \n",
       "62                         10                  1                           10   \n",
       "485                         1                  3                            1   \n",
       "422                         3                  1                            2   \n",
       "332                         2                  2                            2   \n",
       "\n",
       "     Bare Nuclei  Bland Chromatin  Normal Nucleili  Mitoses  Class  \n",
       "293         10.0                2                3        1      1  \n",
       "62           8.0                3                3        1      1  \n",
       "485          3.0                1                1        1      0  \n",
       "422          1.0                3                3        1      0  \n",
       "332          1.0                2                2        1      0  "
      ]
     },
     "metadata": {},
     "output_type": "display_data"
    },
    {
     "data": {
      "text/html": [
       "<div>\n",
       "<style scoped>\n",
       "    .dataframe tbody tr th:only-of-type {\n",
       "        vertical-align: middle;\n",
       "    }\n",
       "\n",
       "    .dataframe tbody tr th {\n",
       "        vertical-align: top;\n",
       "    }\n",
       "\n",
       "    .dataframe thead th {\n",
       "        text-align: right;\n",
       "    }\n",
       "</style>\n",
       "<table border=\"1\" class=\"dataframe\">\n",
       "  <thead>\n",
       "    <tr style=\"text-align: right;\">\n",
       "      <th></th>\n",
       "      <th>ID</th>\n",
       "      <th>Clump Thickness</th>\n",
       "      <th>Uniformity of Cell Size</th>\n",
       "      <th>Uniformity of Cell Shape</th>\n",
       "      <th>Marginal Adhesion</th>\n",
       "      <th>Single Epithelial Cell Size</th>\n",
       "      <th>Bare Nuclei</th>\n",
       "      <th>Bland Chromatin</th>\n",
       "      <th>Normal Nucleili</th>\n",
       "      <th>Mitoses</th>\n",
       "      <th>Class</th>\n",
       "    </tr>\n",
       "  </thead>\n",
       "  <tbody>\n",
       "    <tr>\n",
       "      <th>476</th>\n",
       "      <td>1296025</td>\n",
       "      <td>4</td>\n",
       "      <td>1</td>\n",
       "      <td>2</td>\n",
       "      <td>1</td>\n",
       "      <td>2</td>\n",
       "      <td>1.0</td>\n",
       "      <td>1</td>\n",
       "      <td>1</td>\n",
       "      <td>1</td>\n",
       "      <td>0</td>\n",
       "    </tr>\n",
       "    <tr>\n",
       "      <th>531</th>\n",
       "      <td>867392</td>\n",
       "      <td>4</td>\n",
       "      <td>2</td>\n",
       "      <td>2</td>\n",
       "      <td>1</td>\n",
       "      <td>2</td>\n",
       "      <td>1.0</td>\n",
       "      <td>2</td>\n",
       "      <td>1</td>\n",
       "      <td>1</td>\n",
       "      <td>0</td>\n",
       "    </tr>\n",
       "    <tr>\n",
       "      <th>40</th>\n",
       "      <td>1096800</td>\n",
       "      <td>6</td>\n",
       "      <td>6</td>\n",
       "      <td>6</td>\n",
       "      <td>9</td>\n",
       "      <td>6</td>\n",
       "      <td>1.0</td>\n",
       "      <td>7</td>\n",
       "      <td>8</td>\n",
       "      <td>1</td>\n",
       "      <td>0</td>\n",
       "    </tr>\n",
       "    <tr>\n",
       "      <th>432</th>\n",
       "      <td>1277629</td>\n",
       "      <td>5</td>\n",
       "      <td>1</td>\n",
       "      <td>1</td>\n",
       "      <td>1</td>\n",
       "      <td>2</td>\n",
       "      <td>1.0</td>\n",
       "      <td>2</td>\n",
       "      <td>2</td>\n",
       "      <td>1</td>\n",
       "      <td>0</td>\n",
       "    </tr>\n",
       "    <tr>\n",
       "      <th>14</th>\n",
       "      <td>1044572</td>\n",
       "      <td>8</td>\n",
       "      <td>7</td>\n",
       "      <td>5</td>\n",
       "      <td>10</td>\n",
       "      <td>7</td>\n",
       "      <td>9.0</td>\n",
       "      <td>5</td>\n",
       "      <td>5</td>\n",
       "      <td>4</td>\n",
       "      <td>1</td>\n",
       "    </tr>\n",
       "  </tbody>\n",
       "</table>\n",
       "</div>"
      ],
      "text/plain": [
       "          ID  Clump Thickness  Uniformity of Cell Size  \\\n",
       "476  1296025                4                        1   \n",
       "531   867392                4                        2   \n",
       "40   1096800                6                        6   \n",
       "432  1277629                5                        1   \n",
       "14   1044572                8                        7   \n",
       "\n",
       "     Uniformity of Cell Shape  Marginal Adhesion  Single Epithelial Cell Size  \\\n",
       "476                         2                  1                            2   \n",
       "531                         2                  1                            2   \n",
       "40                          6                  9                            6   \n",
       "432                         1                  1                            2   \n",
       "14                          5                 10                            7   \n",
       "\n",
       "     Bare Nuclei  Bland Chromatin  Normal Nucleili  Mitoses  Class  \n",
       "476          1.0                1                1        1      0  \n",
       "531          1.0                2                1        1      0  \n",
       "40           1.0                7                8        1      0  \n",
       "432          1.0                2                2        1      0  \n",
       "14           9.0                5                5        4      1  "
      ]
     },
     "metadata": {},
     "output_type": "display_data"
    }
   ],
   "source": [
    "train_df, test_df = train_test_split(df, test_size=0.2, random_state=0)\n",
    "display(train_df.head())\n",
    "display(test_df.head())"
   ]
  },
  {
   "cell_type": "markdown",
   "id": "7a0bd299",
   "metadata": {},
   "source": [
    "<font color=red><b>Action</b>: Extract the features and the label for the training set and the test set, respectively."
   ]
  },
  {
   "cell_type": "code",
   "execution_count": 10,
   "id": "d6cb8528",
   "metadata": {},
   "outputs": [],
   "source": [
    "train_x = train_df[features]\n",
    "train_y = train_df[label]\n",
    "\n",
    "test_x = test_df[features]\n",
    "test_y = test_df[label]"
   ]
  },
  {
   "cell_type": "markdown",
   "id": "914e30a4",
   "metadata": {},
   "source": [
    "<font color=red><b>Action</b>: Display the proportion of each class in the training/test set"
   ]
  },
  {
   "cell_type": "code",
   "execution_count": 11,
   "id": "c6560e0a",
   "metadata": {},
   "outputs": [
    {
     "data": {
      "text/plain": [
       "Class\n",
       "0    373\n",
       "1    186\n",
       "Name: count, dtype: int64"
      ]
     },
     "metadata": {},
     "output_type": "display_data"
    },
    {
     "data": {
      "text/plain": [
       "Class\n",
       "0    85\n",
       "1    55\n",
       "Name: count, dtype: int64"
      ]
     },
     "metadata": {},
     "output_type": "display_data"
    }
   ],
   "source": [
    "display(train_y.value_counts())\n",
    "display(test_y.value_counts())"
   ]
  },
  {
   "cell_type": "markdown",
   "id": "42fd8925",
   "metadata": {},
   "source": [
    "<font color=red><b>Action</b>: Display the proportion (in %) of each class in the training/test set"
   ]
  },
  {
   "cell_type": "code",
   "execution_count": 12,
   "id": "053e0cf4",
   "metadata": {},
   "outputs": [
    {
     "data": {
      "text/plain": [
       "Class\n",
       "0    0.667263\n",
       "1    0.332737\n",
       "Name: count, dtype: float64"
      ]
     },
     "metadata": {},
     "output_type": "display_data"
    },
    {
     "data": {
      "text/plain": [
       "Class\n",
       "0    0.607143\n",
       "1    0.392857\n",
       "Name: count, dtype: float64"
      ]
     },
     "metadata": {},
     "output_type": "display_data"
    }
   ],
   "source": [
    "display(train_y.value_counts() / train_y.shape[0])\n",
    "display(test_y.value_counts() / test_y.shape[0])"
   ]
  },
  {
   "cell_type": "markdown",
   "id": "80c442f4",
   "metadata": {},
   "source": [
    "### Build a logistic regression model"
   ]
  },
  {
   "cell_type": "code",
   "execution_count": 13,
   "id": "eadd550d",
   "metadata": {},
   "outputs": [],
   "source": [
    "from sklearn.linear_model import LogisticRegression"
   ]
  },
  {
   "cell_type": "markdown",
   "id": "a8ee96d1",
   "metadata": {},
   "source": [
    "<font color=red><b>Action 1</b>: Initialize a logistic regression model<br>\n",
    "<b>Action 2</b>: Train the model by the training features and the train label<br>\n",
    "<b>Action 3</b>: Predict the training label and the test label.<br>"
   ]
  },
  {
   "cell_type": "code",
   "execution_count": 14,
   "id": "37b60286",
   "metadata": {},
   "outputs": [],
   "source": [
    "model = LogisticRegression()\n",
    "model.fit(train_x, train_y)\n",
    "\n",
    "test_yhat = model.predict(test_x)"
   ]
  },
  {
   "cell_type": "markdown",
   "id": "fa9dfe27",
   "metadata": {},
   "source": [
    "### Generate a confusion matrix\n",
    "\n",
    "We can use <font color=#AA0000><b>sklearn.metrics.confusion_matrix()</b></font> function to construct a confusion matrix.<br>\n",
    "It takes 2 inputs: 1) the actual label; 2) the predicted label.<br>\n",
    "\n",
    "Input (1) and (2) should not be swapped."
   ]
  },
  {
   "cell_type": "markdown",
   "id": "c253af96",
   "metadata": {},
   "source": [
    "<font color=red><b>Action</b>: Construct a confusion matrix for the test prediction"
   ]
  },
  {
   "cell_type": "code",
   "execution_count": 15,
   "id": "35820460",
   "metadata": {},
   "outputs": [
    {
     "data": {
      "text/plain": [
       "array([[82,  3],\n",
       "       [ 1, 54]], dtype=int64)"
      ]
     },
     "execution_count": 15,
     "metadata": {},
     "output_type": "execute_result"
    }
   ],
   "source": [
    "metrics.confusion_matrix(test_y, test_yhat)"
   ]
  },
  {
   "cell_type": "markdown",
   "id": "f6c43a5e",
   "metadata": {},
   "source": [
    "The confusion matrix looks great as we have much more true positive and true negative than false positive and false negative."
   ]
  },
  {
   "cell_type": "markdown",
   "id": "d52f0db2",
   "metadata": {},
   "source": [
    "### Write a custom function to determine the classification metrics\n",
    "We have written this function in Class Exercise 1."
   ]
  },
  {
   "cell_type": "code",
   "execution_count": 16,
   "id": "69cf98e0",
   "metadata": {},
   "outputs": [],
   "source": [
    "def get_classification_metrics(y, yhat):\n",
    "    # Record the total number of samples\n",
    "    n = len(y)\n",
    "    \n",
    "    # Count the number of correct samples and calculate the accuracy\n",
    "    n_correct = (y == yhat).sum()\n",
    "    accuracy = n_correct / n\n",
    "    \n",
    "    # One way to calculate the error rate\n",
    "    error_rate = 1 - accuracy\n",
    "    \n",
    "    # The other way to calculate the error rate\n",
    "    n_incorrect = (y != yhat).sum()\n",
    "    error_rate = n_incorrect / n\n",
    "    \n",
    "    # Count the number of true positive\n",
    "    TP = ((y == 1) & (yhat == 1)).sum()\n",
    "    \n",
    "    # Count the number of false positive\n",
    "    FP = ((y == 0) & (yhat == 1)).sum()\n",
    "    \n",
    "    # Count the number of true negative\n",
    "    TN = ((y == 0) & (yhat == 0)).sum()\n",
    "    \n",
    "    # Count the number of false negative\n",
    "    FN = ((y == 1) & (yhat == 0)).sum()\n",
    "    \n",
    "    # Calculate sensitivity / specificity / precision / recall\n",
    "    sensitivity = recall = TP / (TP + FN)\n",
    "    specificity = TN / (FP + TN)\n",
    "    precision = TP / (TP + FP)\n",
    "    \n",
    "    item = ['Accuracy', 'Error Rate', 'Sensitivity', 'Specificity', 'Precision', 'Recall']\n",
    "    value = accuracy, error_rate, sensitivity, specificity, precision, recall\n",
    "    \n",
    "    df_out = {'Item': item, 'Value': value}\n",
    "    df_out = pd.DataFrame(df_out)\n",
    "    return df_out"
   ]
  },
  {
   "cell_type": "markdown",
   "id": "a27d668b",
   "metadata": {},
   "source": [
    "<font color=red><b>Action</b>: Run the function above"
   ]
  },
  {
   "cell_type": "code",
   "execution_count": 17,
   "id": "7e6bd98d",
   "metadata": {},
   "outputs": [
    {
     "data": {
      "text/html": [
       "<div>\n",
       "<style scoped>\n",
       "    .dataframe tbody tr th:only-of-type {\n",
       "        vertical-align: middle;\n",
       "    }\n",
       "\n",
       "    .dataframe tbody tr th {\n",
       "        vertical-align: top;\n",
       "    }\n",
       "\n",
       "    .dataframe thead th {\n",
       "        text-align: right;\n",
       "    }\n",
       "</style>\n",
       "<table border=\"1\" class=\"dataframe\">\n",
       "  <thead>\n",
       "    <tr style=\"text-align: right;\">\n",
       "      <th></th>\n",
       "      <th>Item</th>\n",
       "      <th>Value</th>\n",
       "    </tr>\n",
       "  </thead>\n",
       "  <tbody>\n",
       "    <tr>\n",
       "      <th>0</th>\n",
       "      <td>Accuracy</td>\n",
       "      <td>0.971429</td>\n",
       "    </tr>\n",
       "    <tr>\n",
       "      <th>1</th>\n",
       "      <td>Error Rate</td>\n",
       "      <td>0.028571</td>\n",
       "    </tr>\n",
       "    <tr>\n",
       "      <th>2</th>\n",
       "      <td>Sensitivity</td>\n",
       "      <td>0.981818</td>\n",
       "    </tr>\n",
       "    <tr>\n",
       "      <th>3</th>\n",
       "      <td>Specificity</td>\n",
       "      <td>0.964706</td>\n",
       "    </tr>\n",
       "    <tr>\n",
       "      <th>4</th>\n",
       "      <td>Precision</td>\n",
       "      <td>0.947368</td>\n",
       "    </tr>\n",
       "    <tr>\n",
       "      <th>5</th>\n",
       "      <td>Recall</td>\n",
       "      <td>0.981818</td>\n",
       "    </tr>\n",
       "  </tbody>\n",
       "</table>\n",
       "</div>"
      ],
      "text/plain": [
       "          Item     Value\n",
       "0     Accuracy  0.971429\n",
       "1   Error Rate  0.028571\n",
       "2  Sensitivity  0.981818\n",
       "3  Specificity  0.964706\n",
       "4    Precision  0.947368\n",
       "5       Recall  0.981818"
      ]
     },
     "execution_count": 17,
     "metadata": {},
     "output_type": "execute_result"
    }
   ],
   "source": [
    "get_classification_metrics(test_y, test_yhat)"
   ]
  },
  {
   "cell_type": "markdown",
   "id": "c3aaae3f",
   "metadata": {},
   "source": [
    "## Evaluate the model by AUC\n",
    "AUC measures how much the model is capable of distinguishing between classes."
   ]
  },
  {
   "cell_type": "markdown",
   "id": "9ecf3369",
   "metadata": {},
   "source": [
    "<font color=red><b>Action 1</b>: Initialize a logistic regression model<br>\n",
    "<b>Action 2</b>: Train the model by the training features and the train label<br>\n",
    "<b>Action 3</b>: Predict the test label as <u>probability</u><br>"
   ]
  },
  {
   "cell_type": "code",
   "execution_count": 18,
   "id": "54c30b59",
   "metadata": {},
   "outputs": [],
   "source": [
    "model = LogisticRegression()\n",
    "model.fit(train_x, train_y)\n",
    "\n",
    "test_yhat_prob = model.predict_proba(test_x)"
   ]
  },
  {
   "cell_type": "markdown",
   "id": "623ff04a",
   "metadata": {},
   "source": [
    "The prediction will be given as a 2D-array.<br>\n",
    "Axis 0 has the number of instances corresponding to the number of samples.<br>\n",
    "Axis 1 has the number of instances corresponding to the number of classes.\n",
    "\n",
    "On Axis 1, The 1st value is the probability of being Class 0, the 2nd value is the probability of being Class 1."
   ]
  },
  {
   "cell_type": "code",
   "execution_count": 19,
   "id": "6fc517ad",
   "metadata": {},
   "outputs": [
    {
     "data": {
      "text/plain": [
       "array([[9.94183432e-01, 5.81656754e-03],\n",
       "       [9.91685261e-01, 8.31473903e-03],\n",
       "       [1.40755024e-02, 9.85924498e-01],\n",
       "       [9.86802469e-01, 1.31975309e-02],\n",
       "       [1.22380343e-04, 9.99877620e-01],\n",
       "       [9.97059380e-01, 2.94061963e-03],\n",
       "       [2.92699845e-03, 9.97073002e-01],\n",
       "       [9.97059380e-01, 2.94061963e-03],\n",
       "       [1.47780262e-04, 9.99852220e-01],\n",
       "       [2.31463011e-01, 7.68536989e-01],\n",
       "       [9.98882508e-01, 1.11749237e-03],\n",
       "       [9.97588936e-01, 2.41106431e-03],\n",
       "       [1.22477403e-03, 9.98775226e-01],\n",
       "       [2.31500354e-02, 9.76849965e-01],\n",
       "       [3.49779203e-03, 9.96502208e-01],\n",
       "       [9.97059380e-01, 2.94061963e-03],\n",
       "       [9.98359112e-01, 1.64088824e-03],\n",
       "       [4.41327346e-04, 9.99558673e-01],\n",
       "       [6.23122766e-02, 9.37687723e-01],\n",
       "       [9.93668793e-01, 6.33120669e-03],\n",
       "       [2.01192184e-03, 9.97988078e-01],\n",
       "       [7.88951596e-05, 9.99921105e-01],\n",
       "       [9.98648452e-01, 1.35154832e-03],\n",
       "       [9.96444834e-01, 3.55516591e-03],\n",
       "       [9.39643323e-01, 6.03566768e-02],\n",
       "       [7.64547230e-03, 9.92354528e-01],\n",
       "       [9.96444834e-01, 3.55516591e-03],\n",
       "       [9.98579644e-01, 1.42035641e-03],\n",
       "       [1.08610618e-04, 9.99891389e-01],\n",
       "       [5.45854422e-02, 9.45414558e-01],\n",
       "       [9.76600320e-01, 2.33996798e-02],\n",
       "       [9.91437217e-01, 8.56278252e-03],\n",
       "       [9.91685261e-01, 8.31473903e-03],\n",
       "       [9.94201582e-01, 5.79841779e-03],\n",
       "       [9.94760683e-01, 5.23931690e-03],\n",
       "       [9.80115702e-01, 1.98842983e-02],\n",
       "       [9.99347723e-01, 6.52277455e-04],\n",
       "       [5.57168856e-04, 9.99442831e-01],\n",
       "       [9.93555526e-01, 6.44447374e-03],\n",
       "       [9.98351219e-01, 1.64878092e-03],\n",
       "       [9.54012686e-01, 4.59873143e-02],\n",
       "       [9.88749563e-01, 1.12504365e-02],\n",
       "       [9.92572869e-01, 7.42713118e-03],\n",
       "       [9.98882508e-01, 1.11749237e-03],\n",
       "       [1.04838679e-04, 9.99895161e-01],\n",
       "       [1.67448928e-04, 9.99832551e-01],\n",
       "       [9.97650124e-01, 2.34987623e-03],\n",
       "       [3.05093138e-02, 9.69490686e-01],\n",
       "       [9.71012668e-01, 2.89873325e-02],\n",
       "       [1.56975547e-02, 9.84302445e-01],\n",
       "       [1.88853457e-02, 9.81114654e-01],\n",
       "       [9.91737772e-01, 8.26222832e-03],\n",
       "       [9.98006108e-01, 1.99389179e-03],\n",
       "       [1.59280035e-01, 8.40719965e-01],\n",
       "       [9.99003728e-01, 9.96271592e-04],\n",
       "       [9.95186997e-01, 4.81300332e-03],\n",
       "       [9.95702410e-01, 4.29758977e-03],\n",
       "       [9.90681876e-01, 9.31812434e-03],\n",
       "       [9.91222089e-01, 8.77791105e-03],\n",
       "       [9.97685660e-01, 2.31433961e-03],\n",
       "       [1.17037059e-02, 9.88296294e-01],\n",
       "       [9.97059380e-01, 2.94061963e-03],\n",
       "       [9.97059380e-01, 2.94061963e-03],\n",
       "       [1.60819353e-04, 9.99839181e-01],\n",
       "       [7.27265192e-02, 9.27273481e-01],\n",
       "       [7.54158841e-03, 9.92458412e-01],\n",
       "       [1.09971177e-03, 9.98900288e-01],\n",
       "       [9.98882508e-01, 1.11749237e-03],\n",
       "       [9.98521262e-01, 1.47873846e-03],\n",
       "       [4.53637842e-03, 9.95463622e-01],\n",
       "       [9.93668793e-01, 6.33120669e-03],\n",
       "       [9.98579644e-01, 1.42035641e-03],\n",
       "       [2.55450914e-05, 9.99974455e-01],\n",
       "       [3.95139541e-04, 9.99604860e-01],\n",
       "       [9.94326047e-01, 5.67395314e-03],\n",
       "       [9.14030298e-01, 8.59697015e-02],\n",
       "       [9.99242728e-01, 7.57271672e-04],\n",
       "       [9.95551039e-01, 4.44896091e-03],\n",
       "       [2.24987767e-05, 9.99977501e-01],\n",
       "       [9.98882508e-01, 1.11749237e-03],\n",
       "       [9.96444834e-01, 3.55516591e-03],\n",
       "       [9.64188543e-01, 3.58114575e-02],\n",
       "       [5.50998528e-04, 9.99449001e-01],\n",
       "       [9.67825981e-01, 3.21740191e-02],\n",
       "       [9.97588936e-01, 2.41106431e-03],\n",
       "       [9.98648452e-01, 1.35154832e-03],\n",
       "       [1.90609483e-04, 9.99809391e-01],\n",
       "       [9.97948611e-01, 2.05138911e-03],\n",
       "       [8.30437065e-04, 9.99169563e-01],\n",
       "       [3.71907532e-04, 9.99628092e-01],\n",
       "       [9.97588936e-01, 2.41106431e-03],\n",
       "       [9.42960967e-01, 5.70390332e-02],\n",
       "       [2.25065247e-01, 7.74934753e-01],\n",
       "       [2.52812439e-05, 9.99974719e-01],\n",
       "       [8.93571506e-01, 1.06428494e-01],\n",
       "       [9.90704034e-01, 9.29596593e-03],\n",
       "       [9.80008940e-01, 1.99910600e-02],\n",
       "       [1.57020006e-03, 9.98429800e-01],\n",
       "       [9.98529987e-01, 1.47001306e-03],\n",
       "       [6.06838775e-03, 9.93931612e-01],\n",
       "       [4.09465311e-07, 9.99999591e-01],\n",
       "       [9.98648452e-01, 1.35154832e-03],\n",
       "       [9.97221334e-01, 2.77866559e-03],\n",
       "       [9.98882508e-01, 1.11749237e-03],\n",
       "       [8.57608877e-03, 9.91423911e-01],\n",
       "       [9.81362686e-01, 1.86373135e-02],\n",
       "       [9.76667234e-01, 2.33327664e-02],\n",
       "       [9.87051766e-01, 1.29482343e-02],\n",
       "       [9.93405299e-01, 6.59470123e-03],\n",
       "       [9.96444834e-01, 3.55516591e-03],\n",
       "       [5.06881517e-02, 9.49311848e-01],\n",
       "       [5.94938718e-04, 9.99405061e-01],\n",
       "       [7.03556941e-03, 9.92964431e-01],\n",
       "       [9.89065505e-01, 1.09344950e-02],\n",
       "       [9.85931214e-01, 1.40687864e-02],\n",
       "       [9.99242728e-01, 7.57271672e-04],\n",
       "       [9.95702410e-01, 4.29758977e-03],\n",
       "       [9.98835745e-01, 1.16425482e-03],\n",
       "       [9.28230632e-03, 9.90717694e-01],\n",
       "       [1.59280035e-01, 8.40719965e-01],\n",
       "       [3.20506575e-04, 9.99679493e-01],\n",
       "       [1.68108182e-02, 9.83189182e-01],\n",
       "       [9.83480449e-01, 1.65195511e-02],\n",
       "       [7.37601828e-04, 9.99262398e-01],\n",
       "       [9.97727420e-01, 2.27258018e-03],\n",
       "       [9.99242728e-01, 7.57271672e-04],\n",
       "       [2.43115380e-02, 9.75688462e-01],\n",
       "       [2.14040388e-02, 9.78595961e-01],\n",
       "       [3.28380829e-07, 9.99999672e-01],\n",
       "       [1.51357334e-04, 9.99848643e-01],\n",
       "       [1.42176230e-06, 9.99998578e-01],\n",
       "       [9.90681876e-01, 9.31812434e-03],\n",
       "       [9.71012668e-01, 2.89873325e-02],\n",
       "       [7.21331819e-03, 9.92786682e-01],\n",
       "       [5.73625140e-05, 9.99942637e-01],\n",
       "       [9.97685660e-01, 2.31433961e-03],\n",
       "       [9.98648452e-01, 1.35154832e-03],\n",
       "       [8.94628029e-04, 9.99105372e-01],\n",
       "       [9.96936562e-01, 3.06343848e-03],\n",
       "       [9.98213907e-01, 1.78609308e-03]])"
      ]
     },
     "execution_count": 19,
     "metadata": {},
     "output_type": "execute_result"
    }
   ],
   "source": [
    "test_yhat_prob"
   ]
  },
  {
   "cell_type": "markdown",
   "id": "016587b4",
   "metadata": {},
   "source": [
    "On Axis 1, each group contains values that add up to be 1.<br>\n",
    "We can verify that."
   ]
  },
  {
   "cell_type": "code",
   "execution_count": 20,
   "id": "c263d0d9",
   "metadata": {},
   "outputs": [
    {
     "data": {
      "text/plain": [
       "array([1., 1., 1., 1., 1., 1., 1., 1., 1., 1., 1., 1., 1., 1., 1., 1., 1.,\n",
       "       1., 1., 1., 1., 1., 1., 1., 1., 1., 1., 1., 1., 1., 1., 1., 1., 1.,\n",
       "       1., 1., 1., 1., 1., 1., 1., 1., 1., 1., 1., 1., 1., 1., 1., 1., 1.,\n",
       "       1., 1., 1., 1., 1., 1., 1., 1., 1., 1., 1., 1., 1., 1., 1., 1., 1.,\n",
       "       1., 1., 1., 1., 1., 1., 1., 1., 1., 1., 1., 1., 1., 1., 1., 1., 1.,\n",
       "       1., 1., 1., 1., 1., 1., 1., 1., 1., 1., 1., 1., 1., 1., 1., 1., 1.,\n",
       "       1., 1., 1., 1., 1., 1., 1., 1., 1., 1., 1., 1., 1., 1., 1., 1., 1.,\n",
       "       1., 1., 1., 1., 1., 1., 1., 1., 1., 1., 1., 1., 1., 1., 1., 1., 1.,\n",
       "       1., 1., 1., 1.])"
      ]
     },
     "execution_count": 20,
     "metadata": {},
     "output_type": "execute_result"
    }
   ],
   "source": [
    "test_yhat_prob.sum(axis=1)"
   ]
  },
  {
   "cell_type": "markdown",
   "id": "e3c6ea91",
   "metadata": {},
   "source": [
    "We are going to extract the 2nd value on Axis 1."
   ]
  },
  {
   "cell_type": "code",
   "execution_count": 21,
   "id": "7f98843e",
   "metadata": {},
   "outputs": [
    {
     "data": {
      "text/plain": [
       "array([5.81656754e-03, 8.31473903e-03, 9.85924498e-01, 1.31975309e-02,\n",
       "       9.99877620e-01, 2.94061963e-03, 9.97073002e-01, 2.94061963e-03,\n",
       "       9.99852220e-01, 7.68536989e-01, 1.11749237e-03, 2.41106431e-03,\n",
       "       9.98775226e-01, 9.76849965e-01, 9.96502208e-01, 2.94061963e-03,\n",
       "       1.64088824e-03, 9.99558673e-01, 9.37687723e-01, 6.33120669e-03,\n",
       "       9.97988078e-01, 9.99921105e-01, 1.35154832e-03, 3.55516591e-03,\n",
       "       6.03566768e-02, 9.92354528e-01, 3.55516591e-03, 1.42035641e-03,\n",
       "       9.99891389e-01, 9.45414558e-01, 2.33996798e-02, 8.56278252e-03,\n",
       "       8.31473903e-03, 5.79841779e-03, 5.23931690e-03, 1.98842983e-02,\n",
       "       6.52277455e-04, 9.99442831e-01, 6.44447374e-03, 1.64878092e-03,\n",
       "       4.59873143e-02, 1.12504365e-02, 7.42713118e-03, 1.11749237e-03,\n",
       "       9.99895161e-01, 9.99832551e-01, 2.34987623e-03, 9.69490686e-01,\n",
       "       2.89873325e-02, 9.84302445e-01, 9.81114654e-01, 8.26222832e-03,\n",
       "       1.99389179e-03, 8.40719965e-01, 9.96271592e-04, 4.81300332e-03,\n",
       "       4.29758977e-03, 9.31812434e-03, 8.77791105e-03, 2.31433961e-03,\n",
       "       9.88296294e-01, 2.94061963e-03, 2.94061963e-03, 9.99839181e-01,\n",
       "       9.27273481e-01, 9.92458412e-01, 9.98900288e-01, 1.11749237e-03,\n",
       "       1.47873846e-03, 9.95463622e-01, 6.33120669e-03, 1.42035641e-03,\n",
       "       9.99974455e-01, 9.99604860e-01, 5.67395314e-03, 8.59697015e-02,\n",
       "       7.57271672e-04, 4.44896091e-03, 9.99977501e-01, 1.11749237e-03,\n",
       "       3.55516591e-03, 3.58114575e-02, 9.99449001e-01, 3.21740191e-02,\n",
       "       2.41106431e-03, 1.35154832e-03, 9.99809391e-01, 2.05138911e-03,\n",
       "       9.99169563e-01, 9.99628092e-01, 2.41106431e-03, 5.70390332e-02,\n",
       "       7.74934753e-01, 9.99974719e-01, 1.06428494e-01, 9.29596593e-03,\n",
       "       1.99910600e-02, 9.98429800e-01, 1.47001306e-03, 9.93931612e-01,\n",
       "       9.99999591e-01, 1.35154832e-03, 2.77866559e-03, 1.11749237e-03,\n",
       "       9.91423911e-01, 1.86373135e-02, 2.33327664e-02, 1.29482343e-02,\n",
       "       6.59470123e-03, 3.55516591e-03, 9.49311848e-01, 9.99405061e-01,\n",
       "       9.92964431e-01, 1.09344950e-02, 1.40687864e-02, 7.57271672e-04,\n",
       "       4.29758977e-03, 1.16425482e-03, 9.90717694e-01, 8.40719965e-01,\n",
       "       9.99679493e-01, 9.83189182e-01, 1.65195511e-02, 9.99262398e-01,\n",
       "       2.27258018e-03, 7.57271672e-04, 9.75688462e-01, 9.78595961e-01,\n",
       "       9.99999672e-01, 9.99848643e-01, 9.99998578e-01, 9.31812434e-03,\n",
       "       2.89873325e-02, 9.92786682e-01, 9.99942637e-01, 2.31433961e-03,\n",
       "       1.35154832e-03, 9.99105372e-01, 3.06343848e-03, 1.78609308e-03])"
      ]
     },
     "execution_count": 21,
     "metadata": {},
     "output_type": "execute_result"
    }
   ],
   "source": [
    "test_yhat_prob_class1 = test_yhat_prob[:, 1]\n",
    "test_yhat_prob_class1"
   ]
  },
  {
   "cell_type": "markdown",
   "id": "e0218e92",
   "metadata": {},
   "source": [
    "This array represents the probability of being Class 1 for each sample in the test set.<br>\n",
    "By default, if the probability is greater than 0.5, this sample will be predicted as Class 1; Otherwise, Class 0.<br>\n",
    "\n",
    "Let's recreate the predicted class."
   ]
  },
  {
   "cell_type": "markdown",
   "id": "1b3d3c33",
   "metadata": {},
   "source": [
    "<font color=red><b>Action</b>: Convert the array of probability to an array of predicted class<br>"
   ]
  },
  {
   "cell_type": "code",
   "execution_count": 22,
   "id": "340c0f99",
   "metadata": {},
   "outputs": [
    {
     "data": {
      "text/plain": [
       "array([0, 0, 1, 0, 1, 0, 1, 0, 1, 1, 0, 0, 1, 1, 1, 0, 0, 1, 1, 0, 1, 1,\n",
       "       0, 0, 0, 1, 0, 0, 1, 1, 0, 0, 0, 0, 0, 0, 0, 1, 0, 0, 0, 0, 0, 0,\n",
       "       1, 1, 0, 1, 0, 1, 1, 0, 0, 1, 0, 0, 0, 0, 0, 0, 1, 0, 0, 1, 1, 1,\n",
       "       1, 0, 0, 1, 0, 0, 1, 1, 0, 0, 0, 0, 1, 0, 0, 0, 1, 0, 0, 0, 1, 0,\n",
       "       1, 1, 0, 0, 1, 1, 0, 0, 0, 1, 0, 1, 1, 0, 0, 0, 1, 0, 0, 0, 0, 0,\n",
       "       1, 1, 1, 0, 0, 0, 0, 0, 1, 1, 1, 1, 0, 1, 0, 0, 1, 1, 1, 1, 1, 0,\n",
       "       0, 1, 1, 0, 0, 1, 0, 0])"
      ]
     },
     "execution_count": 22,
     "metadata": {},
     "output_type": "execute_result"
    }
   ],
   "source": [
    "test_yhat = (test_yhat_prob_class1 > 0.5).astype(int)\n",
    "test_yhat"
   ]
  },
  {
   "cell_type": "markdown",
   "id": "42e0e3df",
   "metadata": {},
   "source": [
    "<font color=red><b>Action</b>: Construct a confusion matrix for the test prediction"
   ]
  },
  {
   "cell_type": "code",
   "execution_count": 23,
   "id": "24a4a684",
   "metadata": {},
   "outputs": [
    {
     "data": {
      "text/plain": [
       "array([[82,  3],\n",
       "       [ 1, 54]], dtype=int64)"
      ]
     },
     "execution_count": 23,
     "metadata": {},
     "output_type": "execute_result"
    }
   ],
   "source": [
    "metrics.confusion_matrix(test_y, test_yhat)"
   ]
  },
  {
   "cell_type": "markdown",
   "id": "eedf56ff",
   "metadata": {},
   "source": [
    "Refer to [the last result](#Generate-a-confusion-matrix), we should see the same confusion matrix now."
   ]
  },
  {
   "cell_type": "code",
   "execution_count": null,
   "id": "9e374c4f",
   "metadata": {},
   "outputs": [],
   "source": []
  },
  {
   "cell_type": "code",
   "execution_count": null,
   "id": "2a7e4884",
   "metadata": {},
   "outputs": [],
   "source": []
  }
 ],
 "metadata": {
  "kernelspec": {
   "display_name": "Python 3 (ipykernel)",
   "language": "python",
   "name": "python3"
  },
  "language_info": {
   "codemirror_mode": {
    "name": "ipython",
    "version": 3
   },
   "file_extension": ".py",
   "mimetype": "text/x-python",
   "name": "python",
   "nbconvert_exporter": "python",
   "pygments_lexer": "ipython3",
   "version": "3.11.5"
  }
 },
 "nbformat": 4,
 "nbformat_minor": 5
}
