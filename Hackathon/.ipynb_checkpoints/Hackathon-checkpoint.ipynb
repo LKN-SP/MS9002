{
 "cells": [
  {
   "cell_type": "code",
   "execution_count": null,
   "id": "9ff47139-17e7-4ec8-af50-df96624e1b1a",
   "metadata": {},
   "outputs": [],
   "source": [
    "import numpy as np\n",
    "import pandas as pd\n",
    "import matplotlib.pyplot as plt"
   ]
  },
  {
   "cell_type": "code",
   "execution_count": null,
   "id": "15223c3e-b0ef-48ff-8caf-4b5e10e55487",
   "metadata": {},
   "outputs": [],
   "source": [
    "df = pd.read_csv('hackathon.csv')"
   ]
  },
  {
   "cell_type": "code",
   "execution_count": null,
   "id": "f3754b00-ec86-4f2e-8ea8-2287b67df803",
   "metadata": {},
   "outputs": [],
   "source": [
    "df"
   ]
  },
  {
   "cell_type": "code",
   "execution_count": null,
   "id": "3acb3812-6649-4d26-b770-01c60688192e",
   "metadata": {},
   "outputs": [],
   "source": [
    "df['Revenue'] = df['Revenue'].map({'Yes': 1, 'No': 0})\n",
    "df['Weekend'] = df['Weekend'].map({'Yes': 1, 'No': 0})"
   ]
  },
  {
   "cell_type": "markdown",
   "id": "b1e025c3-aabd-4050-8242-8d38caaa78ac",
   "metadata": {},
   "source": [
    "# Checking missing values"
   ]
  },
  {
   "cell_type": "code",
   "execution_count": null,
   "id": "ccfc51f9-b2d9-4bb8-9d57-359a9e32bb08",
   "metadata": {},
   "outputs": [],
   "source": [
    "df.isnull().mean()"
   ]
  },
  {
   "cell_type": "markdown",
   "id": "6093f430-1449-4bb0-98af-6e0d6a25ffef",
   "metadata": {},
   "source": [
    "# Exploring categorical variables"
   ]
  },
  {
   "cell_type": "code",
   "execution_count": null,
   "id": "c916a1e9-44e6-462b-b061-87ef2b04374e",
   "metadata": {},
   "outputs": [],
   "source": [
    "object_columns = [column for column in df.columns if df[column].dtype == np.dtype('object')]\n",
    "object_columns"
   ]
  },
  {
   "cell_type": "code",
   "execution_count": null,
   "id": "bca7bd68-58df-49d8-8b6c-0aa962d471b9",
   "metadata": {},
   "outputs": [],
   "source": [
    "for column in object_columns:\n",
    "    display(df[column].value_counts())"
   ]
  },
  {
   "cell_type": "markdown",
   "id": "82c00510-a23f-43c1-a391-0064035c68ad",
   "metadata": {},
   "source": [
    "<font color='red'><b>Question:</b></font> In which month, is \"Revenue\" most likely abd least likely to be positive, respectively?"
   ]
  },
  {
   "cell_type": "code",
   "execution_count": null,
   "id": "3c0249f3-023c-45cf-98f1-f37994bc290c",
   "metadata": {},
   "outputs": [],
   "source": [
    "df[['Month', 'Revenue']].groupby('Month').mean()"
   ]
  },
  {
   "cell_type": "markdown",
   "id": "530868f3-8bcb-4ca2-839a-ea10206f5937",
   "metadata": {},
   "source": [
    "<font color='red'><b>Question:</b></font> For which visitor type, is \"Revenue\" most likely abd least likely to be positive, respectively?"
   ]
  },
  {
   "cell_type": "code",
   "execution_count": null,
   "id": "b36a1594-20dd-4216-a2ec-94e1f202820b",
   "metadata": {},
   "outputs": [],
   "source": [
    "df[['VisitorType', 'Revenue']].groupby('VisitorType').mean()"
   ]
  },
  {
   "cell_type": "markdown",
   "id": "29952e18-cf7c-457c-aed3-d670e17febbd",
   "metadata": {},
   "source": [
    "# Exploring numeric variables"
   ]
  },
  {
   "cell_type": "code",
   "execution_count": null,
   "id": "69ce7dcb-c0db-4b97-b653-d1f07e21eab5",
   "metadata": {},
   "outputs": [],
   "source": [
    "numeric_columns = df.describe().columns[:-1]\n",
    "numeric_columns"
   ]
  },
  {
   "cell_type": "markdown",
   "id": "8e169e43-0620-44b3-b475-664aa58cd088",
   "metadata": {},
   "source": [
    "<font color='red'><b>Question:</b></font> Is there any variable that shows good linear separability to differentiate \"Revenue\"? If so, which?"
   ]
  },
  {
   "cell_type": "code",
   "execution_count": null,
   "id": "d08c8325-31d3-4dd5-83f2-10ed23cd978f",
   "metadata": {},
   "outputs": [],
   "source": [
    "# We can make a conditional box plot for each variable against the label\n",
    "\n",
    "column = numeric_columns[7]\n",
    "labels = [0, 1]\n",
    "y = [df[column][df['Revenue'] == label] for label in labels]\n",
    "\n",
    "plt.boxplot(y, labels=labels)\n",
    "plt.title(column)\n",
    "plt.show()"
   ]
  },
  {
   "cell_type": "code",
   "execution_count": null,
   "id": "c07c2e76-733e-4174-b32f-ddbea4ab1356",
   "metadata": {},
   "outputs": [],
   "source": [
    "# We can make a conditional box plot for each variable against the label\n",
    "\n",
    "column = numeric_columns[7]\n",
    "\n",
    "plt.scatter(df[column], df['Revenue'])\n",
    "plt.title(column)\n",
    "plt.show()"
   ]
  },
  {
   "cell_type": "markdown",
   "id": "93832ca6-685b-4ac6-8814-b77bcc5f2174",
   "metadata": {},
   "source": [
    "# One-hot encoding"
   ]
  },
  {
   "cell_type": "code",
   "execution_count": null,
   "id": "1e32d9d5-bee6-4df9-bc55-f0e7254a613f",
   "metadata": {},
   "outputs": [],
   "source": [
    "from sklearn.preprocessing import OneHotEncoder"
   ]
  },
  {
   "cell_type": "code",
   "execution_count": null,
   "id": "063e3b63-c949-4238-bc2f-d8b636817a24",
   "metadata": {},
   "outputs": [],
   "source": [
    "raw_column_names = ['Month', 'VisitorType']\n",
    "raw_columns = df[raw_column_names]"
   ]
  },
  {
   "cell_type": "code",
   "execution_count": null,
   "id": "92deb056-4c9d-4c8f-b88c-a897721613d4",
   "metadata": {},
   "outputs": [],
   "source": [
    "enc = OneHotEncoder(drop='first')\n",
    "enc.fit(raw_columns)\n",
    "encoded_columns = enc.transform(raw_columns).toarray()\n",
    "encoded_column_names = enc.get_feature_names_out()"
   ]
  },
  {
   "cell_type": "code",
   "execution_count": null,
   "id": "989e7fa0-4d2e-413d-a286-a81c86c35375",
   "metadata": {},
   "outputs": [],
   "source": [
    "df[encoded_column_names] = encoded_columns"
   ]
  },
  {
   "cell_type": "markdown",
   "id": "1a585a03-2790-46d0-a78f-2e098d195e53",
   "metadata": {},
   "source": [
    "# Prepare features and label\n",
    "Use the first 10000 rows as the training set and the remaining rows as the test set"
   ]
  },
  {
   "cell_type": "code",
   "execution_count": null,
   "id": "e35e1498-b140-41db-ad02-eaefc12f41fb",
   "metadata": {},
   "outputs": [],
   "source": [
    "train_df = df[df['Set'] == 'train']\n",
    "test_df = df[df['Set'] == 'test']"
   ]
  },
  {
   "cell_type": "code",
   "execution_count": null,
   "id": "576a1807-2596-4a67-9843-760b2b18b6ae",
   "metadata": {},
   "outputs": [],
   "source": [
    "label = 'Revenue'\n",
    "excluded_features = [label, 'Set'] + raw_column_names\n",
    "features = [feature for feature in df.columns if feature not in excluded_features]"
   ]
  },
  {
   "cell_type": "code",
   "execution_count": null,
   "id": "c2e9db47-8771-405a-974a-ecc1e18fd4a1",
   "metadata": {},
   "outputs": [],
   "source": [
    "train_x = train_df[features]\n",
    "train_y = train_df[label]\n",
    "\n",
    "test_x = test_df[features]\n",
    "test_y = test_df[label]"
   ]
  },
  {
   "cell_type": "code",
   "execution_count": null,
   "id": "bf5e7946-93d2-4ec5-9e2b-1c3507c4eb91",
   "metadata": {},
   "outputs": [],
   "source": [
    "train_x"
   ]
  },
  {
   "cell_type": "markdown",
   "id": "e97d3291-298e-467d-9042-e6d3eabd8924",
   "metadata": {},
   "source": [
    "# Decision Tree"
   ]
  },
  {
   "cell_type": "code",
   "execution_count": null,
   "id": "088f947a-868f-4b03-8fe2-422d47e38045",
   "metadata": {},
   "outputs": [],
   "source": [
    "from sklearn.tree import DecisionTreeClassifier, plot_tree\n",
    "from sklearn import metrics"
   ]
  },
  {
   "cell_type": "code",
   "execution_count": null,
   "id": "46e2914a-514f-4f93-8e7e-9beff6df68b1",
   "metadata": {},
   "outputs": [],
   "source": [
    "# Build model\n",
    "model = DecisionTreeClassifier(criterion='gini', max_depth=2, min_samples_split=100)\n",
    "\n",
    "# Fit model on training data\n",
    "model.fit(train_x, train_y)\n",
    "\n",
    "# Visualize the decision tree\n",
    "feature_names = train_x.columns.tolist()\n",
    "plt.figure(figsize=(8, 5))\n",
    "plot_tree(model, filled=True, feature_names=feature_names)\n",
    "plt.show()"
   ]
  },
  {
   "cell_type": "code",
   "execution_count": null,
   "id": "166965b6-6bc8-4ea9-8a41-5f75ed910ad9",
   "metadata": {},
   "outputs": [],
   "source": [
    "from sklearn.tree import export_text"
   ]
  },
  {
   "cell_type": "code",
   "execution_count": null,
   "id": "39cce14a-f594-465b-a28c-4f397eda2dff",
   "metadata": {},
   "outputs": [],
   "source": [
    "print(export_text(model, feature_names=feature_names, show_weights=True))"
   ]
  },
  {
   "cell_type": "code",
   "execution_count": null,
   "id": "9a7058ca-1c2a-41b3-a4e4-bca19c68ae85",
   "metadata": {},
   "outputs": [],
   "source": [
    "train_yhat = model.predict(train_x)\n",
    "test_yhat = model.predict(test_x)"
   ]
  },
  {
   "cell_type": "code",
   "execution_count": null,
   "id": "fdd5d036-23b5-4033-a217-9c42695c3651",
   "metadata": {},
   "outputs": [],
   "source": [
    "metrics.f1_score(train_y, train_yhat)"
   ]
  },
  {
   "cell_type": "code",
   "execution_count": null,
   "id": "d1956f9a-4fa2-483d-923c-a8a64f61a0e8",
   "metadata": {},
   "outputs": [],
   "source": [
    "metrics.f1_score(test_y, test_yhat)"
   ]
  },
  {
   "cell_type": "code",
   "execution_count": null,
   "id": "8243bc51-0edb-491b-8215-8275a541aee1",
   "metadata": {},
   "outputs": [],
   "source": [
    "dt_f1_df = []\n",
    "\n",
    "for i in range(1, 16):\n",
    "    model = DecisionTreeClassifier(criterion='gini', max_depth=i, min_samples_split=200)\n",
    "    model.fit(train_x, train_y)\n",
    "    \n",
    "    train_yhat = model.predict(train_x)\n",
    "    test_yhat = model.predict(test_x)\n",
    "\n",
    "    train_f1 = metrics.f1_score(train_y, train_yhat)\n",
    "    test_f1 = metrics.f1_score(test_y, test_yhat)\n",
    "    \n",
    "    dt_f1_df.append([i, train_f1, test_f1])\n",
    "\n",
    "dt_f1_df = pd.DataFrame(dt_f1_df, columns=['max_depth', 'train_f1', 'test_f1'])\n",
    "dt_f1_df"
   ]
  },
  {
   "cell_type": "code",
   "execution_count": null,
   "id": "81555c49-9165-4188-91d2-deb269d4145a",
   "metadata": {},
   "outputs": [],
   "source": [
    "plt.plot(dt_f1_df['max_depth'], dt_f1_df['train_f1'])\n",
    "plt.plot(dt_f1_df['max_depth'], dt_f1_df['test_f1'])"
   ]
  },
  {
   "cell_type": "markdown",
   "id": "7a7ce960-5735-43d3-88d3-e5a6b32e130a",
   "metadata": {},
   "source": [
    "# k-nearest algorithm"
   ]
  },
  {
   "cell_type": "code",
   "execution_count": null,
   "id": "ee7e75ba-7429-4fcb-865c-200c1402eac5",
   "metadata": {},
   "outputs": [],
   "source": [
    "x = [1,2,3,4,5,6,7,6,5,4,3,2]\n",
    "y = [3,4,5,6,5,4,3,2,1,0,1,2]\n",
    "plt.scatter(x, y)"
   ]
  },
  {
   "cell_type": "code",
   "execution_count": null,
   "id": "2e621189-7cf1-4432-bf24-603603f64c2f",
   "metadata": {},
   "outputs": [],
   "source": [
    "from sklearn.neighbors import KNeighborsClassifier"
   ]
  },
  {
   "cell_type": "code",
   "execution_count": null,
   "id": "e083ab4d-ffeb-46b2-81ce-802f13c2ad64",
   "metadata": {},
   "outputs": [],
   "source": [
    "train_x"
   ]
  },
  {
   "cell_type": "code",
   "execution_count": null,
   "id": "da2e0676-dfb2-48d4-8dbd-310178beb0d8",
   "metadata": {},
   "outputs": [],
   "source": [
    "from sklearn.preprocessing import MinMaxScaler\n",
    "\n",
    "normalizer = MinMaxScaler()\n",
    "\n",
    "normalizer.fit(train_x)\n",
    "\n",
    "train_x_norm = normalizer.transform(train_x)\n",
    "test_x_norm = normalizer.transform(test_x)"
   ]
  },
  {
   "cell_type": "code",
   "execution_count": null,
   "id": "929101f7-e8f2-48e1-ab99-0140db432665",
   "metadata": {},
   "outputs": [],
   "source": [
    "knn_f1_df = []\n",
    "\n",
    "for k in [5, 7, 9, 15, 25]:\n",
    "    model1 = KNeighborsClassifier(n_neighbors=k)\n",
    "    model1.fit(train_x.values, train_y)\n",
    "    \n",
    "    train_yhat = model1.predict(train_x.values)\n",
    "    test_yhat = model1.predict(test_x.values)\n",
    "\n",
    "    model1_train_f1 = metrics.f1_score(train_y, train_yhat)\n",
    "    model1_test_f1 = metrics.f1_score(test_y, test_yhat)\n",
    "    \n",
    "    model2 = KNeighborsClassifier(n_neighbors=k)\n",
    "    model2.fit(train_x_norm, train_y)\n",
    "\n",
    "    train_yhat_norm = model2.predict(train_x_norm)\n",
    "    test_yhat_norm = model2.predict(test_x_norm)\n",
    "    \n",
    "    model2_train_f1 = metrics.f1_score(train_y, train_yhat_norm)\n",
    "    model2_test_f1 = metrics.f1_score(test_y, test_yhat_norm)\n",
    "\n",
    "    knn_f1_df.append([k, model1_train_f1, model1_test_f1, model2_train_f1, model2_test_f1])\n",
    "    \n",
    "knn_f1_df = pd.DataFrame(knn_f1_df, columns=['k', 'model1_train_f1_score', 'model1_test_f1_score', 'model2_train_f1_score', 'model2_test_f1_score'])\n",
    "knn_f1_df"
   ]
  },
  {
   "cell_type": "markdown",
   "id": "0d2f0d75-2122-4246-a0a1-f80fd454df74",
   "metadata": {},
   "source": [
    "# Naive Bayes"
   ]
  },
  {
   "cell_type": "code",
   "execution_count": null,
   "id": "edaceb7b-7972-43d5-b326-534e6bc08373",
   "metadata": {},
   "outputs": [],
   "source": [
    "feature_sets = [['PageValues', 'SpecialDay', 'OperatingSystems', 'Region', 'TrafficType'],\n",
    "                ['Administrative', 'SpecialDay', 'OperatingSystems', 'Region', 'TrafficType'],\n",
    "                ['Administrative', 'PageValues', 'OperatingSystems', 'Region', 'TrafficType'],\n",
    "                ['Administrative', 'PageValues', 'SpecialDay', 'Region', 'TrafficType'],\n",
    "                ['Administrative', 'PageValues', 'SpecialDay', 'OperatingSystems', 'TrafficType'],\n",
    "                ['Administrative', 'PageValues', 'SpecialDay', 'OperatingSystems', 'Region'],\n",
    "                ['Administrative', 'PageValues', 'SpecialDay', 'OperatingSystems', 'Region', 'TrafficType'],\n",
    "               ]"
   ]
  },
  {
   "cell_type": "code",
   "execution_count": null,
   "id": "49d94df6-8ebd-4c36-bc9a-9b4e52a4d958",
   "metadata": {},
   "outputs": [],
   "source": [
    "from sklearn.naive_bayes import CategoricalNB"
   ]
  },
  {
   "cell_type": "code",
   "execution_count": null,
   "id": "ff8046ac-b318-40aa-a84d-4b7d645fb5e4",
   "metadata": {},
   "outputs": [],
   "source": [
    "nb_f1_df = []\n",
    "\n",
    "for i in range(len(feature_sets)):\n",
    "    feature_set = feature_sets[i]\n",
    "    \n",
    "    train_x_nb = train_x[feature_set]\n",
    "    test_x_nb = test_x[feature_set]\n",
    "    \n",
    "    model = CategoricalNB()\n",
    "    \n",
    "    model.fit(train_x_nb, train_y)\n",
    "    \n",
    "    train_yhat = model.predict(train_x_nb)\n",
    "    test_yhat = model.predict(test_x_nb)\n",
    "    \n",
    "    train_f1 = metrics.f1_score(train_y, train_yhat)\n",
    "    test_f1 = metrics.f1_score(test_y, test_yhat)\n",
    "    \n",
    "    nb_f1_df.append([i+1, train_f1, test_f1])\n",
    "    \n",
    "nb_f1_df = pd.DataFrame(nb_f1_df, columns=['Feature Set', 'train_f1', 'test_f1'])\n",
    "nb_f1_df"
   ]
  },
  {
   "cell_type": "markdown",
   "id": "9578ff7a-5db9-4281-a658-eff9874fbcb5",
   "metadata": {},
   "source": [
    "# Logistic Regression"
   ]
  },
  {
   "cell_type": "code",
   "execution_count": null,
   "id": "c874b598-4baf-469b-a548-981bcc8e5759",
   "metadata": {},
   "outputs": [],
   "source": [
    "from sklearn.linear_model import LogisticRegression"
   ]
  },
  {
   "cell_type": "code",
   "execution_count": null,
   "id": "553a819f-7a4c-4fcb-b5e2-d6e5bce7724c",
   "metadata": {},
   "outputs": [],
   "source": [
    "model = LogisticRegression(max_iter=1000)\n",
    "model.fit(train_x, train_y)\n",
    "\n",
    "train_yhat = model.predict(train_x)\n",
    "test_yhat = model.predict(test_x)\n",
    "\n",
    "train_f1 = metrics.f1_score(train_y, train_yhat)\n",
    "test_f1 = metrics.f1_score(test_y, test_yhat)\n",
    "\n",
    "train_f1, test_f1"
   ]
  },
  {
   "cell_type": "markdown",
   "id": "2c088de1-8e79-46b5-a389-f52aea0f23f4",
   "metadata": {},
   "source": [
    "# Best Model"
   ]
  },
  {
   "cell_type": "code",
   "execution_count": null,
   "id": "fdc33048-8eaa-4853-be98-1066cecbfb56",
   "metadata": {},
   "outputs": [],
   "source": [
    "model = DecisionTreeClassifier(criterion='gini', max_depth=1, min_samples_split=200)\n",
    "model.fit(train_x, train_y)\n",
    "\n",
    "train_yhat = model.predict(train_x)\n",
    "test_yhat = model.predict(test_x)\n",
    "\n",
    "train_f1 = metrics.f1_score(train_y, train_yhat)\n",
    "test_f1 = metrics.f1_score(test_y, test_yhat)\n",
    "\n",
    "train_f1, test_f1"
   ]
  },
  {
   "cell_type": "code",
   "execution_count": null,
   "id": "23f42a32-a7f1-4430-8ccc-41b5e726a257",
   "metadata": {},
   "outputs": [],
   "source": []
  }
 ],
 "metadata": {
  "kernelspec": {
   "display_name": "Python 3 (ipykernel)",
   "language": "python",
   "name": "python3"
  },
  "language_info": {
   "codemirror_mode": {
    "name": "ipython",
    "version": 3
   },
   "file_extension": ".py",
   "mimetype": "text/x-python",
   "name": "python",
   "nbconvert_exporter": "python",
   "pygments_lexer": "ipython3",
   "version": "3.11.5"
  }
 },
 "nbformat": 4,
 "nbformat_minor": 5
}
