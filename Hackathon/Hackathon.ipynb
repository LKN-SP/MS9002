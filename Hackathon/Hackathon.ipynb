{
 "cells": [
  {
   "cell_type": "code",
   "execution_count": 1,
   "id": "1621b385-f402-45ad-9cc8-62934cb45203",
   "metadata": {},
   "outputs": [],
   "source": [
    "# Record the number of marks\n",
    "\n",
    "marks = {}"
   ]
  },
  {
   "cell_type": "code",
   "execution_count": 2,
   "id": "eb9087a6-fbf3-4a4c-a13e-2a431cad9ccd",
   "metadata": {},
   "outputs": [],
   "source": [
    "def view_marks(marks):\n",
    "    mark_df = []\n",
    "    total = 0\n",
    "    for key in marks.keys():\n",
    "        mark_df.append([key, marks[key]])\n",
    "        total += marks[key]\n",
    "    mark_df.append(['Total', total])\n",
    "    mark_df = pd.DataFrame(mark_df, columns=['Question', 'Mark']).sort_values(['Question']).reset_index(drop=True)\n",
    "    return mark_df"
   ]
  },
  {
   "cell_type": "code",
   "execution_count": 3,
   "id": "9ff47139-17e7-4ec8-af50-df96624e1b1a",
   "metadata": {},
   "outputs": [],
   "source": [
    "# Import libraries\n",
    "\n",
    "import numpy as np\n",
    "import pandas as pd\n",
    "import matplotlib.pyplot as plt"
   ]
  },
  {
   "cell_type": "code",
   "execution_count": 4,
   "id": "15223c3e-b0ef-48ff-8caf-4b5e10e55487",
   "metadata": {},
   "outputs": [
    {
     "data": {
      "text/html": [
       "<div>\n",
       "<style scoped>\n",
       "    .dataframe tbody tr th:only-of-type {\n",
       "        vertical-align: middle;\n",
       "    }\n",
       "\n",
       "    .dataframe tbody tr th {\n",
       "        vertical-align: top;\n",
       "    }\n",
       "\n",
       "    .dataframe thead th {\n",
       "        text-align: right;\n",
       "    }\n",
       "</style>\n",
       "<table border=\"1\" class=\"dataframe\">\n",
       "  <thead>\n",
       "    <tr style=\"text-align: right;\">\n",
       "      <th></th>\n",
       "      <th>Set</th>\n",
       "      <th>Administrative</th>\n",
       "      <th>Administrative_Duration</th>\n",
       "      <th>Informational</th>\n",
       "      <th>Informational_Duration</th>\n",
       "      <th>ProductRelated</th>\n",
       "      <th>ProductRelated_Duration</th>\n",
       "      <th>BounceRates</th>\n",
       "      <th>ExitRates</th>\n",
       "      <th>PageValues</th>\n",
       "      <th>SpecialDay</th>\n",
       "      <th>Month</th>\n",
       "      <th>OperatingSystems</th>\n",
       "      <th>Browser</th>\n",
       "      <th>Region</th>\n",
       "      <th>TrafficType</th>\n",
       "      <th>VisitorType</th>\n",
       "      <th>Weekend</th>\n",
       "      <th>Revenue</th>\n",
       "    </tr>\n",
       "  </thead>\n",
       "  <tbody>\n",
       "    <tr>\n",
       "      <th>0</th>\n",
       "      <td>0</td>\n",
       "      <td>0</td>\n",
       "      <td>0.0</td>\n",
       "      <td>0</td>\n",
       "      <td>0.0</td>\n",
       "      <td>1</td>\n",
       "      <td>0.000000</td>\n",
       "      <td>0.200000</td>\n",
       "      <td>0.200000</td>\n",
       "      <td>0.000000</td>\n",
       "      <td>0.0</td>\n",
       "      <td>Feb</td>\n",
       "      <td>1</td>\n",
       "      <td>1</td>\n",
       "      <td>1</td>\n",
       "      <td>1</td>\n",
       "      <td>Returning_Visitor</td>\n",
       "      <td>No</td>\n",
       "      <td>No</td>\n",
       "    </tr>\n",
       "    <tr>\n",
       "      <th>1</th>\n",
       "      <td>0</td>\n",
       "      <td>0</td>\n",
       "      <td>0.0</td>\n",
       "      <td>0</td>\n",
       "      <td>0.0</td>\n",
       "      <td>2</td>\n",
       "      <td>64.000000</td>\n",
       "      <td>0.000000</td>\n",
       "      <td>0.100000</td>\n",
       "      <td>0.000000</td>\n",
       "      <td>0.0</td>\n",
       "      <td>Feb</td>\n",
       "      <td>2</td>\n",
       "      <td>2</td>\n",
       "      <td>1</td>\n",
       "      <td>2</td>\n",
       "      <td>Returning_Visitor</td>\n",
       "      <td>No</td>\n",
       "      <td>No</td>\n",
       "    </tr>\n",
       "    <tr>\n",
       "      <th>2</th>\n",
       "      <td>0</td>\n",
       "      <td>0</td>\n",
       "      <td>0.0</td>\n",
       "      <td>0</td>\n",
       "      <td>0.0</td>\n",
       "      <td>1</td>\n",
       "      <td>0.000000</td>\n",
       "      <td>0.200000</td>\n",
       "      <td>0.200000</td>\n",
       "      <td>0.000000</td>\n",
       "      <td>0.0</td>\n",
       "      <td>Feb</td>\n",
       "      <td>4</td>\n",
       "      <td>1</td>\n",
       "      <td>9</td>\n",
       "      <td>3</td>\n",
       "      <td>Returning_Visitor</td>\n",
       "      <td>No</td>\n",
       "      <td>No</td>\n",
       "    </tr>\n",
       "    <tr>\n",
       "      <th>3</th>\n",
       "      <td>0</td>\n",
       "      <td>0</td>\n",
       "      <td>0.0</td>\n",
       "      <td>0</td>\n",
       "      <td>0.0</td>\n",
       "      <td>2</td>\n",
       "      <td>2.666667</td>\n",
       "      <td>0.050000</td>\n",
       "      <td>0.140000</td>\n",
       "      <td>0.000000</td>\n",
       "      <td>0.0</td>\n",
       "      <td>Feb</td>\n",
       "      <td>3</td>\n",
       "      <td>2</td>\n",
       "      <td>2</td>\n",
       "      <td>4</td>\n",
       "      <td>Returning_Visitor</td>\n",
       "      <td>No</td>\n",
       "      <td>No</td>\n",
       "    </tr>\n",
       "    <tr>\n",
       "      <th>4</th>\n",
       "      <td>0</td>\n",
       "      <td>0</td>\n",
       "      <td>0.0</td>\n",
       "      <td>0</td>\n",
       "      <td>0.0</td>\n",
       "      <td>10</td>\n",
       "      <td>627.500000</td>\n",
       "      <td>0.020000</td>\n",
       "      <td>0.050000</td>\n",
       "      <td>0.000000</td>\n",
       "      <td>0.0</td>\n",
       "      <td>Feb</td>\n",
       "      <td>3</td>\n",
       "      <td>3</td>\n",
       "      <td>1</td>\n",
       "      <td>4</td>\n",
       "      <td>Returning_Visitor</td>\n",
       "      <td>Yes</td>\n",
       "      <td>No</td>\n",
       "    </tr>\n",
       "    <tr>\n",
       "      <th>...</th>\n",
       "      <td>...</td>\n",
       "      <td>...</td>\n",
       "      <td>...</td>\n",
       "      <td>...</td>\n",
       "      <td>...</td>\n",
       "      <td>...</td>\n",
       "      <td>...</td>\n",
       "      <td>...</td>\n",
       "      <td>...</td>\n",
       "      <td>...</td>\n",
       "      <td>...</td>\n",
       "      <td>...</td>\n",
       "      <td>...</td>\n",
       "      <td>...</td>\n",
       "      <td>...</td>\n",
       "      <td>...</td>\n",
       "      <td>...</td>\n",
       "      <td>...</td>\n",
       "      <td>...</td>\n",
       "    </tr>\n",
       "    <tr>\n",
       "      <th>12325</th>\n",
       "      <td>0</td>\n",
       "      <td>3</td>\n",
       "      <td>145.0</td>\n",
       "      <td>0</td>\n",
       "      <td>0.0</td>\n",
       "      <td>53</td>\n",
       "      <td>1783.791667</td>\n",
       "      <td>0.007143</td>\n",
       "      <td>0.029031</td>\n",
       "      <td>12.241717</td>\n",
       "      <td>0.0</td>\n",
       "      <td>Dec</td>\n",
       "      <td>4</td>\n",
       "      <td>6</td>\n",
       "      <td>1</td>\n",
       "      <td>1</td>\n",
       "      <td>Returning_Visitor</td>\n",
       "      <td>Yes</td>\n",
       "      <td>No</td>\n",
       "    </tr>\n",
       "    <tr>\n",
       "      <th>12326</th>\n",
       "      <td>0</td>\n",
       "      <td>0</td>\n",
       "      <td>0.0</td>\n",
       "      <td>0</td>\n",
       "      <td>0.0</td>\n",
       "      <td>5</td>\n",
       "      <td>465.750000</td>\n",
       "      <td>0.000000</td>\n",
       "      <td>0.021333</td>\n",
       "      <td>0.000000</td>\n",
       "      <td>0.0</td>\n",
       "      <td>Nov</td>\n",
       "      <td>3</td>\n",
       "      <td>2</td>\n",
       "      <td>1</td>\n",
       "      <td>8</td>\n",
       "      <td>Returning_Visitor</td>\n",
       "      <td>Yes</td>\n",
       "      <td>No</td>\n",
       "    </tr>\n",
       "    <tr>\n",
       "      <th>12327</th>\n",
       "      <td>0</td>\n",
       "      <td>0</td>\n",
       "      <td>0.0</td>\n",
       "      <td>0</td>\n",
       "      <td>0.0</td>\n",
       "      <td>6</td>\n",
       "      <td>184.250000</td>\n",
       "      <td>0.083333</td>\n",
       "      <td>0.086667</td>\n",
       "      <td>0.000000</td>\n",
       "      <td>0.0</td>\n",
       "      <td>Nov</td>\n",
       "      <td>3</td>\n",
       "      <td>2</td>\n",
       "      <td>1</td>\n",
       "      <td>13</td>\n",
       "      <td>Returning_Visitor</td>\n",
       "      <td>Yes</td>\n",
       "      <td>No</td>\n",
       "    </tr>\n",
       "    <tr>\n",
       "      <th>12328</th>\n",
       "      <td>0</td>\n",
       "      <td>4</td>\n",
       "      <td>75.0</td>\n",
       "      <td>0</td>\n",
       "      <td>0.0</td>\n",
       "      <td>15</td>\n",
       "      <td>346.000000</td>\n",
       "      <td>0.000000</td>\n",
       "      <td>0.021053</td>\n",
       "      <td>0.000000</td>\n",
       "      <td>0.0</td>\n",
       "      <td>Nov</td>\n",
       "      <td>2</td>\n",
       "      <td>2</td>\n",
       "      <td>3</td>\n",
       "      <td>11</td>\n",
       "      <td>Returning_Visitor</td>\n",
       "      <td>No</td>\n",
       "      <td>No</td>\n",
       "    </tr>\n",
       "    <tr>\n",
       "      <th>12329</th>\n",
       "      <td>1</td>\n",
       "      <td>0</td>\n",
       "      <td>0.0</td>\n",
       "      <td>0</td>\n",
       "      <td>0.0</td>\n",
       "      <td>3</td>\n",
       "      <td>21.250000</td>\n",
       "      <td>0.000000</td>\n",
       "      <td>0.066667</td>\n",
       "      <td>0.000000</td>\n",
       "      <td>0.0</td>\n",
       "      <td>Nov</td>\n",
       "      <td>3</td>\n",
       "      <td>2</td>\n",
       "      <td>1</td>\n",
       "      <td>2</td>\n",
       "      <td>New_Visitor</td>\n",
       "      <td>Yes</td>\n",
       "      <td>No</td>\n",
       "    </tr>\n",
       "  </tbody>\n",
       "</table>\n",
       "<p>12330 rows × 19 columns</p>\n",
       "</div>"
      ],
      "text/plain": [
       "       Set  Administrative  Administrative_Duration  Informational  \\\n",
       "0        0               0                      0.0              0   \n",
       "1        0               0                      0.0              0   \n",
       "2        0               0                      0.0              0   \n",
       "3        0               0                      0.0              0   \n",
       "4        0               0                      0.0              0   \n",
       "...    ...             ...                      ...            ...   \n",
       "12325    0               3                    145.0              0   \n",
       "12326    0               0                      0.0              0   \n",
       "12327    0               0                      0.0              0   \n",
       "12328    0               4                     75.0              0   \n",
       "12329    1               0                      0.0              0   \n",
       "\n",
       "       Informational_Duration  ProductRelated  ProductRelated_Duration  \\\n",
       "0                         0.0               1                 0.000000   \n",
       "1                         0.0               2                64.000000   \n",
       "2                         0.0               1                 0.000000   \n",
       "3                         0.0               2                 2.666667   \n",
       "4                         0.0              10               627.500000   \n",
       "...                       ...             ...                      ...   \n",
       "12325                     0.0              53              1783.791667   \n",
       "12326                     0.0               5               465.750000   \n",
       "12327                     0.0               6               184.250000   \n",
       "12328                     0.0              15               346.000000   \n",
       "12329                     0.0               3                21.250000   \n",
       "\n",
       "       BounceRates  ExitRates  PageValues  SpecialDay Month  OperatingSystems  \\\n",
       "0         0.200000   0.200000    0.000000         0.0   Feb                 1   \n",
       "1         0.000000   0.100000    0.000000         0.0   Feb                 2   \n",
       "2         0.200000   0.200000    0.000000         0.0   Feb                 4   \n",
       "3         0.050000   0.140000    0.000000         0.0   Feb                 3   \n",
       "4         0.020000   0.050000    0.000000         0.0   Feb                 3   \n",
       "...            ...        ...         ...         ...   ...               ...   \n",
       "12325     0.007143   0.029031   12.241717         0.0   Dec                 4   \n",
       "12326     0.000000   0.021333    0.000000         0.0   Nov                 3   \n",
       "12327     0.083333   0.086667    0.000000         0.0   Nov                 3   \n",
       "12328     0.000000   0.021053    0.000000         0.0   Nov                 2   \n",
       "12329     0.000000   0.066667    0.000000         0.0   Nov                 3   \n",
       "\n",
       "       Browser  Region  TrafficType        VisitorType Weekend Revenue  \n",
       "0            1       1            1  Returning_Visitor      No      No  \n",
       "1            2       1            2  Returning_Visitor      No      No  \n",
       "2            1       9            3  Returning_Visitor      No      No  \n",
       "3            2       2            4  Returning_Visitor      No      No  \n",
       "4            3       1            4  Returning_Visitor     Yes      No  \n",
       "...        ...     ...          ...                ...     ...     ...  \n",
       "12325        6       1            1  Returning_Visitor     Yes      No  \n",
       "12326        2       1            8  Returning_Visitor     Yes      No  \n",
       "12327        2       1           13  Returning_Visitor     Yes      No  \n",
       "12328        2       3           11  Returning_Visitor      No      No  \n",
       "12329        2       1            2        New_Visitor     Yes      No  \n",
       "\n",
       "[12330 rows x 19 columns]"
      ]
     },
     "execution_count": 4,
     "metadata": {},
     "output_type": "execute_result"
    }
   ],
   "source": [
    "# Import the data set\n",
    "\n",
    "df = pd.read_csv('hackathon.csv')\n",
    "df"
   ]
  },
  {
   "cell_type": "markdown",
   "id": "0a334363-c68c-4205-a830-394a49db8393",
   "metadata": {},
   "source": [
    "### Q1\n",
    "Is there any column that contains missing values?"
   ]
  },
  {
   "cell_type": "code",
   "execution_count": 5,
   "id": "6db58a37-cb60-4933-a03d-93e549d5790f",
   "metadata": {},
   "outputs": [],
   "source": [
    "marks['Q01'] = 2"
   ]
  },
  {
   "cell_type": "code",
   "execution_count": 6,
   "id": "881479d4-4bb6-4871-9e99-102b50c3c127",
   "metadata": {},
   "outputs": [
    {
     "data": {
      "text/plain": [
       "Set                        0.0\n",
       "Administrative             0.0\n",
       "Administrative_Duration    0.0\n",
       "Informational              0.0\n",
       "Informational_Duration     0.0\n",
       "ProductRelated             0.0\n",
       "ProductRelated_Duration    0.0\n",
       "BounceRates                0.0\n",
       "ExitRates                  0.0\n",
       "PageValues                 0.0\n",
       "SpecialDay                 0.0\n",
       "Month                      0.0\n",
       "OperatingSystems           0.0\n",
       "Browser                    0.0\n",
       "Region                     0.0\n",
       "TrafficType                0.0\n",
       "VisitorType                0.0\n",
       "Weekend                    0.0\n",
       "Revenue                    0.0\n",
       "dtype: float64"
      ]
     },
     "execution_count": 6,
     "metadata": {},
     "output_type": "execute_result"
    }
   ],
   "source": [
    "df.isnull().mean()"
   ]
  },
  {
   "cell_type": "markdown",
   "id": "30c462d5-46bf-4097-b803-954021341d03",
   "metadata": {},
   "source": [
    "### Q2\n",
    "Excluding the non-variables and the target variable, how many categorical variables and how many numeric variables are there?"
   ]
  },
  {
   "cell_type": "code",
   "execution_count": 7,
   "id": "a9c26b3c-2a52-413e-a1af-b9e6b9516419",
   "metadata": {},
   "outputs": [],
   "source": [
    "marks['Q02'] = 2"
   ]
  },
  {
   "cell_type": "code",
   "execution_count": 8,
   "id": "fc0bf82b-30df-4b45-a273-24dfccf3473a",
   "metadata": {},
   "outputs": [],
   "source": [
    "# 7 categorical variables\n",
    "categorical_columns = ['Month', 'OperatingSystems', 'Browser', 'Region', 'TrafficType', 'VisitorType', 'Weekend']\n",
    "\n",
    "# 10 categorical variables\n",
    "numeric_columns = ['Administrative', 'Administrative_Duration',\n",
    "                   'Informational', 'Informational_Duration',\n",
    "                   'ProductRelated', 'ProductRelated_Duration',\n",
    "                   'BounceRates', 'ExitRates', 'PageValues', 'SpecialDay']"
   ]
  },
  {
   "cell_type": "markdown",
   "id": "6fb0dc84-9128-4e18-8111-7d0675559589",
   "metadata": {},
   "source": [
    "### Q3\n",
    "Which month contains the highest proportion of positive samples? How many percent?"
   ]
  },
  {
   "cell_type": "code",
   "execution_count": 9,
   "id": "33a3fc21-d7a6-47d4-8c9d-499660c7824a",
   "metadata": {},
   "outputs": [],
   "source": [
    "marks['Q03'] = 2"
   ]
  },
  {
   "cell_type": "code",
   "execution_count": 10,
   "id": "599f80dd-83b2-4aad-93a7-2a00b5171949",
   "metadata": {},
   "outputs": [
    {
     "name": "stdout",
     "output_type": "stream",
     "text": [
      "Month | %Yes | %No\n",
      "Feb | 1.6% | 98.4%\n",
      "Mar | 10.1% | 89.9%\n",
      "May | 10.9% | 89.1%\n",
      "Oct | 20.9% | 79.1%\n",
      "June | 10.1% | 89.9%\n",
      "Jul | 15.3% | 84.7%\n",
      "Aug | 17.6% | 82.4%\n",
      "Nov | 25.4% | 74.6%\n",
      "Sep | 19.2% | 80.8%\n",
      "Dec | 12.5% | 87.5%\n"
     ]
    }
   ],
   "source": [
    "print('Month | %Yes | %No')\n",
    "\n",
    "for month in df['Month'].unique():\n",
    "    sub_df = df[df['Month'] == month]\n",
    "    \n",
    "    n_total = sub_df.shape[0]\n",
    "    n_yes = sub_df[sub_df['Revenue'] == 'Yes'].shape[0]\n",
    "    n_no = sub_df[sub_df['Revenue'] == 'No'].shape[0]\n",
    "    \n",
    "    print('{} | {:.1f}% | {:.1f}%'.format(month, n_yes/n_total*100, n_no/n_total*100))"
   ]
  },
  {
   "cell_type": "markdown",
   "id": "58af36e7-a776-4f56-89dc-72ce3b4cafde",
   "metadata": {},
   "source": [
    "### Q4\n",
    "Which visitor type contains the highest proportion of positive samples? How many percent?"
   ]
  },
  {
   "cell_type": "code",
   "execution_count": 11,
   "id": "636e70e6-3c7e-4aa6-8d2c-ca9775c8665e",
   "metadata": {},
   "outputs": [],
   "source": [
    "marks['Q04'] = 2"
   ]
  },
  {
   "cell_type": "code",
   "execution_count": 12,
   "id": "91cb9def-e3c2-4425-aed6-58e6109e5e66",
   "metadata": {},
   "outputs": [
    {
     "name": "stdout",
     "output_type": "stream",
     "text": [
      "VisitorType | %Yes | %No\n",
      "Returning_Visitor | 13.9% | 86.1%\n",
      "New_Visitor | 24.9% | 75.1%\n",
      "Other | 18.8% | 81.2%\n"
     ]
    }
   ],
   "source": [
    "print('VisitorType | %Yes | %No')\n",
    "\n",
    "for VisitorType in df['VisitorType'].unique():\n",
    "    sub_df = df[df['VisitorType'] == VisitorType]\n",
    "    \n",
    "    n_total = sub_df.shape[0]\n",
    "    n_yes = sub_df[sub_df['Revenue'] == 'Yes'].shape[0]\n",
    "    n_no = sub_df[sub_df['Revenue'] == 'No'].shape[0]\n",
    "    \n",
    "    print('{} | {:.1f}% | {:.1f}%'.format(VisitorType, n_yes/n_total*100, n_no/n_total*100))"
   ]
  },
  {
   "cell_type": "markdown",
   "id": "38ddcd61-2832-4355-a3cf-641407461b19",
   "metadata": {},
   "source": [
    "### Q5\n",
    "For \"OperatingSystems\", \"Browser\" and \"TrafficType\", how many unique values have less than 100 counts? What potential problem could they cause to data mining / machine learning?"
   ]
  },
  {
   "cell_type": "code",
   "execution_count": 13,
   "id": "ffffa9a0-5ab2-4916-bb8c-af63c1abad82",
   "metadata": {},
   "outputs": [],
   "source": [
    "marks['Q05'] = 5\n",
    "\n",
    "# 1 point each\n",
    "# \"OperatingSystems\" has 4\n",
    "# \"Browser\" has 5\n",
    "# \"TrafficType\" has 9\n",
    "\n",
    "# 2 points for 1 potential problem\n",
    "# If those samples appear more in the training set, they may potentially cause overfitting\n",
    "# If those samples appear more in the test set, the model may not be able to learn about them"
   ]
  },
  {
   "cell_type": "code",
   "execution_count": 14,
   "id": "00eb3b66-f10e-413e-b864-bb06507159e8",
   "metadata": {},
   "outputs": [
    {
     "data": {
      "text/plain": [
       "OperatingSystems\n",
       "2    6601\n",
       "1    2585\n",
       "3    2555\n",
       "4     478\n",
       "8      79\n",
       "6      19\n",
       "7       7\n",
       "5       6\n",
       "Name: count, dtype: int64"
      ]
     },
     "metadata": {},
     "output_type": "display_data"
    },
    {
     "data": {
      "text/plain": [
       "Browser\n",
       "2     7961\n",
       "1     2462\n",
       "4      736\n",
       "5      467\n",
       "6      174\n",
       "10     163\n",
       "8      135\n",
       "3      105\n",
       "13      61\n",
       "7       49\n",
       "12      10\n",
       "11       6\n",
       "9        1\n",
       "Name: count, dtype: int64"
      ]
     },
     "metadata": {},
     "output_type": "display_data"
    },
    {
     "data": {
      "text/plain": [
       "TrafficType\n",
       "2     3913\n",
       "1     2451\n",
       "3     2052\n",
       "4     1069\n",
       "13     738\n",
       "10     450\n",
       "6      444\n",
       "8      343\n",
       "5      260\n",
       "11     247\n",
       "20     198\n",
       "9       42\n",
       "7       40\n",
       "15      38\n",
       "19      17\n",
       "14      13\n",
       "18      10\n",
       "16       3\n",
       "12       1\n",
       "17       1\n",
       "Name: count, dtype: int64"
      ]
     },
     "metadata": {},
     "output_type": "display_data"
    }
   ],
   "source": [
    "for column in ['OperatingSystems', 'Browser', 'TrafficType']:\n",
    "    display(df[column].value_counts())"
   ]
  },
  {
   "cell_type": "markdown",
   "id": "6dec184c-1319-4cc3-ac60-4896a4ac251e",
   "metadata": {},
   "source": [
    "### Q6\n",
    "For \"OperatingSystems\", change the value of 5, 6, 7 and 8 to 0.<br>\n",
    "For \"Browser\", change the value of 7, 9, 11, 12 and 13 to 0.<br>\n",
    "For \"TrafficType\", change the value of 7, 9, 12, 14, 15, 16, 17, 18 and 19 to 0.\n",
    "\n",
    "As a result, how many values of 0 are there in each variable?<br>\n",
    "What is the implication of this operation?"
   ]
  },
  {
   "cell_type": "code",
   "execution_count": 15,
   "id": "446c93ac-3bc4-4495-a3f3-f88eab89afb9",
   "metadata": {},
   "outputs": [],
   "source": [
    "marks['Q06'] = 5\n",
    "\n",
    "# 1 point each\n",
    "# \"OperatingSystems\" has 111\n",
    "# \"Browser\" has 127\n",
    "# \"TrafficType\" has 165\n",
    "\n",
    "# 2 points\n",
    "# We are merging the minority categories into one (that could potentially imply \"others\")"
   ]
  },
  {
   "cell_type": "code",
   "execution_count": 16,
   "id": "07e590e3-cdab-4f86-b842-7c6ce98df9a4",
   "metadata": {},
   "outputs": [],
   "source": [
    "OperatingSystems_mapper = lambda x: 0 if x in [5, 6, 7, 8] else x\n",
    "df['OperatingSystems'] = df['OperatingSystems'].map(OperatingSystems_mapper)\n",
    "\n",
    "Browser_mapper = lambda x: 0 if x in [7, 9, 11, 12, 13] else x\n",
    "df['Browser'] = df['Browser'].map(Browser_mapper)\n",
    "\n",
    "TrafficType_mapper = lambda x: 0 if x in [7, 9, 12, 14, 15, 16, 17, 18, 19] else x\n",
    "df['TrafficType'] = df['TrafficType'].map(TrafficType_mapper)"
   ]
  },
  {
   "cell_type": "code",
   "execution_count": 17,
   "id": "1ab5da42-6c65-4aea-8026-1dba1c23b979",
   "metadata": {},
   "outputs": [
    {
     "data": {
      "text/plain": [
       "OperatingSystems\n",
       "2    6601\n",
       "1    2585\n",
       "3    2555\n",
       "4     478\n",
       "0     111\n",
       "Name: count, dtype: int64"
      ]
     },
     "metadata": {},
     "output_type": "display_data"
    },
    {
     "data": {
      "text/plain": [
       "Browser\n",
       "2     7961\n",
       "1     2462\n",
       "4      736\n",
       "5      467\n",
       "6      174\n",
       "10     163\n",
       "8      135\n",
       "0      127\n",
       "3      105\n",
       "Name: count, dtype: int64"
      ]
     },
     "metadata": {},
     "output_type": "display_data"
    },
    {
     "data": {
      "text/plain": [
       "TrafficType\n",
       "2     3913\n",
       "1     2451\n",
       "3     2052\n",
       "4     1069\n",
       "13     738\n",
       "10     450\n",
       "6      444\n",
       "8      343\n",
       "5      260\n",
       "11     247\n",
       "20     198\n",
       "0      165\n",
       "Name: count, dtype: int64"
      ]
     },
     "metadata": {},
     "output_type": "display_data"
    }
   ],
   "source": [
    "for column in ['OperatingSystems', 'Browser', 'TrafficType']:\n",
    "    display(df[column].value_counts())"
   ]
  },
  {
   "cell_type": "markdown",
   "id": "d0281044-86f5-4555-ba77-236ff1265d82",
   "metadata": {},
   "source": [
    "### Q7\n",
    "Perform one-hot encoding for all 7 categorical columns. Set drop='first'.\n",
    "How many binary variables are created to replace those categorical columns?"
   ]
  },
  {
   "cell_type": "code",
   "execution_count": 18,
   "id": "4e4295b3-f568-4f41-9794-419e97f4eb80",
   "metadata": {},
   "outputs": [],
   "source": [
    "marks['Q07'] = 5\n",
    "\n",
    "# 43"
   ]
  },
  {
   "cell_type": "code",
   "execution_count": 19,
   "id": "1e32d9d5-bee6-4df9-bc55-f0e7254a613f",
   "metadata": {},
   "outputs": [],
   "source": [
    "from sklearn.preprocessing import OneHotEncoder"
   ]
  },
  {
   "cell_type": "code",
   "execution_count": 20,
   "id": "063e3b63-c949-4238-bc2f-d8b636817a24",
   "metadata": {},
   "outputs": [],
   "source": [
    "raw_column_names = categorical_columns\n",
    "raw_columns = df[raw_column_names]"
   ]
  },
  {
   "cell_type": "code",
   "execution_count": 21,
   "id": "92deb056-4c9d-4c8f-b88c-a897721613d4",
   "metadata": {},
   "outputs": [],
   "source": [
    "enc = OneHotEncoder(drop='first')\n",
    "enc.fit(raw_columns)\n",
    "encoded_columns = enc.transform(raw_columns).toarray()\n",
    "encoded_column_names = enc.get_feature_names_out()"
   ]
  },
  {
   "cell_type": "code",
   "execution_count": 22,
   "id": "989e7fa0-4d2e-413d-a286-a81c86c35375",
   "metadata": {},
   "outputs": [],
   "source": [
    "df[encoded_column_names] = encoded_columns"
   ]
  },
  {
   "cell_type": "code",
   "execution_count": 23,
   "id": "4e79c0be-2f37-4437-a29a-dd5769ea09b1",
   "metadata": {},
   "outputs": [
    {
     "data": {
      "text/plain": [
       "43"
      ]
     },
     "execution_count": 23,
     "metadata": {},
     "output_type": "execute_result"
    }
   ],
   "source": [
    "len(encoded_column_names)"
   ]
  },
  {
   "cell_type": "markdown",
   "id": "7105f533-e6aa-438e-99bd-8c983b1a8083",
   "metadata": {},
   "source": [
    "### Q8\n",
    "Make a scatter plot of \"Revenue\" (on y-axis) against each numeric variable (the x-axis).\n",
    "Recall the shape of the sigmoid function. Can it fit any scatter plot well? Does it suggest any model that may potentially do well/badly?"
   ]
  },
  {
   "cell_type": "code",
   "execution_count": 24,
   "id": "7b0edf10-ba11-4940-abfb-2596e87aebf5",
   "metadata": {},
   "outputs": [],
   "source": [
    "marks['Q08'] = 5\n",
    "\n",
    "# 3 points\n",
    "# None of the scatter plot can be represented well by a sigmoid function\n",
    "\n",
    "# 2 points\n",
    "# It suggests that the logistic regression will unlikely perform well"
   ]
  },
  {
   "cell_type": "code",
   "execution_count": 25,
   "id": "d08c8325-31d3-4dd5-83f2-10ed23cd978f",
   "metadata": {
    "scrolled": true
   },
   "outputs": [
    {
     "data": {
      "image/png": "[encoded data removed]",
      "text/plain": [
       "<Figure size 900x4000 with 10 Axes>"
      ]
     },
     "metadata": {},
     "output_type": "display_data"
    }
   ],
   "source": [
    "fig, axs = plt.subplots(len(numeric_columns), 1, figsize=(9, 4*len(numeric_columns)))\n",
    "\n",
    "for i in range(len(numeric_columns)):\n",
    "    column = numeric_columns[i]\n",
    "    labels = ['Yes', 'No']\n",
    "    y = [df[column][df['Revenue'] == label] for label in labels]\n",
    "    \n",
    "    axs[i].scatter(df[column], df['Revenue'], alpha=0.1)\n",
    "    axs[i].set_title(column)\n",
    "\n",
    "plt.show()"
   ]
  },
  {
   "cell_type": "markdown",
   "id": "d45bd191-06f6-45d8-b7a5-c60cc19262f1",
   "metadata": {},
   "source": [
    "### Q9\n",
    "Filter the full DataFrame by Set = 0 and Set = 1. 0 represents the training set and 1 represents the test set.<br>\n",
    "How many samples are there in the training set and in the test set respectively?"
   ]
  },
  {
   "cell_type": "code",
   "execution_count": 26,
   "id": "0cd46636-964e-4111-abbf-5d96a35218db",
   "metadata": {},
   "outputs": [],
   "source": [
    "marks['Q09'] = 2\n",
    "\n",
    "# 9864 in the training set\n",
    "# 2466 in the test set"
   ]
  },
  {
   "cell_type": "code",
   "execution_count": 27,
   "id": "e35e1498-b140-41db-ad02-eaefc12f41fb",
   "metadata": {},
   "outputs": [
    {
     "data": {
      "text/plain": [
       "(9864, 2466)"
      ]
     },
     "execution_count": 27,
     "metadata": {},
     "output_type": "execute_result"
    }
   ],
   "source": [
    "train_df = df[df['Set'] == 0]\n",
    "test_df = df[df['Set'] == 1]\n",
    "\n",
    "train_df.shape[0], test_df.shape[0]"
   ]
  },
  {
   "cell_type": "code",
   "execution_count": 28,
   "id": "576a1807-2596-4a67-9843-760b2b18b6ae",
   "metadata": {},
   "outputs": [],
   "source": [
    "label = 'Revenue'\n",
    "excluded_features = [label, 'Set'] + raw_column_names\n",
    "features = [feature for feature in df.columns if feature not in excluded_features]"
   ]
  },
  {
   "cell_type": "code",
   "execution_count": 29,
   "id": "c2e9db47-8771-405a-974a-ecc1e18fd4a1",
   "metadata": {},
   "outputs": [],
   "source": [
    "train_x = train_df[features]\n",
    "train_y = train_df[label]\n",
    "\n",
    "test_x = test_df[features]\n",
    "test_y = test_df[label]"
   ]
  },
  {
   "cell_type": "markdown",
   "id": "981a502a-e2a8-42d2-ac53-b4ff4a080232",
   "metadata": {},
   "source": [
    "### Q10 - Decision Tree\n",
    "Build a decision tree classifier using sklearn.tree.DecisionTreeClassifier().<br>\n",
    "Set criterion='gini', max_depth=2 and min_samples_split=100.<br>\n",
    "\n",
    "View the tree by sklearn.tree.plot_tree() or sklearn.tree.export_text().<br>\n",
    "Remeber to set the \"feature_names\" argument so the displayed result will show the feature names, instead of the feature number.\n",
    "\n",
    "Describe the tree in plain English using the following format:\n",
    "- IF #Condition1# and #Condition2#, the prediction will be #Positive/Negative# with ...% confidence\n",
    "- ..."
   ]
  },
  {
   "cell_type": "code",
   "execution_count": 30,
   "id": "971873e2-0158-4542-ac85-9ae270e27711",
   "metadata": {},
   "outputs": [],
   "source": [
    "marks['Q10'] = 5\n",
    "\n",
    "# IF PageValues <= 0.945 and Month_Nov <= 0.5, the prediction will be negative with 98.12% confidence.\n",
    "# IF PageValues <= 0.945 and Month_Nov > 0.5, the prediction will be negative with 89.07% confidence.\n",
    "# IF PageValues > 0.945 and BounceRates <= 0, the prediction will be negative with 73.26% confidence.\n",
    "# IF PageValues > 0.945 and BounceRates > 0, the prediction will be negative with 56.66% confidence."
   ]
  },
  {
   "cell_type": "code",
   "execution_count": 31,
   "id": "088f947a-868f-4b03-8fe2-422d47e38045",
   "metadata": {},
   "outputs": [],
   "source": [
    "from sklearn.tree import DecisionTreeClassifier, plot_tree, export_text\n",
    "from sklearn import metrics"
   ]
  },
  {
   "cell_type": "code",
   "execution_count": 32,
   "id": "46e2914a-514f-4f93-8e7e-9beff6df68b1",
   "metadata": {},
   "outputs": [
    {
     "data": {
      "image/png": "[encoded data removed]",
      "text/plain": [
       "<Figure size 800x500 with 1 Axes>"
      ]
     },
     "metadata": {},
     "output_type": "display_data"
    }
   ],
   "source": [
    "# Build model\n",
    "model = DecisionTreeClassifier(criterion='gini', max_depth=2, min_samples_split=100)\n",
    "\n",
    "# Fit model on training data\n",
    "model.fit(train_x, train_y)\n",
    "\n",
    "# Visualize the decision tree\n",
    "feature_names = train_x.columns.tolist()\n",
    "plt.figure(figsize=(8, 5))\n",
    "plot_tree(model, filled=True, feature_names=feature_names)\n",
    "plt.show()"
   ]
  },
  {
   "cell_type": "code",
   "execution_count": 33,
   "id": "39cce14a-f594-465b-a28c-4f397eda2dff",
   "metadata": {},
   "outputs": [
    {
     "name": "stdout",
     "output_type": "stream",
     "text": [
      "|--- PageValues <= 0.94\n",
      "|   |--- Month_Nov <= 0.50\n",
      "|   |   |--- weights: [5810.00, 111.00] class: No\n",
      "|   |--- Month_Nov >  0.50\n",
      "|   |   |--- weights: [1589.00, 195.00] class: No\n",
      "|--- PageValues >  0.94\n",
      "|   |--- BounceRates <= 0.00\n",
      "|   |   |--- weights: [254.00, 696.00] class: Yes\n",
      "|   |--- BounceRates >  0.00\n",
      "|   |   |--- weights: [685.00, 524.00] class: No\n",
      "\n"
     ]
    }
   ],
   "source": [
    "print(export_text(model, feature_names=feature_names, show_weights=True))"
   ]
  },
  {
   "cell_type": "markdown",
   "id": "18876605-a08f-4b52-9722-a67adc5e419d",
   "metadata": {},
   "source": [
    "### Q11\n",
    "Report the F1-score of the prediction on the training set and on the test set by the decision tree classifier, using sklearn.metrics.f1_score().<br>\n",
    "Note: If the label is not binary-encoded, you will need to set the \"pos_label\" argument to be the label of the positive cases (\"Yes\" by default)."
   ]
  },
  {
   "cell_type": "code",
   "execution_count": 34,
   "id": "c7c6ae82-c573-4879-be05-bbeacbe00b65",
   "metadata": {},
   "outputs": [],
   "source": [
    "marks['Q11'] = 2"
   ]
  },
  {
   "cell_type": "code",
   "execution_count": 35,
   "id": "9a7058ca-1c2a-41b3-a4e4-bca19c68ae85",
   "metadata": {},
   "outputs": [],
   "source": [
    "train_yhat = model.predict(train_x)\n",
    "test_yhat = model.predict(test_x)"
   ]
  },
  {
   "cell_type": "code",
   "execution_count": 36,
   "id": "fdd5d036-23b5-4033-a217-9c42695c3651",
   "metadata": {},
   "outputs": [
    {
     "data": {
      "text/plain": [
       "0.5621970920840065"
      ]
     },
     "execution_count": 36,
     "metadata": {},
     "output_type": "execute_result"
    }
   ],
   "source": [
    "metrics.f1_score(train_y, train_yhat, pos_label='Yes')"
   ]
  },
  {
   "cell_type": "code",
   "execution_count": 37,
   "id": "d1956f9a-4fa2-483d-923c-a8a64f61a0e8",
   "metadata": {},
   "outputs": [
    {
     "data": {
      "text/plain": [
       "0.5614035087719298"
      ]
     },
     "execution_count": 37,
     "metadata": {},
     "output_type": "execute_result"
    }
   ],
   "source": [
    "metrics.f1_score(test_y, test_yhat, pos_label='Yes')"
   ]
  },
  {
   "cell_type": "markdown",
   "id": "ee046225-700a-4f0f-84bd-1d6a390447e6",
   "metadata": {},
   "source": [
    "### Q12\n",
    "Re-build the decision tree classifier by setting max_depth = 1 to 10.<br>\n",
    "Keep other parameters the same.<br>\n",
    "\n",
    "Report the training F1-score and the test F1-score in the follow format. A screenshot is accetapble.<br>\n",
    "Is there a sign of overfitting? If so, from which max_depth onwards?"
   ]
  },
  {
   "cell_type": "code",
   "execution_count": 38,
   "id": "ea3a092b-9729-4b38-b292-fb5afe6c836d",
   "metadata": {},
   "outputs": [],
   "source": [
    "marks['Q12'] = 5\n",
    "\n",
    "# There is a sign of overfitting from max_depth = 5"
   ]
  },
  {
   "cell_type": "code",
   "execution_count": 39,
   "id": "8243bc51-0edb-491b-8215-8275a541aee1",
   "metadata": {},
   "outputs": [
    {
     "data": {
      "text/html": [
       "<div>\n",
       "<style scoped>\n",
       "    .dataframe tbody tr th:only-of-type {\n",
       "        vertical-align: middle;\n",
       "    }\n",
       "\n",
       "    .dataframe tbody tr th {\n",
       "        vertical-align: top;\n",
       "    }\n",
       "\n",
       "    .dataframe thead th {\n",
       "        text-align: right;\n",
       "    }\n",
       "</style>\n",
       "<table border=\"1\" class=\"dataframe\">\n",
       "  <thead>\n",
       "    <tr style=\"text-align: right;\">\n",
       "      <th></th>\n",
       "      <th>max_depth</th>\n",
       "      <th>train_f1</th>\n",
       "      <th>test_f1</th>\n",
       "    </tr>\n",
       "  </thead>\n",
       "  <tbody>\n",
       "    <tr>\n",
       "      <th>0</th>\n",
       "      <td>2</td>\n",
       "      <td>0.562197</td>\n",
       "      <td>0.561404</td>\n",
       "    </tr>\n",
       "    <tr>\n",
       "      <th>1</th>\n",
       "      <td>3</td>\n",
       "      <td>0.648705</td>\n",
       "      <td>0.660326</td>\n",
       "    </tr>\n",
       "    <tr>\n",
       "      <th>2</th>\n",
       "      <td>4</td>\n",
       "      <td>0.644428</td>\n",
       "      <td>0.644874</td>\n",
       "    </tr>\n",
       "    <tr>\n",
       "      <th>3</th>\n",
       "      <td>5</td>\n",
       "      <td>0.692174</td>\n",
       "      <td>0.652720</td>\n",
       "    </tr>\n",
       "    <tr>\n",
       "      <th>4</th>\n",
       "      <td>6</td>\n",
       "      <td>0.675755</td>\n",
       "      <td>0.640580</td>\n",
       "    </tr>\n",
       "    <tr>\n",
       "      <th>5</th>\n",
       "      <td>7</td>\n",
       "      <td>0.701556</td>\n",
       "      <td>0.646154</td>\n",
       "    </tr>\n",
       "    <tr>\n",
       "      <th>6</th>\n",
       "      <td>8</td>\n",
       "      <td>0.702241</td>\n",
       "      <td>0.638298</td>\n",
       "    </tr>\n",
       "    <tr>\n",
       "      <th>7</th>\n",
       "      <td>9</td>\n",
       "      <td>0.708451</td>\n",
       "      <td>0.633663</td>\n",
       "    </tr>\n",
       "    <tr>\n",
       "      <th>8</th>\n",
       "      <td>10</td>\n",
       "      <td>0.711424</td>\n",
       "      <td>0.632768</td>\n",
       "    </tr>\n",
       "  </tbody>\n",
       "</table>\n",
       "</div>"
      ],
      "text/plain": [
       "   max_depth  train_f1   test_f1\n",
       "0          2  0.562197  0.561404\n",
       "1          3  0.648705  0.660326\n",
       "2          4  0.644428  0.644874\n",
       "3          5  0.692174  0.652720\n",
       "4          6  0.675755  0.640580\n",
       "5          7  0.701556  0.646154\n",
       "6          8  0.702241  0.638298\n",
       "7          9  0.708451  0.633663\n",
       "8         10  0.711424  0.632768"
      ]
     },
     "execution_count": 39,
     "metadata": {},
     "output_type": "execute_result"
    }
   ],
   "source": [
    "dt_f1_df = []\n",
    "\n",
    "for i in range(2, 11):\n",
    "    model = DecisionTreeClassifier(criterion='gini', max_depth=i, min_samples_split=100)\n",
    "    model.fit(train_x, train_y)\n",
    "    \n",
    "    train_yhat = model.predict(train_x)\n",
    "    test_yhat = model.predict(test_x)\n",
    "\n",
    "    train_f1 = metrics.f1_score(train_y, train_yhat, pos_label='Yes')\n",
    "    test_f1 = metrics.f1_score(test_y, test_yhat, pos_label='Yes')\n",
    "    \n",
    "    dt_f1_df.append([i, train_f1, test_f1])\n",
    "\n",
    "dt_f1_df = pd.DataFrame(dt_f1_df, columns=['max_depth', 'train_f1', 'test_f1'])\n",
    "dt_f1_df"
   ]
  },
  {
   "cell_type": "code",
   "execution_count": 40,
   "id": "81555c49-9165-4188-91d2-deb269d4145a",
   "metadata": {},
   "outputs": [
    {
     "data": {
      "text/plain": [
       "[<matplotlib.lines.Line2D at 0x1e4fae5e990>]"
      ]
     },
     "execution_count": 40,
     "metadata": {},
     "output_type": "execute_result"
    },
    {
     "data": {
      "image/png": "[encoded data removed]",
      "text/plain": [
       "<Figure size 640x480 with 1 Axes>"
      ]
     },
     "metadata": {},
     "output_type": "display_data"
    }
   ],
   "source": [
    "plt.plot(dt_f1_df['max_depth'], dt_f1_df['train_f1'])\n",
    "plt.plot(dt_f1_df['max_depth'], dt_f1_df['test_f1'])"
   ]
  },
  {
   "cell_type": "markdown",
   "id": "f8f003f8-c313-4c70-a35e-9d5cf3eccc38",
   "metadata": {},
   "source": [
    "### Q13\n",
    "If we perform a manual feature selection for the decision tree classifier, will it potentially improve the training performance? Will it potentially improve the test performance? Justify your answer."
   ]
  },
  {
   "cell_type": "code",
   "execution_count": 41,
   "id": "6449d4e7-5be8-44ea-84bd-5793ad91715e",
   "metadata": {},
   "outputs": [],
   "source": [
    "marks['Q13'] = 3"
   ]
  },
  {
   "cell_type": "markdown",
   "id": "7a7ce960-5735-43d3-88d3-e5a6b32e130a",
   "metadata": {},
   "source": [
    "### Q14 - k-Nearest Neighbors classifier\n",
    "Build a k-nearest neighbors classifier using sklearn.neighbors.KNeighborsClassifier().<br>\n",
    "Set k=5.<br>\n",
    "\n",
    "Report the training F1-score and the test F1-score."
   ]
  },
  {
   "cell_type": "code",
   "execution_count": 42,
   "id": "c3cb39aa-d1e8-47ca-9578-0fc47b6ff9f6",
   "metadata": {},
   "outputs": [],
   "source": [
    "marks['Q14'] = 3"
   ]
  },
  {
   "cell_type": "code",
   "execution_count": 43,
   "id": "2e621189-7cf1-4432-bf24-603603f64c2f",
   "metadata": {},
   "outputs": [],
   "source": [
    "from sklearn.neighbors import KNeighborsClassifier"
   ]
  },
  {
   "cell_type": "code",
   "execution_count": 44,
   "id": "05f60b19",
   "metadata": {},
   "outputs": [
    {
     "name": "stdout",
     "output_type": "stream",
     "text": [
      "kNN without normalization: 0.5577085088458298 0.39451114922813035\n"
     ]
    }
   ],
   "source": [
    "k = 5\n",
    "\n",
    "model = KNeighborsClassifier(n_neighbors=k)\n",
    "model.fit(train_x.values, train_y)\n",
    "\n",
    "train_yhat = model.predict(train_x.values)\n",
    "test_yhat = model.predict(test_x.values)\n",
    "\n",
    "train_f1 = metrics.f1_score(train_y, train_yhat, pos_label='Yes')\n",
    "test_f1 = metrics.f1_score(test_y, test_yhat, pos_label='Yes')\n",
    "\n",
    "print('kNN without normalization:', train_f1, test_f1)"
   ]
  },
  {
   "cell_type": "markdown",
   "id": "bc047744-b4c1-41f7-9962-6b6fcf16ee6d",
   "metadata": {},
   "source": [
    "### Q15\n",
    "Perform the min-max normalization on all variables.<br>\n",
    "On which variable(s) does the normalization truly take effect?\n",
    "\n",
    "Note: Do not overwrite the original set as they will still be used later."
   ]
  },
  {
   "cell_type": "code",
   "execution_count": 45,
   "id": "42306145-da4b-4f3e-869f-f790dbb7e0ab",
   "metadata": {},
   "outputs": [],
   "source": [
    "marks['Q15'] = 2\n",
    "\n",
    "# The min-max normalization only takes effect on the numeric variables as all categorical variables have been one-hot encoded."
   ]
  },
  {
   "cell_type": "code",
   "execution_count": 46,
   "id": "da2e0676-dfb2-48d4-8dbd-310178beb0d8",
   "metadata": {},
   "outputs": [],
   "source": [
    "from sklearn.preprocessing import MinMaxScaler\n",
    "\n",
    "normalizer = MinMaxScaler()\n",
    "\n",
    "normalizer.fit(train_x)\n",
    "\n",
    "train_x_norm = normalizer.transform(train_x)\n",
    "test_x_norm = normalizer.transform(test_x)"
   ]
  },
  {
   "cell_type": "markdown",
   "id": "7192318f-126b-4d33-9297-26280f82df60",
   "metadata": {},
   "source": [
    "### Q16\n",
    "Re-build the k-nearest neighbors classifier using the normalized set.<br>\n",
    "\n",
    "Report the training F1-score and the test F1-score.<br>"
   ]
  },
  {
   "cell_type": "code",
   "execution_count": 47,
   "id": "006e13fe-ba88-4021-b925-f3573d7e26db",
   "metadata": {},
   "outputs": [],
   "source": [
    "marks['Q16'] = 2"
   ]
  },
  {
   "cell_type": "code",
   "execution_count": 48,
   "id": "ce0fc2a8",
   "metadata": {},
   "outputs": [
    {
     "name": "stdout",
     "output_type": "stream",
     "text": [
      "kNN with normalization: 0.35591603053435117 0.1603053435114504\n"
     ]
    }
   ],
   "source": [
    "model = KNeighborsClassifier(n_neighbors=k)\n",
    "model.fit(train_x_norm, train_y)\n",
    "\n",
    "train_yhat_norm = model.predict(train_x_norm)\n",
    "test_yhat_norm = model.predict(test_x_norm)\n",
    "\n",
    "train_f1 = metrics.f1_score(train_y, train_yhat_norm, pos_label='Yes')\n",
    "test_f1 = metrics.f1_score(test_y, test_yhat_norm, pos_label='Yes')\n",
    "\n",
    "print('kNN with normalization:', train_f1, test_f1)"
   ]
  },
  {
   "cell_type": "markdown",
   "id": "59dc4e3d-6b3f-4bc3-9dda-c5b3bfd8b2ce",
   "metadata": {},
   "source": [
    "### Q17\n",
    "Compare them to the results in Q14 (using the original set) and Q16 (using the normalized set).<br>\n",
    "Does the normalization improve the results? Suggest possible reasons."
   ]
  },
  {
   "cell_type": "code",
   "execution_count": 49,
   "id": "e52f3ccd-fc3e-49e5-ae8c-0eec2a66a567",
   "metadata": {},
   "outputs": [],
   "source": [
    "marks['Q17'] = 3\n",
    "\n",
    "# The normalization did not improve the result.\n",
    "# Min-max normalization is sensitive to extreme outliers.\n",
    "# The normalization will convert all numeric variables to the same scale.\n",
    "# As such, they will share the same weight in the distance calculation.\n",
    "# However, it may not be reasonable to assume equal importance among all variables."
   ]
  },
  {
   "cell_type": "markdown",
   "id": "588f7f9c-879f-4962-9d62-5833ce15a2e4",
   "metadata": {},
   "source": [
    "### Q18 - Naive Bayes\n",
    "Build a naive bayes classifier using sklearn.naive_bayes.CategoricalNB(), .GaussianNB() and .MultinomialNB().<br>\n",
    "Use all default parameters (i.e., no input argument needed).\n",
    "\n",
    "Report the training F1-score and the test F1-score.<br>\n",
    "Which model performs the best on the test set? Suggest possible reasons."
   ]
  },
  {
   "cell_type": "code",
   "execution_count": 50,
   "id": "df37191e-df58-4a7a-aeac-725d93892eec",
   "metadata": {},
   "outputs": [],
   "source": [
    "marks['Q18'] = 5"
   ]
  },
  {
   "cell_type": "code",
   "execution_count": 51,
   "id": "49d94df6-8ebd-4c36-bc9a-9b4e52a4d958",
   "metadata": {},
   "outputs": [],
   "source": [
    "from sklearn.naive_bayes import CategoricalNB, GaussianNB, MultinomialNB"
   ]
  },
  {
   "cell_type": "code",
   "execution_count": 52,
   "id": "ff8046ac-b318-40aa-a84d-4b7d645fb5e4",
   "metadata": {},
   "outputs": [
    {
     "name": "stdout",
     "output_type": "stream",
     "text": [
      "CategoricalNB 0.41584158415841593 0.19148936170212766\n",
      "GaussianNB 0.36442921663292316 0.3585858585858586\n",
      "MultinomialNB 0.25424628450106157 0.25382932166301964\n"
     ]
    }
   ],
   "source": [
    "models = {'CategoricalNB': CategoricalNB(), 'GaussianNB': GaussianNB(), 'MultinomialNB': MultinomialNB()}\n",
    "\n",
    "for key in models.keys():\n",
    "    model = models[key]\n",
    "    model.fit(train_x, train_y)\n",
    "    \n",
    "    train_yhat = model.predict(train_x)\n",
    "    test_yhat = model.predict(test_x)\n",
    "    \n",
    "    train_f1 = metrics.f1_score(train_y, train_yhat, pos_label='Yes')\n",
    "    test_f1 = metrics.f1_score(test_y, test_yhat, pos_label='Yes')\n",
    "    \n",
    "    print(key, train_f1, test_f1)"
   ]
  },
  {
   "cell_type": "markdown",
   "id": "d63abb8c-15d4-4c1e-9625-81acde1dbf68",
   "metadata": {},
   "source": [
    "### Q19\n",
    "Which model performs the best on the test set? Suggest possible reasons."
   ]
  },
  {
   "cell_type": "code",
   "execution_count": 53,
   "id": "20d4474a-3a02-4091-b288-cea952c03414",
   "metadata": {},
   "outputs": [],
   "source": [
    "marks['Q19'] = 5\n",
    "\n",
    "# GaussianNB performed the best."
   ]
  },
  {
   "cell_type": "markdown",
   "id": "9578ff7a-5db9-4281-a658-eff9874fbcb5",
   "metadata": {},
   "source": [
    "### Q20 - Logistic Regression\n",
    "Build a logistic regression classifier using sklearn.linear_model.LogisticRegression().<br>\n",
    "Use all default parameters (i.e., no input argument needed).<br>\n",
    "\n",
    "Report the training F1-score and the test F1-score."
   ]
  },
  {
   "cell_type": "code",
   "execution_count": 54,
   "id": "19c29bc1-c5f6-4b83-9fb5-e6c38601d107",
   "metadata": {},
   "outputs": [],
   "source": [
    "marks['Q20'] = 5"
   ]
  },
  {
   "cell_type": "code",
   "execution_count": 55,
   "id": "c874b598-4baf-469b-a548-981bcc8e5759",
   "metadata": {},
   "outputs": [],
   "source": [
    "from sklearn.linear_model import LogisticRegression"
   ]
  },
  {
   "cell_type": "code",
   "execution_count": 56,
   "id": "553a819f-7a4c-4fcb-b5e2-d6e5bce7724c",
   "metadata": {},
   "outputs": [
    {
     "name": "stdout",
     "output_type": "stream",
     "text": [
      "Logistic Regression: 0.029077117572692796 0.015267175572519083\n"
     ]
    },
    {
     "name": "stderr",
     "output_type": "stream",
     "text": [
      "D:\\anaconda3\\Lib\\site-packages\\sklearn\\linear_model\\_logistic.py:460: ConvergenceWarning: lbfgs failed to converge (status=1):\n",
      "STOP: TOTAL NO. of ITERATIONS REACHED LIMIT.\n",
      "\n",
      "Increase the number of iterations (max_iter) or scale the data as shown in:\n",
      "    https://scikit-learn.org/stable/modules/preprocessing.html\n",
      "Please also refer to the documentation for alternative solver options:\n",
      "    https://scikit-learn.org/stable/modules/linear_model.html#logistic-regression\n",
      "  n_iter_i = _check_optimize_result(\n"
     ]
    }
   ],
   "source": [
    "model = LogisticRegression()\n",
    "model.fit(train_x[numeric_columns], train_y)\n",
    "\n",
    "train_yhat = model.predict(train_x[numeric_columns])\n",
    "test_yhat = model.predict(test_x[numeric_columns])\n",
    "\n",
    "train_f1 = metrics.f1_score(train_y, train_yhat, pos_label='Yes')\n",
    "test_f1 = metrics.f1_score(test_y, test_yhat, pos_label='Yes')\n",
    "\n",
    "print('Logistic Regression:', train_f1, test_f1)"
   ]
  },
  {
   "cell_type": "markdown",
   "id": "64fbf3dd-59fe-4d78-85d5-613ee7089815",
   "metadata": {},
   "source": [
    "### Q21\n",
    "Does logistic regression perform well compared to other models? Suggest possible reasons."
   ]
  },
  {
   "cell_type": "code",
   "execution_count": 57,
   "id": "8d2ccf90-dd3f-48c8-8563-e6ca2c60279f",
   "metadata": {},
   "outputs": [],
   "source": [
    "marks['Q21'] = 5\n",
    "\n",
    "# As shown in Q8, there is no variable presenting strong linear separability between the positive samples and the negative samples."
   ]
  },
  {
   "cell_type": "markdown",
   "id": "7d8bf25e-27e0-46ad-ac86-9203abea1930",
   "metadata": {},
   "source": [
    "### Q22\n",
    "Which model is the best one so far?<br>\n",
    "Construct the confusion matrix for the test prediction."
   ]
  },
  {
   "cell_type": "code",
   "execution_count": 58,
   "id": "067d03db-ae03-4037-ab37-c9717ff7f8c6",
   "metadata": {},
   "outputs": [],
   "source": [
    "marks['Q22'] = 3"
   ]
  },
  {
   "cell_type": "code",
   "execution_count": 59,
   "id": "fdc33048-8eaa-4853-be98-1066cecbfb56",
   "metadata": {},
   "outputs": [
    {
     "data": {
      "text/plain": [
       "array([[1973,  111],\n",
       "       [ 139,  243]], dtype=int64)"
      ]
     },
     "execution_count": 59,
     "metadata": {},
     "output_type": "execute_result"
    }
   ],
   "source": [
    "model = DecisionTreeClassifier(criterion='gini', max_depth=3, min_samples_split=100)\n",
    "model.fit(train_x, train_y)\n",
    "\n",
    "test_yhat = model.predict(test_x)\n",
    "\n",
    "metrics.confusion_matrix(test_y, test_yhat)"
   ]
  },
  {
   "cell_type": "markdown",
   "id": "1e56665a-7570-4c5f-9256-128e7f0bcc9a",
   "metadata": {},
   "source": [
    "### Q23\n",
    "In general, we want to decrease the number of false positive and false negative. However, most of the time, error is inevitable.\n",
    "\n",
    "If we have to make a trade-off between false positive and false negative (i.e., when we manage to increase one, the other will inevitably decrease), which one will we prefer to reduce more? Relate to the context and justify your answer."
   ]
  },
  {
   "cell_type": "code",
   "execution_count": 60,
   "id": "947753e1-4256-43ad-80fe-89b55f9df77f",
   "metadata": {},
   "outputs": [],
   "source": [
    "marks['Q23'] = 3\n",
    "\n",
    "# When we incur a false positive, we may send the sales advertisement to the customers who will not make the purchase.\n",
    "# When we incur a false negative, we may potentially lose one customer as we think he will not make the purchase.\n",
    "# Generally speaking, each sales should be able to cover the expense on advertisement to multiple customer."
   ]
  },
  {
   "cell_type": "markdown",
   "id": "33b71b23-3800-4685-a407-3b60f76fbc47",
   "metadata": {},
   "source": [
    "### Q24\n",
    "Use the best model to predict the confidence/probability of being positive for each test sample.<br>\n",
    "Hint: Instead of using .predict() method, you will need to use .predict_proba()\n",
    "\n",
    "Use the threshold of 0.5 (if the confidence is greater than 0.5, predict it as positive) to make the prediction.<br>\n",
    "Construct a confusion matrix and verify that it is the same as the one constructed in Q22."
   ]
  },
  {
   "cell_type": "code",
   "execution_count": 61,
   "id": "8186a11c-768a-4ab7-9c45-8c5bf3cfecb8",
   "metadata": {},
   "outputs": [],
   "source": [
    "marks['Q24'] = 4\n",
    "\n",
    "# LIC to check in the code"
   ]
  },
  {
   "cell_type": "code",
   "execution_count": 62,
   "id": "ea282c9d-a8d3-4b81-9277-17995ba452c7",
   "metadata": {},
   "outputs": [
    {
     "data": {
      "text/plain": [
       "array([[1973,  111],\n",
       "       [ 139,  243]], dtype=int64)"
      ]
     },
     "execution_count": 62,
     "metadata": {},
     "output_type": "execute_result"
    }
   ],
   "source": [
    "model = DecisionTreeClassifier(criterion='gini', max_depth=3, min_samples_split=100)\n",
    "model.fit(train_x, train_y)\n",
    "\n",
    "test_yhat_proba = model.predict_proba(test_x)[:, 1]\n",
    "test_yhat = ['Yes' if proba > 0.5 else 'No' for proba in test_yhat_proba]\n",
    "\n",
    "metrics.confusion_matrix(test_y, test_yhat)"
   ]
  },
  {
   "cell_type": "markdown",
   "id": "a01110c0-feb3-4508-9135-093cfb86b91b",
   "metadata": {},
   "source": [
    "### Q25\n",
    "Assuming the following cost-and-return schemes:\n",
    "- Whenever we make a predict on one customer, it will incur \\$1 expense for the computational power\n",
    "- If the customer is predicted to make the purchase, a targeted advertisement will be pushed to him/her, incurring a cost of \\$5.\n",
    "- If the customer makes the purchase, it will earn \\$50.\n",
    "- If the customer does not make the purchase, it will not earn anything.\n",
    "\n",
    "Use the threshold of 0.25 and 0.75 to make the 2 more sets of test prediction.<br>\n",
    "\n",
    "What is the return if we follow each prediction set?"
   ]
  },
  {
   "cell_type": "code",
   "execution_count": 63,
   "id": "4e21f589-8ad1-4261-9bcd-f00bc1871a9a",
   "metadata": {},
   "outputs": [],
   "source": [
    "marks['Q25'] = 10"
   ]
  },
  {
   "cell_type": "code",
   "execution_count": 64,
   "id": "54646242-7139-44a0-9268-7aa8202a7554",
   "metadata": {},
   "outputs": [],
   "source": [
    "cost_return_matrix = [[-1, -6], [-1, 44]]"
   ]
  },
  {
   "cell_type": "code",
   "execution_count": 65,
   "id": "60a74e23-6968-4db8-8ec3-e57d1e4dac86",
   "metadata": {},
   "outputs": [
    {
     "name": "stdout",
     "output_type": "stream",
     "text": [
      "Prediction with 0.25 threshold:\n",
      "[[1862  222]\n",
      " [  80  302]]\n",
      "\tReturn: 10014\n",
      "Prediction with 0.75 threshold:\n",
      "[[2048   36]\n",
      " [ 241  141]]\n",
      "\tReturn: 3699\n"
     ]
    }
   ],
   "source": [
    "model = DecisionTreeClassifier(criterion='gini', max_depth=3, min_samples_split=100)\n",
    "model.fit(train_x, train_y)\n",
    "\n",
    "test_yhat_proba = model.predict_proba(test_x)[:, 1]\n",
    "test_yhat1 = ['Yes' if proba > 0.25 else 'No' for proba in test_yhat_proba]\n",
    "test_yhat2 = ['Yes' if proba > 0.75 else 'No' for proba in test_yhat_proba]\n",
    "\n",
    "print('Prediction with 0.25 threshold:')\n",
    "print(metrics.confusion_matrix(test_y, test_yhat1))\n",
    "print('\\tReturn:', (cost_return_matrix * metrics.confusion_matrix(test_y, test_yhat1)).sum())\n",
    "\n",
    "print('Prediction with 0.75 threshold:')\n",
    "print(metrics.confusion_matrix(test_y, test_yhat2))\n",
    "print('\\tReturn:', (cost_return_matrix * metrics.confusion_matrix(test_y, test_yhat2)).sum())"
   ]
  },
  {
   "cell_type": "markdown",
   "id": "e7f68b5d-2cc4-4eac-b328-2fbbf67d3f41",
   "metadata": {},
   "source": [
    "### Q26"
   ]
  },
  {
   "cell_type": "code",
   "execution_count": 66,
   "id": "43639fbd-609e-48c4-8b2a-75f50782a044",
   "metadata": {},
   "outputs": [],
   "source": [
    "marks['Q26'] = 5\n",
    "\n",
    "# Share your experience and reflection on this hackathon exercise"
   ]
  },
  {
   "cell_type": "markdown",
   "id": "de6cc71d-5454-40b9-969a-7f542812c458",
   "metadata": {},
   "source": [
    "# End"
   ]
  },
  {
   "cell_type": "code",
   "execution_count": 67,
   "id": "55c712f1-4a57-47c4-af8b-406ea51cb054",
   "metadata": {},
   "outputs": [
    {
     "data": {
      "text/html": [
       "<div>\n",
       "<style scoped>\n",
       "    .dataframe tbody tr th:only-of-type {\n",
       "        vertical-align: middle;\n",
       "    }\n",
       "\n",
       "    .dataframe tbody tr th {\n",
       "        vertical-align: top;\n",
       "    }\n",
       "\n",
       "    .dataframe thead th {\n",
       "        text-align: right;\n",
       "    }\n",
       "</style>\n",
       "<table border=\"1\" class=\"dataframe\">\n",
       "  <thead>\n",
       "    <tr style=\"text-align: right;\">\n",
       "      <th></th>\n",
       "      <th>Question</th>\n",
       "      <th>Mark</th>\n",
       "    </tr>\n",
       "  </thead>\n",
       "  <tbody>\n",
       "    <tr>\n",
       "      <th>0</th>\n",
       "      <td>Q01</td>\n",
       "      <td>2</td>\n",
       "    </tr>\n",
       "    <tr>\n",
       "      <th>1</th>\n",
       "      <td>Q02</td>\n",
       "      <td>2</td>\n",
       "    </tr>\n",
       "    <tr>\n",
       "      <th>2</th>\n",
       "      <td>Q03</td>\n",
       "      <td>2</td>\n",
       "    </tr>\n",
       "    <tr>\n",
       "      <th>3</th>\n",
       "      <td>Q04</td>\n",
       "      <td>2</td>\n",
       "    </tr>\n",
       "    <tr>\n",
       "      <th>4</th>\n",
       "      <td>Q05</td>\n",
       "      <td>5</td>\n",
       "    </tr>\n",
       "    <tr>\n",
       "      <th>5</th>\n",
       "      <td>Q06</td>\n",
       "      <td>5</td>\n",
       "    </tr>\n",
       "    <tr>\n",
       "      <th>6</th>\n",
       "      <td>Q07</td>\n",
       "      <td>5</td>\n",
       "    </tr>\n",
       "    <tr>\n",
       "      <th>7</th>\n",
       "      <td>Q08</td>\n",
       "      <td>5</td>\n",
       "    </tr>\n",
       "    <tr>\n",
       "      <th>8</th>\n",
       "      <td>Q09</td>\n",
       "      <td>2</td>\n",
       "    </tr>\n",
       "    <tr>\n",
       "      <th>9</th>\n",
       "      <td>Q10</td>\n",
       "      <td>5</td>\n",
       "    </tr>\n",
       "    <tr>\n",
       "      <th>10</th>\n",
       "      <td>Q11</td>\n",
       "      <td>2</td>\n",
       "    </tr>\n",
       "    <tr>\n",
       "      <th>11</th>\n",
       "      <td>Q12</td>\n",
       "      <td>5</td>\n",
       "    </tr>\n",
       "    <tr>\n",
       "      <th>12</th>\n",
       "      <td>Q13</td>\n",
       "      <td>3</td>\n",
       "    </tr>\n",
       "    <tr>\n",
       "      <th>13</th>\n",
       "      <td>Q14</td>\n",
       "      <td>3</td>\n",
       "    </tr>\n",
       "    <tr>\n",
       "      <th>14</th>\n",
       "      <td>Q15</td>\n",
       "      <td>2</td>\n",
       "    </tr>\n",
       "    <tr>\n",
       "      <th>15</th>\n",
       "      <td>Q16</td>\n",
       "      <td>2</td>\n",
       "    </tr>\n",
       "    <tr>\n",
       "      <th>16</th>\n",
       "      <td>Q17</td>\n",
       "      <td>3</td>\n",
       "    </tr>\n",
       "    <tr>\n",
       "      <th>17</th>\n",
       "      <td>Q18</td>\n",
       "      <td>5</td>\n",
       "    </tr>\n",
       "    <tr>\n",
       "      <th>18</th>\n",
       "      <td>Q19</td>\n",
       "      <td>5</td>\n",
       "    </tr>\n",
       "    <tr>\n",
       "      <th>19</th>\n",
       "      <td>Q20</td>\n",
       "      <td>5</td>\n",
       "    </tr>\n",
       "    <tr>\n",
       "      <th>20</th>\n",
       "      <td>Q21</td>\n",
       "      <td>5</td>\n",
       "    </tr>\n",
       "    <tr>\n",
       "      <th>21</th>\n",
       "      <td>Q22</td>\n",
       "      <td>3</td>\n",
       "    </tr>\n",
       "    <tr>\n",
       "      <th>22</th>\n",
       "      <td>Q23</td>\n",
       "      <td>3</td>\n",
       "    </tr>\n",
       "    <tr>\n",
       "      <th>23</th>\n",
       "      <td>Q24</td>\n",
       "      <td>4</td>\n",
       "    </tr>\n",
       "    <tr>\n",
       "      <th>24</th>\n",
       "      <td>Q25</td>\n",
       "      <td>10</td>\n",
       "    </tr>\n",
       "    <tr>\n",
       "      <th>25</th>\n",
       "      <td>Q26</td>\n",
       "      <td>5</td>\n",
       "    </tr>\n",
       "    <tr>\n",
       "      <th>26</th>\n",
       "      <td>Total</td>\n",
       "      <td>100</td>\n",
       "    </tr>\n",
       "  </tbody>\n",
       "</table>\n",
       "</div>"
      ],
      "text/plain": [
       "   Question  Mark\n",
       "0       Q01     2\n",
       "1       Q02     2\n",
       "2       Q03     2\n",
       "3       Q04     2\n",
       "4       Q05     5\n",
       "5       Q06     5\n",
       "6       Q07     5\n",
       "7       Q08     5\n",
       "8       Q09     2\n",
       "9       Q10     5\n",
       "10      Q11     2\n",
       "11      Q12     5\n",
       "12      Q13     3\n",
       "13      Q14     3\n",
       "14      Q15     2\n",
       "15      Q16     2\n",
       "16      Q17     3\n",
       "17      Q18     5\n",
       "18      Q19     5\n",
       "19      Q20     5\n",
       "20      Q21     5\n",
       "21      Q22     3\n",
       "22      Q23     3\n",
       "23      Q24     4\n",
       "24      Q25    10\n",
       "25      Q26     5\n",
       "26    Total   100"
      ]
     },
     "execution_count": 67,
     "metadata": {},
     "output_type": "execute_result"
    }
   ],
   "source": [
    "view_marks(marks)"
   ]
  }
 ],
 "metadata": {
  "kernelspec": {
   "display_name": "Python 3 (ipykernel)",
   "language": "python",
   "name": "python3"
  },
  "language_info": {
   "codemirror_mode": {
    "name": "ipython",
    "version": 3
   },
   "file_extension": ".py",
   "mimetype": "text/x-python",
   "name": "python",
   "nbconvert_exporter": "python",
   "pygments_lexer": "ipython3",
   "version": "3.11.5"
  }
 },
 "nbformat": 4,
 "nbformat_minor": 5
}
